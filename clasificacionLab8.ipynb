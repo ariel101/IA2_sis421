{
  "nbformat": 4,
  "nbformat_minor": 0,
  "metadata": {
    "colab": {
      "provenance": []
    },
    "kernelspec": {
      "name": "python3",
      "display_name": "Python 3"
    },
    "language_info": {
      "name": "python"
    }
  },
  "cells": [
    {
      "cell_type": "code",
      "execution_count": null,
      "metadata": {
        "id": "CShwsHuhn3uk"
      },
      "outputs": [],
      "source": [
        "pip install transformers datasets torch scikit-learn\n"
      ]
    },
    {
      "cell_type": "code",
      "source": [
        "import pandas as pd\n",
        "\n",
        "# Crear el dataset\n",
        "data = {\n",
        "    \"text\": [\n",
        "        \"REGLAMENTO GENERAL GRADUACION TECNOLOGIA-2015-VERSION FINAL\",\n",
        "        \"Políticas académicas\",\n",
        "        \"ESTATUTO-ORGANICO-USFX-2010\",\n",
        "        \"MODELO-ACADEMICO-2010\",\n",
        "        \"REG.-DE-LA-CARRERA-DEL-DOCENTE-INVESTIGADOR-USFX\",\n",
        "        \"REGLAMENTO-ESPECIFICO-SISTEMA-PROGRAMACION-OPERACIONES-2006\",\n",
        "        \"Reglamento-Pgaeng-Tecnologia-Usfx-Final\",\n",
        "        \"plan de estudios carreras sis cic dad tic\",\n",
        "        \"Reglamento Específico de Sanciones Disciplinarias\",\n",
        "        \"CONVOCATORIA_DE_BECAS_GESTION_2024_COMISION_DE_BIENESTAR\",\n",
        "    ],\n",
        "    \"label\": [0, 2, 1, 2, 0, 3, 0, 2, 3, 4]  # Etiquetas: 0: Académico, 1: Administrativo, etc.\n",
        "}\n",
        "\n",
        "# Convertir a DataFrame\n",
        "df = pd.DataFrame(data)\n",
        "print(df)\n"
      ],
      "metadata": {
        "id": "4cU6wB_EHvZu"
      },
      "execution_count": null,
      "outputs": []
    },
    {
      "cell_type": "code",
      "source": [
        "from sklearn.model_selection import train_test_split\n",
        "\n",
        "# Dividir los datos en entrenamiento y pruebas\n",
        "train_texts, test_texts, train_labels, test_labels = train_test_split(\n",
        "    df[\"text\"], df[\"label\"], test_size=0.2, random_state=42\n",
        ")\n"
      ],
      "metadata": {
        "id": "kb4o_8vwHyNN"
      },
      "execution_count": null,
      "outputs": []
    },
    {
      "cell_type": "code",
      "source": [
        "from transformers import BertTokenizer\n",
        "\n",
        "# Cargar el tokenizador\n",
        "tokenizer = BertTokenizer.from_pretrained(\"bert-base-uncased\")\n",
        "\n",
        "# Tokenizar los textos\n",
        "train_encodings = tokenizer(list(train_texts), truncation=True, padding=True, max_length=128)\n",
        "test_encodings = tokenizer(list(test_texts), truncation=True, padding=True, max_length=128)\n"
      ],
      "metadata": {
        "id": "bQ1pCTbfH7GX"
      },
      "execution_count": null,
      "outputs": []
    },
    {
      "cell_type": "code",
      "source": [
        "#CONVERTIR LOS DAATOS EN TENSORES\n",
        "import torch\n",
        "\n",
        "# Convertir a formato tensor\n",
        "train_dataset = torch.utils.data.TensorDataset(\n",
        "    torch.tensor(train_encodings[\"input_ids\"]),\n",
        "    torch.tensor(train_labels)\n",
        ")\n",
        "\n",
        "test_dataset = torch.utils.data.TensorDataset(\n",
        "    torch.tensor(test_encodings[\"input_ids\"]),\n",
        "    torch.tensor(test_labels)\n",
        ")\n"
      ],
      "metadata": {
        "id": "yikxadcFIaaO"
      },
      "execution_count": null,
      "outputs": []
    },
    {
      "cell_type": "code",
      "source": [
        "#DEFINIMOS MODELO\n",
        "from transformers import BertForSequenceClassification\n",
        "\n",
        "# Modelo de clasificación con 5 etiquetas (cambia el número según tus categorías)\n",
        "model = BertForSequenceClassification.from_pretrained(\"bert-base-uncased\", num_labels=5)\n"
      ],
      "metadata": {
        "id": "EH6wb--AIc03"
      },
      "execution_count": null,
      "outputs": []
    },
    {
      "cell_type": "code",
      "source": [
        "#ENTRENAMIENTO\n",
        "from transformers import Trainer, TrainingArguments\n",
        "\n",
        "# Configuración del entrenamiento\n",
        "training_args = TrainingArguments(\n",
        "    output_dir=\"./results\",\n",
        "    num_train_epochs=3,\n",
        "    per_device_train_batch_size=8,\n",
        "    per_device_eval_batch_size=8,\n",
        "    evaluation_strategy=\"epoch\",\n",
        "    save_strategy=\"epoch\",\n",
        "    logging_dir=\"./logs\",\n",
        "    learning_rate=2e-5,\n",
        ")\n",
        "\n",
        "trainer = Trainer(\n",
        "    model=model,\n",
        "    args=training_args,\n",
        "    train_dataset=train_dataset,\n",
        "    eval_dataset=test_dataset,\n",
        ")\n"
      ],
      "metadata": {
        "id": "Q9jHYdPdIfrv"
      },
      "execution_count": null,
      "outputs": []
    },
    {
      "cell_type": "code",
      "source": [
        "#ENTRENAMIENTO\n",
        "\n",
        "trainer.train()\n"
      ],
      "metadata": {
        "id": "sq1nqfhuI3qm"
      },
      "execution_count": null,
      "outputs": []
    },
    {
      "cell_type": "code",
      "source": [
        "#EVALUAR MODELO\n",
        "\n",
        "from sklearn.metrics import classification_report\n",
        "\n",
        "# Hacer predicciones\n",
        "predictions = trainer.predict(test_dataset)\n",
        "pred_labels = predictions.predictions.argmax(axis=1)\n",
        "\n",
        "# Reporte de clasificación\n",
        "print(classification_report(test_labels, pred_labels))\n"
      ],
      "metadata": {
        "id": "YI2QceZYI_Uf"
      },
      "execution_count": null,
      "outputs": []
    },
    {
      "cell_type": "code",
      "source": [
        "#USAR MODELO PARA PREDICCIONES\n",
        "\n",
        "new_texts = [\"REGLAMENTO LABORATORIO FISICA\", \"Código de conducta SCETIC\"]\n",
        "new_encodings = tokenizer(new_texts, truncation=True, padding=True, max_length=128, return_tensors=\"pt\")\n",
        "\n",
        "# Obtener predicciones\n",
        "outputs = model(**new_encodings)\n",
        "predictions = torch.argmax(outputs.logits, dim=1)\n",
        "\n",
        "print(predictions)  # Muestra la categoría predicha\n"
      ],
      "metadata": {
        "id": "s3XKsb43JD_2"
      },
      "execution_count": null,
      "outputs": []
    }
  ]
}