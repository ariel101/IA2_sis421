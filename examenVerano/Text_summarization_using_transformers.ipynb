{
  "cells": [
    {
      "cell_type": "markdown",
      "metadata": {
        "id": "sNCDmCizqq6l"
      },
      "source": [
        "## Import the dependencies"
      ]
    },
    {
      "cell_type": "code",
      "execution_count": 69,
      "metadata": {
        "colab": {
          "base_uri": "https://localhost:8080/"
        },
        "collapsed": true,
        "id": "ZjsVoVCNexrG",
        "outputId": "4e7d3509-4a98-4ec7-b47d-1aeaeca6df17"
      },
      "outputs": [],
      "source": [
        "#!pip install contractions"
      ]
    },
    {
      "cell_type": "code",
      "execution_count": 70,
      "metadata": {
        "colab": {
          "base_uri": "https://localhost:8080/"
        },
        "collapsed": true,
        "id": "jWmBlFJQh8K0",
        "outputId": "9d731de0-93c7-4231-9d81-f90c4142051f"
      },
      "outputs": [],
      "source": [
        "import nltk\n",
        "#nltk.download('all')"
      ]
    },
    {
      "cell_type": "code",
      "execution_count": 71,
      "metadata": {
        "colab": {
          "base_uri": "https://localhost:8080/"
        },
        "id": "QyaHNaR2nr_Y",
        "outputId": "1f9e0be0-da55-4127-b0c9-a36183ff3822"
      },
      "outputs": [],
      "source": [
        "#!python -m spacy download es_core_news_sm"
      ]
    },
    {
      "cell_type": "code",
      "execution_count": 72,
      "metadata": {
        "id": "fb3b7110"
      },
      "outputs": [],
      "source": [
        "import torch\n",
        "import torch.nn as nn\n",
        "import torch.nn.functional as F\n",
        "import torch.optim as optim\n",
        "from torch.utils.data import DataLoader, Dataset\n",
        "from torch.nn.utils.rnn import pad_sequence\n",
        "from spacy.tokenizer import Tokenizer\n",
        "from sklearn.model_selection import train_test_split\n",
        "import pandas as pd\n",
        "import spacy\n",
        "import re\n",
        "import numpy as np\n",
        "import string\n",
        "import matplotlib.pyplot as plt\n",
        "import csv\n",
        "import contractions\n",
        "from nltk.corpus import stopwords\n",
        "from spacy.tokenizer import Tokenizer\n",
        "import random\n",
        "from tqdm import tqdm\n",
        "import math\n",
        "import warnings\n",
        "warnings.filterwarnings(\"ignore\")"
      ]
    },
    {
      "cell_type": "code",
      "execution_count": 73,
      "metadata": {
        "id": "Dj1O2ZJ0gDYQ"
      },
      "outputs": [],
      "source": [
        "pd.set_option('display.max_colwidth', None) # mostrar todo el texto de una celda"
      ]
    },
    {
      "cell_type": "code",
      "execution_count": 74,
      "metadata": {
        "colab": {
          "base_uri": "https://localhost:8080/"
        },
        "id": "hq5GNaAkbngF",
        "outputId": "f164df67-4007-441e-d839-649fd89a4f38"
      },
      "outputs": [
        {
          "name": "stdout",
          "output_type": "stream",
          "text": [
            "Using cuda\n"
          ]
        }
      ],
      "source": [
        "device = torch.device('cuda' if torch.cuda.is_available() else 'cpu')\n",
        "print(\"Using\",device)"
      ]
    },
    {
      "cell_type": "markdown",
      "metadata": {
        "id": "NjG29m8nqzit"
      },
      "source": [
        "## CARGAR EL DATASET"
      ]
    },
    {
      "cell_type": "code",
      "execution_count": 75,
      "metadata": {},
      "outputs": [],
      "source": [
        "# df1 = pd.read_csv(\"D:/SIS-421/textos/es_test.csv\",encoding='latin-1',usecols=['summary','text'])\n",
        "# df2 = pd.read_csv(\"D:/SIS-421/textos/es_train.csv\",encoding='latin-1', usecols=['summary','text'])"
      ]
    },
    {
      "cell_type": "code",
      "execution_count": 76,
      "metadata": {
        "id": "0vooAtvH8aRT"
      },
      "outputs": [],
      "source": [
        "df1 = pd.read_csv(\"D:/SIS-421/textos/test_half2.csv\",encoding='utf-8',usecols=['summary','text']) \n",
        "df2 = pd.read_csv(\"D:/SIS-421/textos/train_half2.csv\",encoding='utf-8', usecols=['summary','text'])"
      ]
    },
    {
      "cell_type": "code",
      "execution_count": 77,
      "metadata": {
        "colab": {
          "base_uri": "https://localhost:8080/",
          "height": 601
        },
        "id": "Cc7VXR3W-nHx",
        "outputId": "f3ea2f42-3079-4e9c-dfa3-ed2b3ca6d118"
      },
      "outputs": [
        {
          "data": {
            "text/html": [
              "<div>\n",
              "<style scoped>\n",
              "    .dataframe tbody tr th:only-of-type {\n",
              "        vertical-align: middle;\n",
              "    }\n",
              "\n",
              "    .dataframe tbody tr th {\n",
              "        vertical-align: top;\n",
              "    }\n",
              "\n",
              "    .dataframe thead th {\n",
              "        text-align: right;\n",
              "    }\n",
              "</style>\n",
              "<table border=\"1\" class=\"dataframe\">\n",
              "  <thead>\n",
              "    <tr style=\"text-align: right;\">\n",
              "      <th></th>\n",
              "      <th>text</th>\n",
              "      <th>summary</th>\n",
              "    </tr>\n",
              "  </thead>\n",
              "  <tbody>\n",
              "    <tr>\n",
              "      <th>0</th>\n",
              "      <td>Tráiler de 'Hasta siempre, hijo mío' En Hasta siempre, hijo mío, Wang Xiaoshuai -el realizador de La bicicleta de Pekín y Secretos de Shanghái- describe la vida de un matrimonio durante tres décadas en las que sufre diversas vicisitudes y desgracias. La película no está contada de forma lineal, sino que se estructura con numerosísimos flashbacks en sus 185 minutos. En su tramo final, el director revela un secreto de familia y otras sorpresas sentimentales que pillan con el paso cambiado a público y protagonistas del drama, mientras deja fluir el trabajo de la pareja protagonista, los actores Wang Jingchun, que encarna a un hombre bondadoso aunque con sus miserias y su alcoholismo, y Yong Mei -actriz que aparecía en The Assassin-, como una mujer contenida, a veces sobrepasada, siempre sincera. Gracias a sus trabajos lograron los Osos de Plata a Mejor Actor y Actriz de la pasada Berlinale y aquí tenemos su tráiler antes de que llegue a las salas españoles el próximo 27 de septiembre.</td>\n",
              "      <td>La película de Wang Xiaoshuai, que se estrena el 27 de septiembre, obtuvo los premios a mejor actor y mejor actriz en la última Berlinale</td>\n",
              "    </tr>\n",
              "  </tbody>\n",
              "</table>\n",
              "</div>"
            ],
            "text/plain": [
              "                                                                                                                                                                                                                                                                                                                                                                                                                                                                                                                                                                                                                                                                                                                                                                                                                                                                                                                                                                                                                                   text  \\\n",
              "0  Tráiler de 'Hasta siempre, hijo mío' En Hasta siempre, hijo mío, Wang Xiaoshuai -el realizador de La bicicleta de Pekín y Secretos de Shanghái- describe la vida de un matrimonio durante tres décadas en las que sufre diversas vicisitudes y desgracias. La película no está contada de forma lineal, sino que se estructura con numerosísimos flashbacks en sus 185 minutos. En su tramo final, el director revela un secreto de familia y otras sorpresas sentimentales que pillan con el paso cambiado a público y protagonistas del drama, mientras deja fluir el trabajo de la pareja protagonista, los actores Wang Jingchun, que encarna a un hombre bondadoso aunque con sus miserias y su alcoholismo, y Yong Mei -actriz que aparecía en The Assassin-, como una mujer contenida, a veces sobrepasada, siempre sincera. Gracias a sus trabajos lograron los Osos de Plata a Mejor Actor y Actriz de la pasada Berlinale y aquí tenemos su tráiler antes de que llegue a las salas españoles el próximo 27 de septiembre.   \n",
              "\n",
              "                                                                                                                                     summary  \n",
              "0  La película de Wang Xiaoshuai, que se estrena el 27 de septiembre, obtuvo los premios a mejor actor y mejor actriz en la última Berlinale  "
            ]
          },
          "execution_count": 77,
          "metadata": {},
          "output_type": "execute_result"
        }
      ],
      "source": [
        "df1.head(1) # muestra el primer registro de test"
      ]
    },
    {
      "cell_type": "code",
      "execution_count": 78,
      "metadata": {
        "colab": {
          "base_uri": "https://localhost:8080/"
        },
        "id": "_AwOKKrX-sci",
        "outputId": "8f9a3a4b-fb0f-483a-d417-280cb0c57daf"
      },
      "outputs": [
        {
          "data": {
            "text/plain": [
              "(580, 2)"
            ]
          },
          "execution_count": 78,
          "metadata": {},
          "output_type": "execute_result"
        }
      ],
      "source": [
        "# filas y colunmas\n",
        "df1.shape "
      ]
    },
    {
      "cell_type": "code",
      "execution_count": 79,
      "metadata": {
        "colab": {
          "base_uri": "https://localhost:8080/",
          "height": 601
        },
        "id": "BWijCfh1bGot",
        "outputId": "12864c56-ae9c-4a13-fb0f-7bd6565e8d6d"
      },
      "outputs": [
        {
          "data": {
            "text/html": [
              "<div>\n",
              "<style scoped>\n",
              "    .dataframe tbody tr th:only-of-type {\n",
              "        vertical-align: middle;\n",
              "    }\n",
              "\n",
              "    .dataframe tbody tr th {\n",
              "        vertical-align: top;\n",
              "    }\n",
              "\n",
              "    .dataframe thead th {\n",
              "        text-align: right;\n",
              "    }\n",
              "</style>\n",
              "<table border=\"1\" class=\"dataframe\">\n",
              "  <thead>\n",
              "    <tr style=\"text-align: right;\">\n",
              "      <th></th>\n",
              "      <th>text</th>\n",
              "      <th>summary</th>\n",
              "    </tr>\n",
              "  </thead>\n",
              "  <tbody>\n",
              "    <tr>\n",
              "      <th>0</th>\n",
              "      <td>Interior va a sufrir de nuevo un cambio de primer orden en su organigrama con el relevo de dos de los tres viceconsejeros que nombró Rodolfo Ares al llegar a la cartera hace poco más de dos años. El primero, el del viceconsejero de Administración y Servicio, Ernesto Martínez de Lahidalga, fue aprobado por el Consejo de Gobierno en su reunión de ayer. El segundo, el del viceconsejero de Seguridad, Rafael Iturriaga, ya está acordado también y se materializará en la reunión del Ejecutivo del próximo martes, según ha podido saber EL PAÍS. Esta última sustitución tiene un alto contenido político, ya que la persona elegida para hacerse cargo del puesto es el candidato socialista a la Diputación de Guipúzcoa, Miguel Buen. De los tres viceconsejeros nombrados por Ares permanecerá así en su cargo el de Interior, Raúl Fernández de Arroyabe. Medio Ambiente releva también a su viceconsejera Nieves Terán Los dos relevos llegan en un momento de tensión creciente en el departamento que acusan también otros niveles de menor responsabilidad. Y, junto a otro realizado ayer en Medio Ambiente, coinciden igualmente con el desastre electoral del PSE, que ha dejado a muchos de sus candidatos en la estacada, y con la reclamación de cambios desde las filas del partido y del propio Gobierno, como es el caso de la consejera de Empleo, Gemma Zabaleta. Lo que piden esas voces es, sobre todo, mayor perfil político propio, es decir, más partido en los altos cargos del Ejecutivo. Todo indica que habrá más relevos y que afectarán a varios departamentos. Respecto a cambios en las filas del propio Gobierno, el lehendakari, Patxi López, los ha descartado públicamente, al tiempo que se declaraba plenamente satisfecho de la gestión de todos sus integrantes. La portavoz, Idoia Mendia, se remitió ayer de nuevo a esa afirmación. El Gobierno se esforzó ayer en despojar los cambios de toda sombra de desavenencias. Mendia atribuyó el relevo de Martínez de Lahidalga a \"razones personales\", precisó que se realizó \"de común acuerdo\" con el departamento y reveló que aquel, en su día portavoz del sindicato policial Erne, remitió recientemente una carta al consejero expresándole \"su deseo de terminar su andadura en el Gobierno\". \"Hasta donde me consta, la relación es muy buena\", sostuvo Mendia, quien desmintió la existencia de desavenencias entre el hasta ahora viceconsejero y Ares. La portavoz sugirió que la decisión de Martínez de Lahidalga no es un fruto de la última semana. Fuentes de Interior negaron de modo tajante cualquier relación entre esta marcha y el conflicto en la Ertzaintza y consideraron el ecuador del mandato de un Gobierno como momento adecuado para realizar este tipo de cambios. Martínez de Lahidalga fue sustituido ayer mismo por la hasta ahora directora de Gestión Económica e Infraestructuras del departamento, Nélida Santos. Ares deberá dar explicaciones del cambio en el Parlamento, donde EA anunció ya que solicitará su comparecencia. El otro cambio anunciado ayer afecta a la viceconsejería de Medio Ambiente. Su hasta ahora responsable, Nieves Terán, cuyo cese también atribuyó Mendia a razones personales, será sustituida por Arantza Leturiondo, hasta ahora directora de Política Territorial en el Ayuntamiento de Basauri. El Gobierno cambió ya en su primer año de mandato a 22 altos cargos nombrados en la nueva etapa -seis viceconsejeros, 12 directores y cinco asesores-, que calificó como \"ajustes lógicos\" en cualquier organización a la que se somete por primera vez en 30 años a un relevo integral en su estructura. * Este artículo apareció en la edición impresa del Miércoles, 8 de junio de 2011</td>\n",
              "      <td>Miguel Buen reemplazará a Rafael Iturriaga como responsable de Seguridad</td>\n",
              "    </tr>\n",
              "  </tbody>\n",
              "</table>\n",
              "</div>"
            ],
            "text/plain": [
              "                                                                                                                                                                                                                                                                                                                                                                                                                                                                                                                                                                                                                                                                                                                                                                                                                                                                                                                                                                                                                                                                                                                                                                                                                                                                                                                                                                                                                                                                                                                                                                                                                                                                                                                                                                                                                                                                                                                                                                                                                                                                                                                                                                                                                                                                                                                                                                                                                                                                                                                                                                                                                                                                                                                                                                                                                                                                                                                                                                                                                                                                                                                                                                                                                                                                                                                                                                                                                                                                                                                                                                                                                                                                                                                                                                           text  \\\n",
              "0  Interior va a sufrir de nuevo un cambio de primer orden en su organigrama con el relevo de dos de los tres viceconsejeros que nombró Rodolfo Ares al llegar a la cartera hace poco más de dos años. El primero, el del viceconsejero de Administración y Servicio, Ernesto Martínez de Lahidalga, fue aprobado por el Consejo de Gobierno en su reunión de ayer. El segundo, el del viceconsejero de Seguridad, Rafael Iturriaga, ya está acordado también y se materializará en la reunión del Ejecutivo del próximo martes, según ha podido saber EL PAÍS. Esta última sustitución tiene un alto contenido político, ya que la persona elegida para hacerse cargo del puesto es el candidato socialista a la Diputación de Guipúzcoa, Miguel Buen. De los tres viceconsejeros nombrados por Ares permanecerá así en su cargo el de Interior, Raúl Fernández de Arroyabe. Medio Ambiente releva también a su viceconsejera Nieves Terán Los dos relevos llegan en un momento de tensión creciente en el departamento que acusan también otros niveles de menor responsabilidad. Y, junto a otro realizado ayer en Medio Ambiente, coinciden igualmente con el desastre electoral del PSE, que ha dejado a muchos de sus candidatos en la estacada, y con la reclamación de cambios desde las filas del partido y del propio Gobierno, como es el caso de la consejera de Empleo, Gemma Zabaleta. Lo que piden esas voces es, sobre todo, mayor perfil político propio, es decir, más partido en los altos cargos del Ejecutivo. Todo indica que habrá más relevos y que afectarán a varios departamentos. Respecto a cambios en las filas del propio Gobierno, el lehendakari, Patxi López, los ha descartado públicamente, al tiempo que se declaraba plenamente satisfecho de la gestión de todos sus integrantes. La portavoz, Idoia Mendia, se remitió ayer de nuevo a esa afirmación. El Gobierno se esforzó ayer en despojar los cambios de toda sombra de desavenencias. Mendia atribuyó el relevo de Martínez de Lahidalga a \"razones personales\", precisó que se realizó \"de común acuerdo\" con el departamento y reveló que aquel, en su día portavoz del sindicato policial Erne, remitió recientemente una carta al consejero expresándole \"su deseo de terminar su andadura en el Gobierno\". \"Hasta donde me consta, la relación es muy buena\", sostuvo Mendia, quien desmintió la existencia de desavenencias entre el hasta ahora viceconsejero y Ares. La portavoz sugirió que la decisión de Martínez de Lahidalga no es un fruto de la última semana. Fuentes de Interior negaron de modo tajante cualquier relación entre esta marcha y el conflicto en la Ertzaintza y consideraron el ecuador del mandato de un Gobierno como momento adecuado para realizar este tipo de cambios. Martínez de Lahidalga fue sustituido ayer mismo por la hasta ahora directora de Gestión Económica e Infraestructuras del departamento, Nélida Santos. Ares deberá dar explicaciones del cambio en el Parlamento, donde EA anunció ya que solicitará su comparecencia. El otro cambio anunciado ayer afecta a la viceconsejería de Medio Ambiente. Su hasta ahora responsable, Nieves Terán, cuyo cese también atribuyó Mendia a razones personales, será sustituida por Arantza Leturiondo, hasta ahora directora de Política Territorial en el Ayuntamiento de Basauri. El Gobierno cambió ya en su primer año de mandato a 22 altos cargos nombrados en la nueva etapa -seis viceconsejeros, 12 directores y cinco asesores-, que calificó como \"ajustes lógicos\" en cualquier organización a la que se somete por primera vez en 30 años a un relevo integral en su estructura. * Este artículo apareció en la edición impresa del Miércoles, 8 de junio de 2011   \n",
              "\n",
              "                                                                    summary  \n",
              "0  Miguel Buen reemplazará a Rafael Iturriaga como responsable de Seguridad  "
            ]
          },
          "execution_count": 79,
          "metadata": {},
          "output_type": "execute_result"
        }
      ],
      "source": [
        "df2.head(1) # muestra el primer registro de train"
      ]
    },
    {
      "cell_type": "code",
      "execution_count": 80,
      "metadata": {
        "colab": {
          "base_uri": "https://localhost:8080/"
        },
        "id": "zfVDFaFRIqnZ",
        "outputId": "efd64eb6-1095-4c8a-c029-3bc2ebdbd322"
      },
      "outputs": [
        {
          "data": {
            "text/plain": [
              "(3627, 2)"
            ]
          },
          "execution_count": 80,
          "metadata": {},
          "output_type": "execute_result"
        }
      ],
      "source": [
        "df2.shape "
      ]
    },
    {
      "cell_type": "code",
      "execution_count": 81,
      "metadata": {
        "id": "oYjAu737bWEX"
      },
      "outputs": [],
      "source": [
        "train_df = df2.copy() # copia de df2\n",
        "test_df = df1.copy()"
      ]
    },
    {
      "cell_type": "code",
      "execution_count": 82,
      "metadata": {
        "colab": {
          "base_uri": "https://localhost:8080/",
          "height": 227
        },
        "id": "_Rw6wyoibspG",
        "outputId": "c1b2de1b-b29c-49e8-986b-143d146d6157"
      },
      "outputs": [
        {
          "data": {
            "text/html": [
              "<div>\n",
              "<style scoped>\n",
              "    .dataframe tbody tr th:only-of-type {\n",
              "        vertical-align: middle;\n",
              "    }\n",
              "\n",
              "    .dataframe tbody tr th {\n",
              "        vertical-align: top;\n",
              "    }\n",
              "\n",
              "    .dataframe thead th {\n",
              "        text-align: right;\n",
              "    }\n",
              "</style>\n",
              "<table border=\"1\" class=\"dataframe\">\n",
              "  <thead>\n",
              "    <tr style=\"text-align: right;\">\n",
              "      <th></th>\n",
              "      <th>text</th>\n",
              "      <th>summary</th>\n",
              "    </tr>\n",
              "  </thead>\n",
              "  <tbody>\n",
              "    <tr>\n",
              "      <th>count</th>\n",
              "      <td>3627</td>\n",
              "      <td>3627</td>\n",
              "    </tr>\n",
              "    <tr>\n",
              "      <th>unique</th>\n",
              "      <td>3627</td>\n",
              "      <td>3625</td>\n",
              "    </tr>\n",
              "    <tr>\n",
              "      <th>top</th>\n",
              "      <td>Interior va a sufrir de nuevo un cambio de primer orden en su organigrama con el relevo de dos de los tres viceconsejeros que nombró Rodolfo Ares al llegar a la cartera hace poco más de dos años. El primero, el del viceconsejero de Administración y Servicio, Ernesto Martínez de Lahidalga, fue aprobado por el Consejo de Gobierno en su reunión de ayer. El segundo, el del viceconsejero de Seguridad, Rafael Iturriaga, ya está acordado también y se materializará en la reunión del Ejecutivo del próximo martes, según ha podido saber EL PAÍS. Esta última sustitución tiene un alto contenido político, ya que la persona elegida para hacerse cargo del puesto es el candidato socialista a la Diputación de Guipúzcoa, Miguel Buen. De los tres viceconsejeros nombrados por Ares permanecerá así en su cargo el de Interior, Raúl Fernández de Arroyabe. Medio Ambiente releva también a su viceconsejera Nieves Terán Los dos relevos llegan en un momento de tensión creciente en el departamento que acusan también otros niveles de menor responsabilidad. Y, junto a otro realizado ayer en Medio Ambiente, coinciden igualmente con el desastre electoral del PSE, que ha dejado a muchos de sus candidatos en la estacada, y con la reclamación de cambios desde las filas del partido y del propio Gobierno, como es el caso de la consejera de Empleo, Gemma Zabaleta. Lo que piden esas voces es, sobre todo, mayor perfil político propio, es decir, más partido en los altos cargos del Ejecutivo. Todo indica que habrá más relevos y que afectarán a varios departamentos. Respecto a cambios en las filas del propio Gobierno, el lehendakari, Patxi López, los ha descartado públicamente, al tiempo que se declaraba plenamente satisfecho de la gestión de todos sus integrantes. La portavoz, Idoia Mendia, se remitió ayer de nuevo a esa afirmación. El Gobierno se esforzó ayer en despojar los cambios de toda sombra de desavenencias. Mendia atribuyó el relevo de Martínez de Lahidalga a \"razones personales\", precisó que se realizó \"de común acuerdo\" con el departamento y reveló que aquel, en su día portavoz del sindicato policial Erne, remitió recientemente una carta al consejero expresándole \"su deseo de terminar su andadura en el Gobierno\". \"Hasta donde me consta, la relación es muy buena\", sostuvo Mendia, quien desmintió la existencia de desavenencias entre el hasta ahora viceconsejero y Ares. La portavoz sugirió que la decisión de Martínez de Lahidalga no es un fruto de la última semana. Fuentes de Interior negaron de modo tajante cualquier relación entre esta marcha y el conflicto en la Ertzaintza y consideraron el ecuador del mandato de un Gobierno como momento adecuado para realizar este tipo de cambios. Martínez de Lahidalga fue sustituido ayer mismo por la hasta ahora directora de Gestión Económica e Infraestructuras del departamento, Nélida Santos. Ares deberá dar explicaciones del cambio en el Parlamento, donde EA anunció ya que solicitará su comparecencia. El otro cambio anunciado ayer afecta a la viceconsejería de Medio Ambiente. Su hasta ahora responsable, Nieves Terán, cuyo cese también atribuyó Mendia a razones personales, será sustituida por Arantza Leturiondo, hasta ahora directora de Política Territorial en el Ayuntamiento de Basauri. El Gobierno cambió ya en su primer año de mandato a 22 altos cargos nombrados en la nueva etapa -seis viceconsejeros, 12 directores y cinco asesores-, que calificó como \"ajustes lógicos\" en cualquier organización a la que se somete por primera vez en 30 años a un relevo integral en su estructura. * Este artículo apareció en la edición impresa del Miércoles, 8 de junio de 2011</td>\n",
              "      <td>Más de 3.000 seguidores escoltaron al equipo a un estadio lleno de camisetas azulgrana</td>\n",
              "    </tr>\n",
              "    <tr>\n",
              "      <th>freq</th>\n",
              "      <td>1</td>\n",
              "      <td>2</td>\n",
              "    </tr>\n",
              "  </tbody>\n",
              "</table>\n",
              "</div>"
            ],
            "text/plain": [
              "                                                                                                                                                                                                                                                                                                                                                                                                                                                                                                                                                                                                                                                                                                                                                                                                                                                                                                                                                                                                                                                                                                                                                                                                                                                                                                                                                                                                                                                                                                                                                                                                                                                                                                                                                                                                                                                                                                                                                                                                                                                                                                                                                                                                                                                                                                                                                                                                                                                                                                                                                                                                                                                                                                                                                                                                                                                                                                                                                                                                                                                                                                                                                                                                                                                                                                                                                                                                                                                                                                                                                                                                                                                                                                                                                                                text  \\\n",
              "count                                                                                                                                                                                                                                                                                                                                                                                                                                                                                                                                                                                                                                                                                                                                                                                                                                                                                                                                                                                                                                                                                                                                                                                                                                                                                                                                                                                                                                                                                                                                                                                                                                                                                                                                                                                                                                                                                                                                                                                                                                                                                                                                                                                                                                                                                                                                                                                                                                                                                                                                                                                                                                                                                                                                                                                                                                                                                                                                                                                                                                                                                                                                                                                                                                                                                                                                                                                                                                                                                                                                                                                                                                                                                                                                                                           3627   \n",
              "unique                                                                                                                                                                                                                                                                                                                                                                                                                                                                                                                                                                                                                                                                                                                                                                                                                                                                                                                                                                                                                                                                                                                                                                                                                                                                                                                                                                                                                                                                                                                                                                                                                                                                                                                                                                                                                                                                                                                                                                                                                                                                                                                                                                                                                                                                                                                                                                                                                                                                                                                                                                                                                                                                                                                                                                                                                                                                                                                                                                                                                                                                                                                                                                                                                                                                                                                                                                                                                                                                                                                                                                                                                                                                                                                                                                          3627   \n",
              "top     Interior va a sufrir de nuevo un cambio de primer orden en su organigrama con el relevo de dos de los tres viceconsejeros que nombró Rodolfo Ares al llegar a la cartera hace poco más de dos años. El primero, el del viceconsejero de Administración y Servicio, Ernesto Martínez de Lahidalga, fue aprobado por el Consejo de Gobierno en su reunión de ayer. El segundo, el del viceconsejero de Seguridad, Rafael Iturriaga, ya está acordado también y se materializará en la reunión del Ejecutivo del próximo martes, según ha podido saber EL PAÍS. Esta última sustitución tiene un alto contenido político, ya que la persona elegida para hacerse cargo del puesto es el candidato socialista a la Diputación de Guipúzcoa, Miguel Buen. De los tres viceconsejeros nombrados por Ares permanecerá así en su cargo el de Interior, Raúl Fernández de Arroyabe. Medio Ambiente releva también a su viceconsejera Nieves Terán Los dos relevos llegan en un momento de tensión creciente en el departamento que acusan también otros niveles de menor responsabilidad. Y, junto a otro realizado ayer en Medio Ambiente, coinciden igualmente con el desastre electoral del PSE, que ha dejado a muchos de sus candidatos en la estacada, y con la reclamación de cambios desde las filas del partido y del propio Gobierno, como es el caso de la consejera de Empleo, Gemma Zabaleta. Lo que piden esas voces es, sobre todo, mayor perfil político propio, es decir, más partido en los altos cargos del Ejecutivo. Todo indica que habrá más relevos y que afectarán a varios departamentos. Respecto a cambios en las filas del propio Gobierno, el lehendakari, Patxi López, los ha descartado públicamente, al tiempo que se declaraba plenamente satisfecho de la gestión de todos sus integrantes. La portavoz, Idoia Mendia, se remitió ayer de nuevo a esa afirmación. El Gobierno se esforzó ayer en despojar los cambios de toda sombra de desavenencias. Mendia atribuyó el relevo de Martínez de Lahidalga a \"razones personales\", precisó que se realizó \"de común acuerdo\" con el departamento y reveló que aquel, en su día portavoz del sindicato policial Erne, remitió recientemente una carta al consejero expresándole \"su deseo de terminar su andadura en el Gobierno\". \"Hasta donde me consta, la relación es muy buena\", sostuvo Mendia, quien desmintió la existencia de desavenencias entre el hasta ahora viceconsejero y Ares. La portavoz sugirió que la decisión de Martínez de Lahidalga no es un fruto de la última semana. Fuentes de Interior negaron de modo tajante cualquier relación entre esta marcha y el conflicto en la Ertzaintza y consideraron el ecuador del mandato de un Gobierno como momento adecuado para realizar este tipo de cambios. Martínez de Lahidalga fue sustituido ayer mismo por la hasta ahora directora de Gestión Económica e Infraestructuras del departamento, Nélida Santos. Ares deberá dar explicaciones del cambio en el Parlamento, donde EA anunció ya que solicitará su comparecencia. El otro cambio anunciado ayer afecta a la viceconsejería de Medio Ambiente. Su hasta ahora responsable, Nieves Terán, cuyo cese también atribuyó Mendia a razones personales, será sustituida por Arantza Leturiondo, hasta ahora directora de Política Territorial en el Ayuntamiento de Basauri. El Gobierno cambió ya en su primer año de mandato a 22 altos cargos nombrados en la nueva etapa -seis viceconsejeros, 12 directores y cinco asesores-, que calificó como \"ajustes lógicos\" en cualquier organización a la que se somete por primera vez en 30 años a un relevo integral en su estructura. * Este artículo apareció en la edición impresa del Miércoles, 8 de junio de 2011   \n",
              "freq                                                                                                                                                                                                                                                                                                                                                                                                                                                                                                                                                                                                                                                                                                                                                                                                                                                                                                                                                                                                                                                                                                                                                                                                                                                                                                                                                                                                                                                                                                                                                                                                                                                                                                                                                                                                                                                                                                                                                                                                                                                                                                                                                                                                                                                                                                                                                                                                                                                                                                                                                                                                                                                                                                                                                                                                                                                                                                                                                                                                                                                                                                                                                                                                                                                                                                                                                                                                                                                                                                                                                                                                                                                                                                                                                                               1   \n",
              "\n",
              "                                                                                       summary  \n",
              "count                                                                                     3627  \n",
              "unique                                                                                    3625  \n",
              "top     Más de 3.000 seguidores escoltaron al equipo a un estadio lleno de camisetas azulgrana  \n",
              "freq                                                                                         2  "
            ]
          },
          "execution_count": 82,
          "metadata": {},
          "output_type": "execute_result"
        }
      ],
      "source": [
        "# Nro de Elementos, Nro de valores unicos, valor mas frecuente(top) y su frecuencia (freq)\n",
        "train_df.describe() "
      ]
    },
    {
      "cell_type": "code",
      "execution_count": 83,
      "metadata": {
        "colab": {
          "base_uri": "https://localhost:8080/",
          "height": 209
        },
        "id": "XkYFhQUSb32G",
        "outputId": "484eaecf-5a79-48da-9dce-6a0391270a95"
      },
      "outputs": [
        {
          "data": {
            "text/html": [
              "<div>\n",
              "<style scoped>\n",
              "    .dataframe tbody tr th:only-of-type {\n",
              "        vertical-align: middle;\n",
              "    }\n",
              "\n",
              "    .dataframe tbody tr th {\n",
              "        vertical-align: top;\n",
              "    }\n",
              "\n",
              "    .dataframe thead th {\n",
              "        text-align: right;\n",
              "    }\n",
              "</style>\n",
              "<table border=\"1\" class=\"dataframe\">\n",
              "  <thead>\n",
              "    <tr style=\"text-align: right;\">\n",
              "      <th></th>\n",
              "      <th>text</th>\n",
              "      <th>summary</th>\n",
              "    </tr>\n",
              "  </thead>\n",
              "  <tbody>\n",
              "    <tr>\n",
              "      <th>count</th>\n",
              "      <td>580</td>\n",
              "      <td>580</td>\n",
              "    </tr>\n",
              "    <tr>\n",
              "      <th>unique</th>\n",
              "      <td>576</td>\n",
              "      <td>578</td>\n",
              "    </tr>\n",
              "    <tr>\n",
              "      <th>top</th>\n",
              "      <td>Especial Publicidad El amor por el teatro ha acompañado al actor italiano Corrado Tedeschi a lo largo de su vida. Un amor “que quita el aliento, pero que también lo regala”. Esta historia refleja los valores que defiende GEOX, que nos anima a vivir con intensidad a través de sus zapatos.</td>\n",
              "      <td>Un análisis de la actualidad internacional a través de artículos publicados en medios globales seleccionados y comentados por la revista CTXT</td>\n",
              "    </tr>\n",
              "    <tr>\n",
              "      <th>freq</th>\n",
              "      <td>5</td>\n",
              "      <td>2</td>\n",
              "    </tr>\n",
              "  </tbody>\n",
              "</table>\n",
              "</div>"
            ],
            "text/plain": [
              "                                                                                                                                                                                                                                                                                                    text  \\\n",
              "count                                                                                                                                                                                                                                                                                                580   \n",
              "unique                                                                                                                                                                                                                                                                                               576   \n",
              "top     Especial Publicidad El amor por el teatro ha acompañado al actor italiano Corrado Tedeschi a lo largo de su vida. Un amor “que quita el aliento, pero que también lo regala”. Esta historia refleja los valores que defiende GEOX, que nos anima a vivir con intensidad a través de sus zapatos.   \n",
              "freq                                                                                                                                                                                                                                                                                                   5   \n",
              "\n",
              "                                                                                                                                              summary  \n",
              "count                                                                                                                                             580  \n",
              "unique                                                                                                                                            578  \n",
              "top     Un análisis de la actualidad internacional a través de artículos publicados en medios globales seleccionados y comentados por la revista CTXT  \n",
              "freq                                                                                                                                                2  "
            ]
          },
          "execution_count": 83,
          "metadata": {},
          "output_type": "execute_result"
        }
      ],
      "source": [
        "test_df.describe()"
      ]
    },
    {
      "cell_type": "code",
      "execution_count": 84,
      "metadata": {
        "id": "b21nEbFh-0pa"
      },
      "outputs": [],
      "source": [
        "\n",
        "# elimina filas que contengan valores nulos y duplicados en summary y text\n",
        "train_df.dropna(inplace=True)\n",
        "train_df.drop_duplicates(inplace=True,subset=['summary'])\n",
        "train_df.drop_duplicates(inplace=True,subset=['text'])"
      ]
    },
    {
      "cell_type": "code",
      "execution_count": 85,
      "metadata": {
        "colab": {
          "base_uri": "https://localhost:8080/",
          "height": 591
        },
        "id": "6Rdcazhmc9CY",
        "outputId": "b0e65220-6260-458c-c92f-24960f43cfa8"
      },
      "outputs": [
        {
          "data": {
            "text/html": [
              "<div>\n",
              "<style scoped>\n",
              "    .dataframe tbody tr th:only-of-type {\n",
              "        vertical-align: middle;\n",
              "    }\n",
              "\n",
              "    .dataframe tbody tr th {\n",
              "        vertical-align: top;\n",
              "    }\n",
              "\n",
              "    .dataframe thead th {\n",
              "        text-align: right;\n",
              "    }\n",
              "</style>\n",
              "<table border=\"1\" class=\"dataframe\">\n",
              "  <thead>\n",
              "    <tr style=\"text-align: right;\">\n",
              "      <th></th>\n",
              "      <th>text</th>\n",
              "      <th>summary</th>\n",
              "    </tr>\n",
              "  </thead>\n",
              "  <tbody>\n",
              "    <tr>\n",
              "      <th>count</th>\n",
              "      <td>3625</td>\n",
              "      <td>3625</td>\n",
              "    </tr>\n",
              "    <tr>\n",
              "      <th>unique</th>\n",
              "      <td>3625</td>\n",
              "      <td>3625</td>\n",
              "    </tr>\n",
              "    <tr>\n",
              "      <th>top</th>\n",
              "      <td>Interior va a sufrir de nuevo un cambio de primer orden en su organigrama con el relevo de dos de los tres viceconsejeros que nombró Rodolfo Ares al llegar a la cartera hace poco más de dos años. El primero, el del viceconsejero de Administración y Servicio, Ernesto Martínez de Lahidalga, fue aprobado por el Consejo de Gobierno en su reunión de ayer. El segundo, el del viceconsejero de Seguridad, Rafael Iturriaga, ya está acordado también y se materializará en la reunión del Ejecutivo del próximo martes, según ha podido saber EL PAÍS. Esta última sustitución tiene un alto contenido político, ya que la persona elegida para hacerse cargo del puesto es el candidato socialista a la Diputación de Guipúzcoa, Miguel Buen. De los tres viceconsejeros nombrados por Ares permanecerá así en su cargo el de Interior, Raúl Fernández de Arroyabe. Medio Ambiente releva también a su viceconsejera Nieves Terán Los dos relevos llegan en un momento de tensión creciente en el departamento que acusan también otros niveles de menor responsabilidad. Y, junto a otro realizado ayer en Medio Ambiente, coinciden igualmente con el desastre electoral del PSE, que ha dejado a muchos de sus candidatos en la estacada, y con la reclamación de cambios desde las filas del partido y del propio Gobierno, como es el caso de la consejera de Empleo, Gemma Zabaleta. Lo que piden esas voces es, sobre todo, mayor perfil político propio, es decir, más partido en los altos cargos del Ejecutivo. Todo indica que habrá más relevos y que afectarán a varios departamentos. Respecto a cambios en las filas del propio Gobierno, el lehendakari, Patxi López, los ha descartado públicamente, al tiempo que se declaraba plenamente satisfecho de la gestión de todos sus integrantes. La portavoz, Idoia Mendia, se remitió ayer de nuevo a esa afirmación. El Gobierno se esforzó ayer en despojar los cambios de toda sombra de desavenencias. Mendia atribuyó el relevo de Martínez de Lahidalga a \"razones personales\", precisó que se realizó \"de común acuerdo\" con el departamento y reveló que aquel, en su día portavoz del sindicato policial Erne, remitió recientemente una carta al consejero expresándole \"su deseo de terminar su andadura en el Gobierno\". \"Hasta donde me consta, la relación es muy buena\", sostuvo Mendia, quien desmintió la existencia de desavenencias entre el hasta ahora viceconsejero y Ares. La portavoz sugirió que la decisión de Martínez de Lahidalga no es un fruto de la última semana. Fuentes de Interior negaron de modo tajante cualquier relación entre esta marcha y el conflicto en la Ertzaintza y consideraron el ecuador del mandato de un Gobierno como momento adecuado para realizar este tipo de cambios. Martínez de Lahidalga fue sustituido ayer mismo por la hasta ahora directora de Gestión Económica e Infraestructuras del departamento, Nélida Santos. Ares deberá dar explicaciones del cambio en el Parlamento, donde EA anunció ya que solicitará su comparecencia. El otro cambio anunciado ayer afecta a la viceconsejería de Medio Ambiente. Su hasta ahora responsable, Nieves Terán, cuyo cese también atribuyó Mendia a razones personales, será sustituida por Arantza Leturiondo, hasta ahora directora de Política Territorial en el Ayuntamiento de Basauri. El Gobierno cambió ya en su primer año de mandato a 22 altos cargos nombrados en la nueva etapa -seis viceconsejeros, 12 directores y cinco asesores-, que calificó como \"ajustes lógicos\" en cualquier organización a la que se somete por primera vez en 30 años a un relevo integral en su estructura. * Este artículo apareció en la edición impresa del Miércoles, 8 de junio de 2011</td>\n",
              "      <td>Miguel Buen reemplazará a Rafael Iturriaga como responsable de Seguridad</td>\n",
              "    </tr>\n",
              "    <tr>\n",
              "      <th>freq</th>\n",
              "      <td>1</td>\n",
              "      <td>1</td>\n",
              "    </tr>\n",
              "  </tbody>\n",
              "</table>\n",
              "</div>"
            ],
            "text/plain": [
              "                                                                                                                                                                                                                                                                                                                                                                                                                                                                                                                                                                                                                                                                                                                                                                                                                                                                                                                                                                                                                                                                                                                                                                                                                                                                                                                                                                                                                                                                                                                                                                                                                                                                                                                                                                                                                                                                                                                                                                                                                                                                                                                                                                                                                                                                                                                                                                                                                                                                                                                                                                                                                                                                                                                                                                                                                                                                                                                                                                                                                                                                                                                                                                                                                                                                                                                                                                                                                                                                                                                                                                                                                                                                                                                                                                                text  \\\n",
              "count                                                                                                                                                                                                                                                                                                                                                                                                                                                                                                                                                                                                                                                                                                                                                                                                                                                                                                                                                                                                                                                                                                                                                                                                                                                                                                                                                                                                                                                                                                                                                                                                                                                                                                                                                                                                                                                                                                                                                                                                                                                                                                                                                                                                                                                                                                                                                                                                                                                                                                                                                                                                                                                                                                                                                                                                                                                                                                                                                                                                                                                                                                                                                                                                                                                                                                                                                                                                                                                                                                                                                                                                                                                                                                                                                                           3625   \n",
              "unique                                                                                                                                                                                                                                                                                                                                                                                                                                                                                                                                                                                                                                                                                                                                                                                                                                                                                                                                                                                                                                                                                                                                                                                                                                                                                                                                                                                                                                                                                                                                                                                                                                                                                                                                                                                                                                                                                                                                                                                                                                                                                                                                                                                                                                                                                                                                                                                                                                                                                                                                                                                                                                                                                                                                                                                                                                                                                                                                                                                                                                                                                                                                                                                                                                                                                                                                                                                                                                                                                                                                                                                                                                                                                                                                                                          3625   \n",
              "top     Interior va a sufrir de nuevo un cambio de primer orden en su organigrama con el relevo de dos de los tres viceconsejeros que nombró Rodolfo Ares al llegar a la cartera hace poco más de dos años. El primero, el del viceconsejero de Administración y Servicio, Ernesto Martínez de Lahidalga, fue aprobado por el Consejo de Gobierno en su reunión de ayer. El segundo, el del viceconsejero de Seguridad, Rafael Iturriaga, ya está acordado también y se materializará en la reunión del Ejecutivo del próximo martes, según ha podido saber EL PAÍS. Esta última sustitución tiene un alto contenido político, ya que la persona elegida para hacerse cargo del puesto es el candidato socialista a la Diputación de Guipúzcoa, Miguel Buen. De los tres viceconsejeros nombrados por Ares permanecerá así en su cargo el de Interior, Raúl Fernández de Arroyabe. Medio Ambiente releva también a su viceconsejera Nieves Terán Los dos relevos llegan en un momento de tensión creciente en el departamento que acusan también otros niveles de menor responsabilidad. Y, junto a otro realizado ayer en Medio Ambiente, coinciden igualmente con el desastre electoral del PSE, que ha dejado a muchos de sus candidatos en la estacada, y con la reclamación de cambios desde las filas del partido y del propio Gobierno, como es el caso de la consejera de Empleo, Gemma Zabaleta. Lo que piden esas voces es, sobre todo, mayor perfil político propio, es decir, más partido en los altos cargos del Ejecutivo. Todo indica que habrá más relevos y que afectarán a varios departamentos. Respecto a cambios en las filas del propio Gobierno, el lehendakari, Patxi López, los ha descartado públicamente, al tiempo que se declaraba plenamente satisfecho de la gestión de todos sus integrantes. La portavoz, Idoia Mendia, se remitió ayer de nuevo a esa afirmación. El Gobierno se esforzó ayer en despojar los cambios de toda sombra de desavenencias. Mendia atribuyó el relevo de Martínez de Lahidalga a \"razones personales\", precisó que se realizó \"de común acuerdo\" con el departamento y reveló que aquel, en su día portavoz del sindicato policial Erne, remitió recientemente una carta al consejero expresándole \"su deseo de terminar su andadura en el Gobierno\". \"Hasta donde me consta, la relación es muy buena\", sostuvo Mendia, quien desmintió la existencia de desavenencias entre el hasta ahora viceconsejero y Ares. La portavoz sugirió que la decisión de Martínez de Lahidalga no es un fruto de la última semana. Fuentes de Interior negaron de modo tajante cualquier relación entre esta marcha y el conflicto en la Ertzaintza y consideraron el ecuador del mandato de un Gobierno como momento adecuado para realizar este tipo de cambios. Martínez de Lahidalga fue sustituido ayer mismo por la hasta ahora directora de Gestión Económica e Infraestructuras del departamento, Nélida Santos. Ares deberá dar explicaciones del cambio en el Parlamento, donde EA anunció ya que solicitará su comparecencia. El otro cambio anunciado ayer afecta a la viceconsejería de Medio Ambiente. Su hasta ahora responsable, Nieves Terán, cuyo cese también atribuyó Mendia a razones personales, será sustituida por Arantza Leturiondo, hasta ahora directora de Política Territorial en el Ayuntamiento de Basauri. El Gobierno cambió ya en su primer año de mandato a 22 altos cargos nombrados en la nueva etapa -seis viceconsejeros, 12 directores y cinco asesores-, que calificó como \"ajustes lógicos\" en cualquier organización a la que se somete por primera vez en 30 años a un relevo integral en su estructura. * Este artículo apareció en la edición impresa del Miércoles, 8 de junio de 2011   \n",
              "freq                                                                                                                                                                                                                                                                                                                                                                                                                                                                                                                                                                                                                                                                                                                                                                                                                                                                                                                                                                                                                                                                                                                                                                                                                                                                                                                                                                                                                                                                                                                                                                                                                                                                                                                                                                                                                                                                                                                                                                                                                                                                                                                                                                                                                                                                                                                                                                                                                                                                                                                                                                                                                                                                                                                                                                                                                                                                                                                                                                                                                                                                                                                                                                                                                                                                                                                                                                                                                                                                                                                                                                                                                                                                                                                                                                               1   \n",
              "\n",
              "                                                                         summary  \n",
              "count                                                                       3625  \n",
              "unique                                                                      3625  \n",
              "top     Miguel Buen reemplazará a Rafael Iturriaga como responsable de Seguridad  \n",
              "freq                                                                           1  "
            ]
          },
          "execution_count": 85,
          "metadata": {},
          "output_type": "execute_result"
        }
      ],
      "source": [
        "train_df.describe() # Nro de Elementos, Nro de valores unicos, valor mas frecuente(top) y su frecuencia (freq)"
      ]
    },
    {
      "cell_type": "markdown",
      "metadata": {
        "id": "r70Qpb8Qqlt9"
      },
      "source": [
        "## Texto limpio/preprocesado"
      ]
    },
    {
      "cell_type": "code",
      "execution_count": 86,
      "metadata": {
        "id": "zWhbByFDdukm"
      },
      "outputs": [],
      "source": [
        "train_df = train_df.rename(columns={'summary':'target_text','text':'source_text'}) # renombra las columnas summary y text\n",
        "test_df = test_df.rename(columns={'summary':'target_text','text':'source_text'})"
      ]
    },
    {
      "cell_type": "code",
      "execution_count": 87,
      "metadata": {
        "colab": {
          "base_uri": "https://localhost:8080/"
        },
        "id": "ZLacIMWxd_q3",
        "outputId": "b23d141d-7e8f-4594-a93c-304e9342cce0"
      },
      "outputs": [
        {
          "name": "stdout",
          "output_type": "stream",
          "text": [
            "Index(['source_text', 'target_text'], dtype='object')\n",
            "Index(['source_text', 'target_text'], dtype='object')\n"
          ]
        }
      ],
      "source": [
        "print(train_df.columns)  # muestra las columnas de train_df\n",
        "print(test_df.columns)"
      ]
    },
    {
      "cell_type": "code",
      "execution_count": 88,
      "metadata": {
        "id": "wuyJouaBecZp"
      },
      "outputs": [],
      "source": [
        "### movLet's try to ree short forms like I'll -> I will etc.\n",
        "\n",
        "# train_df['source_text'] = train_df['source_text'].apply(lambda x: contractions.fix(x))\n",
        "# train_df['target_text'] = train_df['target_text'].apply(lambda x: contractions.fix(x))\n",
        "\n",
        "# test_df['target_text'] = test_df['target_text'].apply(lambda x: contractions.fix(x))\n",
        "# test_df['target_text'] = test_df['target_text'].apply(lambda x: contractions.fix(x))"
      ]
    },
    {
      "cell_type": "code",
      "execution_count": 89,
      "metadata": {
        "id": "KVSauothhIjL"
      },
      "outputs": [],
      "source": [
        "stop_words = set(stopwords.words('spanish')) # palabras vacias en español"
      ]
    },
    {
      "cell_type": "markdown",
      "metadata": {},
      "source": [
        "PROCESO DE LIMPIEZA DE LOS DATOS"
      ]
    },
    {
      "cell_type": "code",
      "execution_count": 90,
      "metadata": {
        "id": "Cor89UCY-6zD"
      },
      "outputs": [],
      "source": [
        "def cleantext(text): # funcion que elimina caracteres especiales, numeros y stopwords\n",
        "    new_text = str(text)\n",
        "    new_text = new_text.split()\n",
        "    words=[]\n",
        "    for t in new_text:\n",
        "        if t.isalpha():\n",
        "            words.append(t)\n",
        "    new_text =\" \".join(words)\n",
        "    new_text = new_text.lower()\n",
        "    new_text = re.sub(r\"\\n\", \" \", new_text) # elimina saltos de linea\n",
        "    new_text = re.sub(r\":\", \" \", new_text) # elimina dos puntos\n",
        "    new_text = re.sub(r\"-\", \" \", new_text)\n",
        "    new_text = re.sub(r\"\\_\", \" \", new_text) # elimina guion bajo\n",
        "    new_text = re.sub(r\"\\d+\", \" \", new_text)\n",
        "    new_text = re.sub(r\"[$#@%&*!~?%{}()]\",\" \",new_text) # elimina caracteres especiales\n",
        "\n",
        "    tokens = [w for w in new_text.split() if not w in stop_words] # elimina stopwords\n",
        "\n",
        "\n",
        "    return \" \".join(tokens) # retorna el texto limpio"
      ]
    },
    {
      "cell_type": "code",
      "execution_count": 91,
      "metadata": {
        "id": "NAC6LlBhqa3u"
      },
      "outputs": [],
      "source": [
        "## Aplicar las transformaciones en los textos de origen y de destino.\n",
        "for cols in train_df.columns: \n",
        "    train_df[cols] = train_df[cols].apply(cleantext) # aplica la funcion cleantext a las columnas de train_df\n",
        "\n",
        "for cols in test_df.columns:\n",
        "    test_df[cols] = test_df[cols].apply(cleantext)"
      ]
    },
    {
      "cell_type": "code",
      "execution_count": 92,
      "metadata": {
        "colab": {
          "base_uri": "https://localhost:8080/",
          "height": 1000
        },
        "id": "k4x9_GRyrGEM",
        "outputId": "e020771b-2b19-4224-fdf4-f7c2739f2521"
      },
      "outputs": [
        {
          "data": {
            "text/html": [
              "<div>\n",
              "<style scoped>\n",
              "    .dataframe tbody tr th:only-of-type {\n",
              "        vertical-align: middle;\n",
              "    }\n",
              "\n",
              "    .dataframe tbody tr th {\n",
              "        vertical-align: top;\n",
              "    }\n",
              "\n",
              "    .dataframe thead th {\n",
              "        text-align: right;\n",
              "    }\n",
              "</style>\n",
              "<table border=\"1\" class=\"dataframe\">\n",
              "  <thead>\n",
              "    <tr style=\"text-align: right;\">\n",
              "      <th></th>\n",
              "      <th>source_text</th>\n",
              "      <th>target_text</th>\n",
              "    </tr>\n",
              "  </thead>\n",
              "  <tbody>\n",
              "    <tr>\n",
              "      <th>0</th>\n",
              "      <td>interior va sufrir nuevo cambio primer orden organigrama relevo dos tres viceconsejeros nombró rodolfo ares llegar cartera hace dos viceconsejero administración ernesto martínez aprobado consejo gobierno reunión viceconsejero rafael acordado materializará reunión ejecutivo próximo según podido saber última sustitución alto contenido persona elegida hacerse cargo puesto candidato socialista diputación miguel tres viceconsejeros nombrados ares permanecerá así cargo raúl fernández medio ambiente releva viceconsejera nieves terán dos relevos llegan momento tensión creciente departamento acusan niveles menor junto realizado ayer medio coinciden igualmente desastre electoral dejado candidatos reclamación cambios filas partido propio caso consejera gemma piden voces mayor perfil político partido altos cargos indica relevos afectarán varios respecto cambios filas propio patxi descartado tiempo declaraba plenamente satisfecho gestión idoia remitió ayer nuevo gobierno esforzó ayer despojar cambios toda sombra mendia atribuyó relevo martínez lahidalga precisó realizó común departamento reveló día portavoz sindicato policial remitió recientemente carta consejero expresándole deseo terminar andadura relación sostuvo desmintió existencia desavenencias ahora viceconsejero portavoz sugirió decisión martínez lahidalga fruto última fuentes interior negaron modo tajante cualquier relación marcha conflicto ertzaintza consideraron ecuador mandato gobierno momento adecuado realizar tipo martínez lahidalga sustituido ayer mismo ahora directora gestión económica infraestructuras nélida ares deberá dar explicaciones cambio ea anunció solicitará cambio anunciado ayer afecta viceconsejería medio ahora nieves cuyo cese atribuyó mendia razones sustituida arantza ahora directora política territorial ayuntamiento gobierno cambió primer año mandato altos cargos nombrados nueva etapa directores cinco calificó cualquier organización somete primera vez años relevo integral artículo apareció edición impresa junio</td>\n",
              "      <td>miguel buen reemplazará rafael iturriaga responsable seguridad</td>\n",
              "    </tr>\n",
              "    <tr>\n",
              "      <th>1</th>\n",
              "      <td>criadas señoras tate emma octavia viola bryce dallas allison jessica drama grandes éxitos taquilla unidos millones dólares millones criadas señoras habla forma light racismo sesenta sur aquel acotar intocable decir temas fuertes contados forma estreno tv unas actrices empezando talento viola dirige tate tocó lotería ser amigo escritora novela basa secuencias eliminadas tipo gato botas chris antonio salma zack billy bob gato ligón espadachín propia deja adonde llega guion algún momento va antonio banderas labia levanta cercana spaguetti western ironía descarnada lanzó película madre gato momentos</td>\n",
              "      <td>taquillazo gato voz antonio llegan tiendas</td>\n",
              "    </tr>\n",
              "    <tr>\n",
              "      <th>2</th>\n",
              "      <td>nacido alberto fabra cursó estudios arquitectura técnica casado dos afilió alianza popular miembro elegido concejal ayuntamiento ocupó áreas medio servicios públicos dio salto apadrinado carlos forzó renuncia entonces josé luis golpe entonces presidente diputación pp provincia sustituyó siempre mantenido notables alberto proclamó nuevo alcalde favorito fabra logrado dos victorias mayoría absoluta aunque sensible pérdida votos respecto carácter trato correcto incluso cercano distinguido embargo gestión cumplimiento compromisos heredó ciudad pleno empleo dejado tasa paro superior conseguido concluir ronda prometida partido popular nuevo línea transporte público proyecto convertido caballos batalla ahora alcalde anunció pasado mandato conectada línea bus guiado universitat jaume i grao solo concluido pequeño tramo uji parque mientras encuentra obras plataforma reservada avenida falta resolver toda conexión bucle centro presenta problemas graves mayor siquiera fecha inicio problema intenso tráfico ciudad caótica tampoco sido resuelto alberto pesar diversos planes choque único aspecto positivo haber fabra asunto sido implantación bicicas servicio préstamo buena acogida parte pesar formación tampoco sido punto fuerte alberto plan general ordenación urbana anulado tribunal mantiene litigios asociaciones vecinales planeamiento asociación vecinos mestrets llevado supremo decisión alberto fabra cargar terrenos pocos propietarios suelo dotacional correspondía ejecución varios proyectos estrella centro convenciones nuevo rectorado viu arquitecto frank gehry ejecución viviendas ninguna promesas materializado proyecto tampoco visto luz sido ciudad prometida debe construirse terrenos aeródromo frente fachada tampoco destacado alberto fabra política años después anunciado aún sido abierto centro gran vía debe dar servicio personas pacientes alzheimer enfermos daño cerebral sobrevenido u enfermedades instalaciones concluidas hace dos generalitat mantiene cerradas falta sido escasas ocasiones fabra reclamado energía consell puesta gobierno camps cumplió compromisos ciudad ahora alcalde fracasado hora iniciar proyectos conjuntos uji edificio cuya propiedad cedió antiguo palacio justicia plaza juez iban ser aprovechados asociaciones vecinos delegaciones último mandato recibido críticas colectivos vecinales subir impuestos encima ipc real pesar situación alberto fabra oportunidad retirar medalla oro ciudad francisco franco seis cargos votó dos plenos gris discurso según coinciden defensores mayoría caracterizado último mandato mostrarse reivindicativo gobierno central cuenta corredor accesos sur puerto desvío nivel exigencia sido prácticamente nulo siempre sombra carlos defendido públicamente reiteradas ocasiones conocieron imputaciones judiciales tráfico influencias fraude si surgido alguna novedad incluso después anunciar todavía presidente provincial partido popular tentado después pasadas elecciones alberto fabra formara parte actual corporación concejal electo alberto fabra dijo entonces participación experiencia carlos luchar crisis gracias capacidad atraer carlos fabra acabó rechazando alegando sido ungido todavía presidente provincial pp alberto fabra diputado autonómico castellón coordinador general pp alberto fabra designado sucesor alcaldía castellón vicealcalde alfonso número cinco lista pp carece experiencia alguna gestión municipal peso orgánico incorporación bataller según fuentes partido hace semanas alberto fabra comentó empresarios allegados posibilidad sustituir querido contar aquel relevo</td>\n",
              "      <td>bagaje nuevo presidente pp valenciano alcalde deslumbra</td>\n",
              "    </tr>\n",
              "    <tr>\n",
              "      <th>3</th>\n",
              "      <td>habana escenario ayer segunda ronda conversaciones migratorias unidos encuentros ambos países hablar temas asunto washington considera seguridad reanudaron nueva york verano pasado después cinco años interrupción gobierno george ee uu envió ahora habana subsecretario adjunto asuntos hemisferio craig funcionario alto rango pisado isla barack obama llegó nuevo paso hacia delegación cubana encabezada dagoberto viceministro relaciones terminar reunión reafirmó comunicado importancia utilidad objetivo encuentro pasar revista acuerdos migratorios firmados ambos países raíz crisis parte trató propuesta cubana negociar nuevo acuerdo migratorio establecer formas cooperación luchar tráfico convenio vigente establece obligación ee uu conceder mínimo visados anuales inmigrantes así repatriar balseros interceptados alta compromete tomar medidas impedir salidas ambas naciones expresaron entonces voluntad promover emigración legal establecieron mecanismo reuniones periódicas asegurar cumplimiento mecanismo funcionó diciembre gobierno medio política endurecimiento decidió suspender llegada obama casa blanca cosas empezaron volver abril presidente ee uu levantó restricciones impuestas antecesor viajes liberó envío remesas mayo propuso habana reanudar conversaciones cosa sucedió mes después nueva temas delicados agenda bilateral caso ciudadano norteamericano alan detenido isla diciembre distribuía grupos sociedad civil encargo gobierno cuba puede considerar intento artículo apareció edición impresa febrero</td>\n",
              "      <td>obama eleva nivel misión viaja habana</td>\n",
              "    </tr>\n",
              "    <tr>\n",
              "      <th>4</th>\n",
              "      <td>gran noche música transformó improvisada celebración honor whitney fallecida ángeles horas entrega edición muerte cantante solo inesperada cambió rumbo gala premios noche luto celebración recuerdo hermana sufrido muerte declaró cantante maestro ceremonias ll cool j comenzar ceremonia estadio staples ángeles entonar oración bello espíritu ido plegaria repitió largo velada boca lady gaga katy perry unieron momento silencio bruno mars olvidó seis candidaturas recordó grammy belleza whitney mientras bonnie raitt agradeció inesperada coincidencia dio oportunidad celebrar juntos música recomendó cantante country miranda lambert pesar ceremonia conocida grammy concedieron total drástica reducción habituales reconociendo mejor año gala convirtió esperado noche cantante británica obtuvo total seis mejor álbum ganó galardón mejor cantante ganó gramófono dorado mejor canción mejor grabación tema rolling in the así grammy mejor interpretación pop someone like premios cargados propio drama venir acompañados primera actuación pública cantante operada intérprete años dedicó victoria devolvieron kanye gran favorito siete consiguió total cuatro premios entregados ausencia ceremonia grammy coincidió última rueda prensa jede departamento forense ed dijo vez concluida encuentra espera resultados toxicología determinen si existía alguna legal cuerpo intérprete causa oficial muerte conocerá dentro seis u ocho winter apuntó departamento policía beverly hills solicitado oficina forense faciliten datos acerca incluidos detalles circunstancias encontró cuerpo cantante noche sábado hotel beverly conocida problemas alcohol primeras informaciones confirmadas señalan cantante murió ahogada bañera mientras preparaba fiesta previa accidente pudo ocurrió perder conocimiento culpa medicamentos circunstancia ocurrió artistas heath brittany corey haim modelo heredera anna nicole winter quiso confirmar desmentir bruce springsteen ceremonia grammy alternó además transgresión abriendo bruce springsteen tema we take care of our próximo canción puso pie mismísimo paul mccartney centrada problemas llega tiempo próximas elecciones foo fighters hicieron saltar tocaron estadio staples dedicaron cinco victorias rock género desearon ganadores kanye comienzo ceremonia gran favorito siete candidaturas consiguió total cuatro premios entregados mejor álbum latino rock urbano ganador mientras cachao llevó gramófono dorado mejor álbum tropical pepe aguilar declaró victorioso sección mexicana regional tejana mientras tigres norte hicieron mejor banda música noche perteneció whitney houston parafraseando canción popular intérprete ganadora seis premios así dijo rapero principio gala tema jennifer hudson interpretó i will always love canción dolly parton voz houston dio vuelta mundo parte banda sonora película guardaespaldas convirtió tema popular mejor muestra capacidad amiga personal cantante interpretó tema emocionante actuación concluyó sencillo lágrimas ojos explicaron organizadores homenaje improvisado dada falta cantantes acostumbrados familia cierra filas aclaró productor jimmy jam referencia gran familia así demostraron padres amy fallecida cantante británica subieron escenario recoger dos gramófonos recibió tony bennett trabajo junto hija mejor dúo puedo maravilloso grupo chicas dijo referencia houston recientemente fallecida etta</td>\n",
              "      <td>británica ganadora noche seis cuenta mejor álbum</td>\n",
              "    </tr>\n",
              "  </tbody>\n",
              "</table>\n",
              "</div>"
            ],
            "text/plain": [
              "                                                                                                                                                                                                                                                                                                                                                                                                                                                                                                                                                                                                                                                                                                                                                                                                                                                                                                                                                                                                                                                                                                                                                                                                                                                                                                                                                                                                                                                                                                                                                                                                                                                                                                                                                                                                                                                                                                                                                                                                                                                                                                                                                                                                                                                                                                                                                                                                                                                                                                                                                                                                                                                                                                                                                                                                                                                                                                                                                                                                                                                                                                                                                                                                                                                                                                                                                                                                                                                                                                                                                                                                                                                                                        source_text  \\\n",
              "0                                                                                                                                                                                                                                                                                                                                                                                                                                                                                                                                                                                                                                                                                                                                                                                                                                                                                                                                                                                                                                                                                                                                                                                                                                                                                                                                                                                                                                                                                                                                                                                                      interior va sufrir nuevo cambio primer orden organigrama relevo dos tres viceconsejeros nombró rodolfo ares llegar cartera hace dos viceconsejero administración ernesto martínez aprobado consejo gobierno reunión viceconsejero rafael acordado materializará reunión ejecutivo próximo según podido saber última sustitución alto contenido persona elegida hacerse cargo puesto candidato socialista diputación miguel tres viceconsejeros nombrados ares permanecerá así cargo raúl fernández medio ambiente releva viceconsejera nieves terán dos relevos llegan momento tensión creciente departamento acusan niveles menor junto realizado ayer medio coinciden igualmente desastre electoral dejado candidatos reclamación cambios filas partido propio caso consejera gemma piden voces mayor perfil político partido altos cargos indica relevos afectarán varios respecto cambios filas propio patxi descartado tiempo declaraba plenamente satisfecho gestión idoia remitió ayer nuevo gobierno esforzó ayer despojar cambios toda sombra mendia atribuyó relevo martínez lahidalga precisó realizó común departamento reveló día portavoz sindicato policial remitió recientemente carta consejero expresándole deseo terminar andadura relación sostuvo desmintió existencia desavenencias ahora viceconsejero portavoz sugirió decisión martínez lahidalga fruto última fuentes interior negaron modo tajante cualquier relación marcha conflicto ertzaintza consideraron ecuador mandato gobierno momento adecuado realizar tipo martínez lahidalga sustituido ayer mismo ahora directora gestión económica infraestructuras nélida ares deberá dar explicaciones cambio ea anunció solicitará cambio anunciado ayer afecta viceconsejería medio ahora nieves cuyo cese atribuyó mendia razones sustituida arantza ahora directora política territorial ayuntamiento gobierno cambió primer año mandato altos cargos nombrados nueva etapa directores cinco calificó cualquier organización somete primera vez años relevo integral artículo apareció edición impresa junio   \n",
              "1                                                                                                                                                                                                                                                                                                                                                                                                                                                                                                                                                                                                                                                                                                                                                                                                                                                                                                                                                                                                                                                                                                                                                                                                                                                                                                                                                                                                                                                                                                                                                                                                                                                                                                                                                                                                                                                                                                                                                                                                                                                                                                                                                                                                                                                                                                                                                                                                                                                                                                                                                                                                                                                                                                                                                                                                                                                                                                                                                                                                                                                                        criadas señoras tate emma octavia viola bryce dallas allison jessica drama grandes éxitos taquilla unidos millones dólares millones criadas señoras habla forma light racismo sesenta sur aquel acotar intocable decir temas fuertes contados forma estreno tv unas actrices empezando talento viola dirige tate tocó lotería ser amigo escritora novela basa secuencias eliminadas tipo gato botas chris antonio salma zack billy bob gato ligón espadachín propia deja adonde llega guion algún momento va antonio banderas labia levanta cercana spaguetti western ironía descarnada lanzó película madre gato momentos   \n",
              "2  nacido alberto fabra cursó estudios arquitectura técnica casado dos afilió alianza popular miembro elegido concejal ayuntamiento ocupó áreas medio servicios públicos dio salto apadrinado carlos forzó renuncia entonces josé luis golpe entonces presidente diputación pp provincia sustituyó siempre mantenido notables alberto proclamó nuevo alcalde favorito fabra logrado dos victorias mayoría absoluta aunque sensible pérdida votos respecto carácter trato correcto incluso cercano distinguido embargo gestión cumplimiento compromisos heredó ciudad pleno empleo dejado tasa paro superior conseguido concluir ronda prometida partido popular nuevo línea transporte público proyecto convertido caballos batalla ahora alcalde anunció pasado mandato conectada línea bus guiado universitat jaume i grao solo concluido pequeño tramo uji parque mientras encuentra obras plataforma reservada avenida falta resolver toda conexión bucle centro presenta problemas graves mayor siquiera fecha inicio problema intenso tráfico ciudad caótica tampoco sido resuelto alberto pesar diversos planes choque único aspecto positivo haber fabra asunto sido implantación bicicas servicio préstamo buena acogida parte pesar formación tampoco sido punto fuerte alberto plan general ordenación urbana anulado tribunal mantiene litigios asociaciones vecinales planeamiento asociación vecinos mestrets llevado supremo decisión alberto fabra cargar terrenos pocos propietarios suelo dotacional correspondía ejecución varios proyectos estrella centro convenciones nuevo rectorado viu arquitecto frank gehry ejecución viviendas ninguna promesas materializado proyecto tampoco visto luz sido ciudad prometida debe construirse terrenos aeródromo frente fachada tampoco destacado alberto fabra política años después anunciado aún sido abierto centro gran vía debe dar servicio personas pacientes alzheimer enfermos daño cerebral sobrevenido u enfermedades instalaciones concluidas hace dos generalitat mantiene cerradas falta sido escasas ocasiones fabra reclamado energía consell puesta gobierno camps cumplió compromisos ciudad ahora alcalde fracasado hora iniciar proyectos conjuntos uji edificio cuya propiedad cedió antiguo palacio justicia plaza juez iban ser aprovechados asociaciones vecinos delegaciones último mandato recibido críticas colectivos vecinales subir impuestos encima ipc real pesar situación alberto fabra oportunidad retirar medalla oro ciudad francisco franco seis cargos votó dos plenos gris discurso según coinciden defensores mayoría caracterizado último mandato mostrarse reivindicativo gobierno central cuenta corredor accesos sur puerto desvío nivel exigencia sido prácticamente nulo siempre sombra carlos defendido públicamente reiteradas ocasiones conocieron imputaciones judiciales tráfico influencias fraude si surgido alguna novedad incluso después anunciar todavía presidente provincial partido popular tentado después pasadas elecciones alberto fabra formara parte actual corporación concejal electo alberto fabra dijo entonces participación experiencia carlos luchar crisis gracias capacidad atraer carlos fabra acabó rechazando alegando sido ungido todavía presidente provincial pp alberto fabra diputado autonómico castellón coordinador general pp alberto fabra designado sucesor alcaldía castellón vicealcalde alfonso número cinco lista pp carece experiencia alguna gestión municipal peso orgánico incorporación bataller según fuentes partido hace semanas alberto fabra comentó empresarios allegados posibilidad sustituir querido contar aquel relevo   \n",
              "3                                                                                                                                                                                                                                                                                                                                                                                                                                                                                                                                                                                                                                                                                                                                                                                                                                                                                                                                                                                                                                                                                                                                                                                                                                                                                                                                                                                                                                                                                                                                                                                                                                                                                                                                                                                                                                                                                                                                                                                                                                                                                                                         habana escenario ayer segunda ronda conversaciones migratorias unidos encuentros ambos países hablar temas asunto washington considera seguridad reanudaron nueva york verano pasado después cinco años interrupción gobierno george ee uu envió ahora habana subsecretario adjunto asuntos hemisferio craig funcionario alto rango pisado isla barack obama llegó nuevo paso hacia delegación cubana encabezada dagoberto viceministro relaciones terminar reunión reafirmó comunicado importancia utilidad objetivo encuentro pasar revista acuerdos migratorios firmados ambos países raíz crisis parte trató propuesta cubana negociar nuevo acuerdo migratorio establecer formas cooperación luchar tráfico convenio vigente establece obligación ee uu conceder mínimo visados anuales inmigrantes así repatriar balseros interceptados alta compromete tomar medidas impedir salidas ambas naciones expresaron entonces voluntad promover emigración legal establecieron mecanismo reuniones periódicas asegurar cumplimiento mecanismo funcionó diciembre gobierno medio política endurecimiento decidió suspender llegada obama casa blanca cosas empezaron volver abril presidente ee uu levantó restricciones impuestas antecesor viajes liberó envío remesas mayo propuso habana reanudar conversaciones cosa sucedió mes después nueva temas delicados agenda bilateral caso ciudadano norteamericano alan detenido isla diciembre distribuía grupos sociedad civil encargo gobierno cuba puede considerar intento artículo apareció edición impresa febrero   \n",
              "4                                                                                                                                                                                                                gran noche música transformó improvisada celebración honor whitney fallecida ángeles horas entrega edición muerte cantante solo inesperada cambió rumbo gala premios noche luto celebración recuerdo hermana sufrido muerte declaró cantante maestro ceremonias ll cool j comenzar ceremonia estadio staples ángeles entonar oración bello espíritu ido plegaria repitió largo velada boca lady gaga katy perry unieron momento silencio bruno mars olvidó seis candidaturas recordó grammy belleza whitney mientras bonnie raitt agradeció inesperada coincidencia dio oportunidad celebrar juntos música recomendó cantante country miranda lambert pesar ceremonia conocida grammy concedieron total drástica reducción habituales reconociendo mejor año gala convirtió esperado noche cantante británica obtuvo total seis mejor álbum ganó galardón mejor cantante ganó gramófono dorado mejor canción mejor grabación tema rolling in the así grammy mejor interpretación pop someone like premios cargados propio drama venir acompañados primera actuación pública cantante operada intérprete años dedicó victoria devolvieron kanye gran favorito siete consiguió total cuatro premios entregados ausencia ceremonia grammy coincidió última rueda prensa jede departamento forense ed dijo vez concluida encuentra espera resultados toxicología determinen si existía alguna legal cuerpo intérprete causa oficial muerte conocerá dentro seis u ocho winter apuntó departamento policía beverly hills solicitado oficina forense faciliten datos acerca incluidos detalles circunstancias encontró cuerpo cantante noche sábado hotel beverly conocida problemas alcohol primeras informaciones confirmadas señalan cantante murió ahogada bañera mientras preparaba fiesta previa accidente pudo ocurrió perder conocimiento culpa medicamentos circunstancia ocurrió artistas heath brittany corey haim modelo heredera anna nicole winter quiso confirmar desmentir bruce springsteen ceremonia grammy alternó además transgresión abriendo bruce springsteen tema we take care of our próximo canción puso pie mismísimo paul mccartney centrada problemas llega tiempo próximas elecciones foo fighters hicieron saltar tocaron estadio staples dedicaron cinco victorias rock género desearon ganadores kanye comienzo ceremonia gran favorito siete candidaturas consiguió total cuatro premios entregados mejor álbum latino rock urbano ganador mientras cachao llevó gramófono dorado mejor álbum tropical pepe aguilar declaró victorioso sección mexicana regional tejana mientras tigres norte hicieron mejor banda música noche perteneció whitney houston parafraseando canción popular intérprete ganadora seis premios así dijo rapero principio gala tema jennifer hudson interpretó i will always love canción dolly parton voz houston dio vuelta mundo parte banda sonora película guardaespaldas convirtió tema popular mejor muestra capacidad amiga personal cantante interpretó tema emocionante actuación concluyó sencillo lágrimas ojos explicaron organizadores homenaje improvisado dada falta cantantes acostumbrados familia cierra filas aclaró productor jimmy jam referencia gran familia así demostraron padres amy fallecida cantante británica subieron escenario recoger dos gramófonos recibió tony bennett trabajo junto hija mejor dúo puedo maravilloso grupo chicas dijo referencia houston recientemente fallecida etta   \n",
              "\n",
              "                                                      target_text  \n",
              "0  miguel buen reemplazará rafael iturriaga responsable seguridad  \n",
              "1                      taquillazo gato voz antonio llegan tiendas  \n",
              "2         bagaje nuevo presidente pp valenciano alcalde deslumbra  \n",
              "3                           obama eleva nivel misión viaja habana  \n",
              "4                británica ganadora noche seis cuenta mejor álbum  "
            ]
          },
          "execution_count": 92,
          "metadata": {},
          "output_type": "execute_result"
        }
      ],
      "source": [
        "train_df.head()"
      ]
    },
    {
      "cell_type": "code",
      "execution_count": 93,
      "metadata": {
        "colab": {
          "base_uri": "https://localhost:8080/",
          "height": 452
        },
        "id": "J59rNsktoO54",
        "outputId": "ccb69bee-2aea-4525-b707-1ea652d182c8"
      },
      "outputs": [
        {
          "data": {
            "text/html": [
              "<div>\n",
              "<style scoped>\n",
              "    .dataframe tbody tr th:only-of-type {\n",
              "        vertical-align: middle;\n",
              "    }\n",
              "\n",
              "    .dataframe tbody tr th {\n",
              "        vertical-align: top;\n",
              "    }\n",
              "\n",
              "    .dataframe thead th {\n",
              "        text-align: right;\n",
              "    }\n",
              "</style>\n",
              "<table border=\"1\" class=\"dataframe\">\n",
              "  <thead>\n",
              "    <tr style=\"text-align: right;\">\n",
              "      <th></th>\n",
              "      <th>source_text</th>\n",
              "      <th>target_text</th>\n",
              "    </tr>\n",
              "  </thead>\n",
              "  <tbody>\n",
              "    <tr>\n",
              "      <th>count</th>\n",
              "      <td>3625</td>\n",
              "      <td>3625</td>\n",
              "    </tr>\n",
              "    <tr>\n",
              "      <th>unique</th>\n",
              "      <td>3625</td>\n",
              "      <td>3624</td>\n",
              "    </tr>\n",
              "    <tr>\n",
              "      <th>top</th>\n",
              "      <td>interior va sufrir nuevo cambio primer orden organigrama relevo dos tres viceconsejeros nombró rodolfo ares llegar cartera hace dos viceconsejero administración ernesto martínez aprobado consejo gobierno reunión viceconsejero rafael acordado materializará reunión ejecutivo próximo según podido saber última sustitución alto contenido persona elegida hacerse cargo puesto candidato socialista diputación miguel tres viceconsejeros nombrados ares permanecerá así cargo raúl fernández medio ambiente releva viceconsejera nieves terán dos relevos llegan momento tensión creciente departamento acusan niveles menor junto realizado ayer medio coinciden igualmente desastre electoral dejado candidatos reclamación cambios filas partido propio caso consejera gemma piden voces mayor perfil político partido altos cargos indica relevos afectarán varios respecto cambios filas propio patxi descartado tiempo declaraba plenamente satisfecho gestión idoia remitió ayer nuevo gobierno esforzó ayer despojar cambios toda sombra mendia atribuyó relevo martínez lahidalga precisó realizó común departamento reveló día portavoz sindicato policial remitió recientemente carta consejero expresándole deseo terminar andadura relación sostuvo desmintió existencia desavenencias ahora viceconsejero portavoz sugirió decisión martínez lahidalga fruto última fuentes interior negaron modo tajante cualquier relación marcha conflicto ertzaintza consideraron ecuador mandato gobierno momento adecuado realizar tipo martínez lahidalga sustituido ayer mismo ahora directora gestión económica infraestructuras nélida ares deberá dar explicaciones cambio ea anunció solicitará cambio anunciado ayer afecta viceconsejería medio ahora nieves cuyo cese atribuyó mendia razones sustituida arantza ahora directora política territorial ayuntamiento gobierno cambió primer año mandato altos cargos nombrados nueva etapa directores cinco calificó cualquier organización somete primera vez años relevo integral artículo apareció edición impresa junio</td>\n",
              "      <td>madrid endosa goleada histórica levante formación ofensiva potenció eficacia delantero francés</td>\n",
              "    </tr>\n",
              "    <tr>\n",
              "      <th>freq</th>\n",
              "      <td>1</td>\n",
              "      <td>2</td>\n",
              "    </tr>\n",
              "  </tbody>\n",
              "</table>\n",
              "</div>"
            ],
            "text/plain": [
              "                                                                                                                                                                                                                                                                                                                                                                                                                                                                                                                                                                                                                                                                                                                                                                                                                                                                                                                                                                                                                                                                                                                                                                                                                                                                                                                                                                                                                                                                                                                                                                                                                                                                                                                                                                                                                                                                                                                                                                                                                                                                                         source_text  \\\n",
              "count                                                                                                                                                                                                                                                                                                                                                                                                                                                                                                                                                                                                                                                                                                                                                                                                                                                                                                                                                                                                                                                                                                                                                                                                                                                                                                                                                                                                                                                                                                                                                                                                                                                                                                                                                                                                                                                                                                                                                                                                                                                                                           3625   \n",
              "unique                                                                                                                                                                                                                                                                                                                                                                                                                                                                                                                                                                                                                                                                                                                                                                                                                                                                                                                                                                                                                                                                                                                                                                                                                                                                                                                                                                                                                                                                                                                                                                                                                                                                                                                                                                                                                                                                                                                                                                                                                                                                                          3625   \n",
              "top     interior va sufrir nuevo cambio primer orden organigrama relevo dos tres viceconsejeros nombró rodolfo ares llegar cartera hace dos viceconsejero administración ernesto martínez aprobado consejo gobierno reunión viceconsejero rafael acordado materializará reunión ejecutivo próximo según podido saber última sustitución alto contenido persona elegida hacerse cargo puesto candidato socialista diputación miguel tres viceconsejeros nombrados ares permanecerá así cargo raúl fernández medio ambiente releva viceconsejera nieves terán dos relevos llegan momento tensión creciente departamento acusan niveles menor junto realizado ayer medio coinciden igualmente desastre electoral dejado candidatos reclamación cambios filas partido propio caso consejera gemma piden voces mayor perfil político partido altos cargos indica relevos afectarán varios respecto cambios filas propio patxi descartado tiempo declaraba plenamente satisfecho gestión idoia remitió ayer nuevo gobierno esforzó ayer despojar cambios toda sombra mendia atribuyó relevo martínez lahidalga precisó realizó común departamento reveló día portavoz sindicato policial remitió recientemente carta consejero expresándole deseo terminar andadura relación sostuvo desmintió existencia desavenencias ahora viceconsejero portavoz sugirió decisión martínez lahidalga fruto última fuentes interior negaron modo tajante cualquier relación marcha conflicto ertzaintza consideraron ecuador mandato gobierno momento adecuado realizar tipo martínez lahidalga sustituido ayer mismo ahora directora gestión económica infraestructuras nélida ares deberá dar explicaciones cambio ea anunció solicitará cambio anunciado ayer afecta viceconsejería medio ahora nieves cuyo cese atribuyó mendia razones sustituida arantza ahora directora política territorial ayuntamiento gobierno cambió primer año mandato altos cargos nombrados nueva etapa directores cinco calificó cualquier organización somete primera vez años relevo integral artículo apareció edición impresa junio   \n",
              "freq                                                                                                                                                                                                                                                                                                                                                                                                                                                                                                                                                                                                                                                                                                                                                                                                                                                                                                                                                                                                                                                                                                                                                                                                                                                                                                                                                                                                                                                                                                                                                                                                                                                                                                                                                                                                                                                                                                                                                                                                                                                                                               1   \n",
              "\n",
              "                                                                                           target_text  \n",
              "count                                                                                             3625  \n",
              "unique                                                                                            3624  \n",
              "top     madrid endosa goleada histórica levante formación ofensiva potenció eficacia delantero francés  \n",
              "freq                                                                                                 2  "
            ]
          },
          "execution_count": 93,
          "metadata": {},
          "output_type": "execute_result"
        }
      ],
      "source": [
        "train_df.describe()"
      ]
    },
    {
      "cell_type": "code",
      "execution_count": 94,
      "metadata": {
        "colab": {
          "base_uri": "https://localhost:8080/",
          "height": 1000
        },
        "id": "EcJyA2OFoG2g",
        "outputId": "e9690f57-7982-4c27-b0f6-58ab7fe4f66c"
      },
      "outputs": [
        {
          "data": {
            "text/html": [
              "<div>\n",
              "<style scoped>\n",
              "    .dataframe tbody tr th:only-of-type {\n",
              "        vertical-align: middle;\n",
              "    }\n",
              "\n",
              "    .dataframe tbody tr th {\n",
              "        vertical-align: top;\n",
              "    }\n",
              "\n",
              "    .dataframe thead th {\n",
              "        text-align: right;\n",
              "    }\n",
              "</style>\n",
              "<table border=\"1\" class=\"dataframe\">\n",
              "  <thead>\n",
              "    <tr style=\"text-align: right;\">\n",
              "      <th></th>\n",
              "      <th>source_text</th>\n",
              "      <th>target_text</th>\n",
              "    </tr>\n",
              "  </thead>\n",
              "  <tbody>\n",
              "    <tr>\n",
              "      <th>0</th>\n",
              "      <td>tráiler hijo hijo wang xiaoshuai realizador bicicleta pekín secretos describe vida matrimonio tres décadas sufre diversas vicisitudes película contada forma sino estructura numerosísimos flashbacks tramo director revela secreto familia sorpresas sentimentales pillan paso cambiado público protagonistas mientras deja fluir trabajo pareja actores wang encarna hombre bondadoso aunque miserias yong mei aparecía the mujer veces siempre gracias trabajos lograron osos plata mejor actor actriz pasada berlinale aquí tráiler llegue salas españoles próximo</td>\n",
              "      <td>película wang estrena obtuvo premios mejor actor mejor actriz última berlinale</td>\n",
              "    </tr>\n",
              "    <tr>\n",
              "      <th>1</th>\n",
              "      <td>camiones llevaron prisioneros bosque éstos previamente cavado unas profundas continuación echaron presos suelo boca entonces sucedió año masacre llevó cabo marco gran purga puesto marcha stalin ejecutados presos mijaíl miembro servicios secretos soviéticos autor citadas desarrollado sistema ejecuciones celda desnudaron ataron luego golpearon tronco perdieran final llevaron lugar historiador yuri dmítriev equipo respetada institución gubernamental derechos encontraron fosas comunes hecho cavar halladas localidad contenían restos década democratizador borís yeltsin hallazgo considerado así declaró hace dos demonización excesiva stalin maneras atacar después yuri dmítriev hizo público valioso lista nombres agentes servicios secretos época historiador acusado dedicarse pornografía material sirvió prueba unas fotos hija adoptiva entonces ocho cuyos retratos desnudos descubrieron agentes policía secreta ordenador acusaciones infundadas explicó entonces serguéi presidente consejo derechos humanos moscow servicios secretos inventaron historia denigrar cuyo trabajo honra víctimas terror yuri dmítriev aclaró natalia niña enfermiza fotografiaba seguir yuri dmítriev pasa largas temporadas acusación costó año tras unieron mientras acudía coche funeral hace detuvo policía acusó intentar huir dmítriev parar vez varias veces practicaron exámenes psiquiátricos encuestas cuáles rusos grandes stalin suele ocupar primer lugar mientras proceso judicial convirtió dmítriev personaje conocido rusia personalidades mundo cultura andréi director película firmaron peticiones autoridades dejaran perseguir poeta dramaturgo aleksandr gelman juicio ayudó conocer hombre solo bárbaros conocen personas válidas rusia funciona juicio valido desprende rusia putin vuelve utilizar métodos derivados décadas stalin mismo surgió pasado encuestas pregunta rusos cuáles grandes stalin suele ocupar primer rusos putin olvidado tema bien visto época putin desea ciudadanos opinión favorable conversación masha gessen pregunté periodista origen actualidad trabaja revista the new impresión quedado reciente viaje investigó memoria gulags antiguos presos veinte dijo sitios siberia erigieron monumentos honor perdido vida época existían proyectos fundar museos dedicados periodista visitó lugares recorrido años atrás encontrado gente muchas ganas mantener viva memoria erigir museos monumentos aquel entonces guía inna geóloga entregada memoria histórica zona campos siberianos últimas dos décadas inna convertido persona contó solo trabajó fundar museos gulag merece sino ahora afirma testimonios gulag exageraban horror añadió convertido votante ver masha gessen cansado siempre margen memoria histórica ve carcomida intentos poner duda crímenes estalinistas gessen viajes rusia pude comprobar museos dedicados represión estalinista gulag gran falta dinero único factor explica nota clara falta entusiasmo llevan cabo si supieran esfuerzo quiere busca disfrazar pasado confirmó masha gessen rusia manipulación falsificación ocurre muchas incluso ejemplo ello zajar escritor exsoldado militante partido nacional bolchevique rusia nombres conocidos literatura rusa penúltima habla años veinte primer gulag islas protagonista novela parricida dostoievskiano mató padre proteger presos políticos rodean prisionero común dibujados personajes sutilmente gente ética alguna dedica sabiendas extender calumnias sembrar contexto rusia cuya memoria histórica ve carcomida intentos poner duda crímenes novela ayuda tendencia poniendo entredicho postura ética presos políticos relativizando islas antiguos vez construir museo campos trabajos autoridades optaron renovar antiguos monasterios dedicarlos exposiciones vida arte monjes habitaban convirtieran ayuda acentuar glorioso pasado ruso olvidar crímenes según expresión activistas rusas irina fliege san rusia pasado sigue existiendo presente aún convertido si pasado invade sociedad puede considerarlo pasado examinarlo incluso manipulación pasado función intereses políticos presente rasgos mejor definen regímenes monika zgustova puedes seguir país opinión twitter suscribirte aquí</td>\n",
              "      <td>país vuelve utilizar métodos derivados décadas manipulación hechos falsificación historia instalado muchas esferas</td>\n",
              "    </tr>\n",
              "    <tr>\n",
              "      <th>2</th>\n",
              "      <td>aires cambios auditori tras nombramiento robert brufau director pasado consejo rector consorci i da paso redefinición dos grandes áreas gestión institución anuncia cambios calado nuevo organigrama cese jordi primera próxima recuperación cargo director técnico orquestra simfònica barcelona i nacional catalunya decisión cese aprobada ayer sesión extraordinaria consejo rector propuesta conjunta entidades consorciadas responde falta adecuación perfil profesional necesidades requiere actualmente según comunicado propio misma reunión aprobaron bases concurso publicarán próximos servir escoger nueva brufau asumirá provisionalmente funciones gerente etapa incluye segundo concurso cargo director técnico figura último ocupar enero alberto nueva linea artística diseñada brufau apuesta plena incorporación obc objetivos programación general sintonía postulados ciclos música cámara nuevo gerente asumirá gestión administrativa marco nuevo organigrama recupera funciones director técnico obc pieza clave hora solucionar problemas genera funcionamiento diario plantilla orquestal planificación agenda ensayos conciertos semanales largo anuncio cese tort coincide gira obc realizando doble programa apartado incluye versión turandot dirigida escénicamente àlex fura dels musicalmente kazushi titular</td>\n",
              "      <td>cese gestor jordi tort inicia gran cambio organigrama institución</td>\n",
              "    </tr>\n",
              "    <tr>\n",
              "      <th>3</th>\n",
              "      <td>tribunal europeo derechos humanos instancia internacional particulares pueden vez agotados recursos defensa derechos contemplados convenio europeo derechos tratado internacional sido reformado ocasiones ampliar catálogo derechos perfeccionar mecanismo protección representa citado hablamos jurisdicción ciudadanos operadores jurídicos relativamente tribunal constitucional poder judicial plenamente conscientes importancia respetar integrar jurisprudencia tedh ejercicio ordinario expresión natural diálogo tribunales conducente establecer orden constitucional allá función garante derechos imprescindible explicar esfuerzo desarrolla tedh campo diferente aunque relacionado hace condición guardián golpe tribunal ido identificando aquellos elementos resultan imprescindibles régimen político calificado reconocimiento respeto serie considera necesario analizar manera tales derechos ejercidos marco proceso aunque tedh sensible admitir cierto margen apreciación instituciones reserva derecho vigilar calidad proceso conduce adopción tales medidas cualquier institución incluido bajo idea tribunal ido trazando perímetro sirve límite capacidad decisión sometidos aquel cuyo comportamiento sobrepase citado margen quedará estándar calidad democrática tedh considera exigible expuesto permite valorar justa dimensión pronunciamiento reciente tedh inadmitido trámite demanda planteada varios diputados parlament cataluña decisión constitucional virtud quedó suspendido pleno octubre aunque decisión conviene subrayar importancia españa estrasburgo constate actuación instituciones responde estándares democracia convencional recogidos pronunciamiento debería servir acelerar final tantas discusiones estériles calidad sistema político ayudarnos centrar esfuerzos abrir cauces entendimiento atender manera prioritaria acción ordinaria puedes seguir país opinión twitter suscribirte aquí</td>\n",
              "      <td>pronunciamiento tedh demanda parlament debería servir acelerar final tantas discusiones estériles calidad sistema político</td>\n",
              "    </tr>\n",
              "    <tr>\n",
              "      <th>4</th>\n",
              "      <td>reserva federal unidos banco central europeo distintas palabras mismo demorarán cuanto tiempo necesario mantenimiento tipos interés bajos disposiciones política monetaria heterodoxa fin hacer frente amenazas gravitan crecimiento bce propone además medidas crédito traslade empresas familias corregir así tendencia bancos captar dinero barato propio bce enterrarlo después títulos deuda depósitos remuneración superior coste préstamo coincidencia casual fed bce detectan ralentización condiciones crecimiento cuya evolución puede empeorar próximos fráncfort recientemente reunido puesto nombre excusada queda fed hacerlo razones mayor riesgo economía global momentos aplicación parte washington política intensiva extensiva proteccionismo comercial cuyo principal objetivo obtener ventajas corto plazo balanza causa última ventajismo puesto productos consiguen ventajas competitivas exterior políticas económicas internas abundan ayudas ayuda describir grado deterioro sufriendo comercio tampoco daños infligidos bloques económicos ajenos guerra europa mejor lógica intercambio comercial pacífico sustituyendo gran velocidad lógica hostilidad excluida mediación política monetaria dólar euro detectan divergencia cada vez mayor proyecciones macroeconómicas particular optimistas previsiones administración inquietud inversores discrepancia produce esporádicas caídas cadena mercados reaccionado bien retraso encarecimiento quiere decir vuelta tipos altos preocupación latente recordar bancos contaban subida escalonada prolongar relajación monetaria buena noticia negocio furor proteccionista condena organización mundial comercio jugar papel víctima estrategia trump admite existencia organismo multilateral capacidad arbitraje conflictos omc prestigio capacidad intimidación obstaculiza política trumpiana aplicar negociaciones coacciones cada producto ahí washington bloqueando renovación miembros órgano apelación bruselas hace bien volcarse nueva vía arbitraje conjurar amenazas pesan organización órgano apelación omc organismo muerte virtual omc gran victoria trofeo explícito puedes seguir país opinión twitter suscribirte aquí</td>\n",
              "      <td>bce fed retrasan subidas tipos temor proteccionismo</td>\n",
              "    </tr>\n",
              "  </tbody>\n",
              "</table>\n",
              "</div>"
            ],
            "text/plain": [
              "                                                                                                                                                                                                                                                                                                                                                                                                                                                                                                                                                                                                                                                                                                                                                                                                                                                                                                                                                                                                                                                                                                                                                                                                                                                                                                                                                                                                                                                                                                                                                                                                                                                                                                                                                                                                                                                                                                                                                                                                                                                                                                                                                                                                                                                                                                                                                                                                                                                                                                                                                                                                                                                                                                                                                                                                                                                                                                                                                                                                                                                                                                                                                                                                                                                                                                                                                                                                                                                                                                                                                                                                                                                                                                                                                                                                                                                                                                                                                                                                                                                                                                                                                                                                                                                                        source_text  \\\n",
              "0                                                                                                                                                                                                                                                                                                                                                                                                                                                                                                                                                                                                                                                                                                                                                                                                                                                                                                                                                                                                                                                                                                                                                                                                                                                                                                                                                                                                                                                                                                                                                                                                                                                                                                                                                                                                                                                                                                                                                                                                                                                                                                                                                                                                                                                                                                                                                                                                                                                                                                                                                                                                                                                                                                                                                                                                                                                                                                                                                                                                                                                                                                                                                                                                                                                                                                                                                                                                                                                                                                                                                                                                                                                                                                            tráiler hijo hijo wang xiaoshuai realizador bicicleta pekín secretos describe vida matrimonio tres décadas sufre diversas vicisitudes película contada forma sino estructura numerosísimos flashbacks tramo director revela secreto familia sorpresas sentimentales pillan paso cambiado público protagonistas mientras deja fluir trabajo pareja actores wang encarna hombre bondadoso aunque miserias yong mei aparecía the mujer veces siempre gracias trabajos lograron osos plata mejor actor actriz pasada berlinale aquí tráiler llegue salas españoles próximo   \n",
              "1  camiones llevaron prisioneros bosque éstos previamente cavado unas profundas continuación echaron presos suelo boca entonces sucedió año masacre llevó cabo marco gran purga puesto marcha stalin ejecutados presos mijaíl miembro servicios secretos soviéticos autor citadas desarrollado sistema ejecuciones celda desnudaron ataron luego golpearon tronco perdieran final llevaron lugar historiador yuri dmítriev equipo respetada institución gubernamental derechos encontraron fosas comunes hecho cavar halladas localidad contenían restos década democratizador borís yeltsin hallazgo considerado así declaró hace dos demonización excesiva stalin maneras atacar después yuri dmítriev hizo público valioso lista nombres agentes servicios secretos época historiador acusado dedicarse pornografía material sirvió prueba unas fotos hija adoptiva entonces ocho cuyos retratos desnudos descubrieron agentes policía secreta ordenador acusaciones infundadas explicó entonces serguéi presidente consejo derechos humanos moscow servicios secretos inventaron historia denigrar cuyo trabajo honra víctimas terror yuri dmítriev aclaró natalia niña enfermiza fotografiaba seguir yuri dmítriev pasa largas temporadas acusación costó año tras unieron mientras acudía coche funeral hace detuvo policía acusó intentar huir dmítriev parar vez varias veces practicaron exámenes psiquiátricos encuestas cuáles rusos grandes stalin suele ocupar primer lugar mientras proceso judicial convirtió dmítriev personaje conocido rusia personalidades mundo cultura andréi director película firmaron peticiones autoridades dejaran perseguir poeta dramaturgo aleksandr gelman juicio ayudó conocer hombre solo bárbaros conocen personas válidas rusia funciona juicio valido desprende rusia putin vuelve utilizar métodos derivados décadas stalin mismo surgió pasado encuestas pregunta rusos cuáles grandes stalin suele ocupar primer rusos putin olvidado tema bien visto época putin desea ciudadanos opinión favorable conversación masha gessen pregunté periodista origen actualidad trabaja revista the new impresión quedado reciente viaje investigó memoria gulags antiguos presos veinte dijo sitios siberia erigieron monumentos honor perdido vida época existían proyectos fundar museos dedicados periodista visitó lugares recorrido años atrás encontrado gente muchas ganas mantener viva memoria erigir museos monumentos aquel entonces guía inna geóloga entregada memoria histórica zona campos siberianos últimas dos décadas inna convertido persona contó solo trabajó fundar museos gulag merece sino ahora afirma testimonios gulag exageraban horror añadió convertido votante ver masha gessen cansado siempre margen memoria histórica ve carcomida intentos poner duda crímenes estalinistas gessen viajes rusia pude comprobar museos dedicados represión estalinista gulag gran falta dinero único factor explica nota clara falta entusiasmo llevan cabo si supieran esfuerzo quiere busca disfrazar pasado confirmó masha gessen rusia manipulación falsificación ocurre muchas incluso ejemplo ello zajar escritor exsoldado militante partido nacional bolchevique rusia nombres conocidos literatura rusa penúltima habla años veinte primer gulag islas protagonista novela parricida dostoievskiano mató padre proteger presos políticos rodean prisionero común dibujados personajes sutilmente gente ética alguna dedica sabiendas extender calumnias sembrar contexto rusia cuya memoria histórica ve carcomida intentos poner duda crímenes novela ayuda tendencia poniendo entredicho postura ética presos políticos relativizando islas antiguos vez construir museo campos trabajos autoridades optaron renovar antiguos monasterios dedicarlos exposiciones vida arte monjes habitaban convirtieran ayuda acentuar glorioso pasado ruso olvidar crímenes según expresión activistas rusas irina fliege san rusia pasado sigue existiendo presente aún convertido si pasado invade sociedad puede considerarlo pasado examinarlo incluso manipulación pasado función intereses políticos presente rasgos mejor definen regímenes monika zgustova puedes seguir país opinión twitter suscribirte aquí   \n",
              "2                                                                                                                                                                                                                                                                                                                                                                                                                                                                                                                                                                                                                                                                                                                                                                                                                                                                                                                                                                                                                                                                                                                                                                                                                                                                                                                                                                                                                                                                                                                                                                                                                                                                                                                                                                                                                                                                                                                                                                                                                                                                                                                                                                                                                                                                                                                                                                                                                                                                                                                                                                                                                                                                                                                                                                                                                                                                                                                                   aires cambios auditori tras nombramiento robert brufau director pasado consejo rector consorci i da paso redefinición dos grandes áreas gestión institución anuncia cambios calado nuevo organigrama cese jordi primera próxima recuperación cargo director técnico orquestra simfònica barcelona i nacional catalunya decisión cese aprobada ayer sesión extraordinaria consejo rector propuesta conjunta entidades consorciadas responde falta adecuación perfil profesional necesidades requiere actualmente según comunicado propio misma reunión aprobaron bases concurso publicarán próximos servir escoger nueva brufau asumirá provisionalmente funciones gerente etapa incluye segundo concurso cargo director técnico figura último ocupar enero alberto nueva linea artística diseñada brufau apuesta plena incorporación obc objetivos programación general sintonía postulados ciclos música cámara nuevo gerente asumirá gestión administrativa marco nuevo organigrama recupera funciones director técnico obc pieza clave hora solucionar problemas genera funcionamiento diario plantilla orquestal planificación agenda ensayos conciertos semanales largo anuncio cese tort coincide gira obc realizando doble programa apartado incluye versión turandot dirigida escénicamente àlex fura dels musicalmente kazushi titular   \n",
              "3                                                                                                                                                                                                                                                                                                                                                                                                                                                                                                                                                                                                                                                                                                                                                                                                                                                                                                                                                                                                                                                                                                                                                                                                                                                                                                                                                                                                                                                                                                                                                                                                                                                                                                                                                                                                                                                                                                                                                                                                                                                                                                                                                                                                                                                                                                                        tribunal europeo derechos humanos instancia internacional particulares pueden vez agotados recursos defensa derechos contemplados convenio europeo derechos tratado internacional sido reformado ocasiones ampliar catálogo derechos perfeccionar mecanismo protección representa citado hablamos jurisdicción ciudadanos operadores jurídicos relativamente tribunal constitucional poder judicial plenamente conscientes importancia respetar integrar jurisprudencia tedh ejercicio ordinario expresión natural diálogo tribunales conducente establecer orden constitucional allá función garante derechos imprescindible explicar esfuerzo desarrolla tedh campo diferente aunque relacionado hace condición guardián golpe tribunal ido identificando aquellos elementos resultan imprescindibles régimen político calificado reconocimiento respeto serie considera necesario analizar manera tales derechos ejercidos marco proceso aunque tedh sensible admitir cierto margen apreciación instituciones reserva derecho vigilar calidad proceso conduce adopción tales medidas cualquier institución incluido bajo idea tribunal ido trazando perímetro sirve límite capacidad decisión sometidos aquel cuyo comportamiento sobrepase citado margen quedará estándar calidad democrática tedh considera exigible expuesto permite valorar justa dimensión pronunciamiento reciente tedh inadmitido trámite demanda planteada varios diputados parlament cataluña decisión constitucional virtud quedó suspendido pleno octubre aunque decisión conviene subrayar importancia españa estrasburgo constate actuación instituciones responde estándares democracia convencional recogidos pronunciamiento debería servir acelerar final tantas discusiones estériles calidad sistema político ayudarnos centrar esfuerzos abrir cauces entendimiento atender manera prioritaria acción ordinaria puedes seguir país opinión twitter suscribirte aquí   \n",
              "4                                                                                                                                                                                                                                                                                                                                                                                                                                                                                                                                                                                                                                                                                                                                                                                                                                                                                                                                                                                                                                                                                                                                                                                                                                                                                                                                                                                                                                                                                                                                                                                                                                                                                                                                                                                                                                                                                                                                                                                                                                                            reserva federal unidos banco central europeo distintas palabras mismo demorarán cuanto tiempo necesario mantenimiento tipos interés bajos disposiciones política monetaria heterodoxa fin hacer frente amenazas gravitan crecimiento bce propone además medidas crédito traslade empresas familias corregir así tendencia bancos captar dinero barato propio bce enterrarlo después títulos deuda depósitos remuneración superior coste préstamo coincidencia casual fed bce detectan ralentización condiciones crecimiento cuya evolución puede empeorar próximos fráncfort recientemente reunido puesto nombre excusada queda fed hacerlo razones mayor riesgo economía global momentos aplicación parte washington política intensiva extensiva proteccionismo comercial cuyo principal objetivo obtener ventajas corto plazo balanza causa última ventajismo puesto productos consiguen ventajas competitivas exterior políticas económicas internas abundan ayudas ayuda describir grado deterioro sufriendo comercio tampoco daños infligidos bloques económicos ajenos guerra europa mejor lógica intercambio comercial pacífico sustituyendo gran velocidad lógica hostilidad excluida mediación política monetaria dólar euro detectan divergencia cada vez mayor proyecciones macroeconómicas particular optimistas previsiones administración inquietud inversores discrepancia produce esporádicas caídas cadena mercados reaccionado bien retraso encarecimiento quiere decir vuelta tipos altos preocupación latente recordar bancos contaban subida escalonada prolongar relajación monetaria buena noticia negocio furor proteccionista condena organización mundial comercio jugar papel víctima estrategia trump admite existencia organismo multilateral capacidad arbitraje conflictos omc prestigio capacidad intimidación obstaculiza política trumpiana aplicar negociaciones coacciones cada producto ahí washington bloqueando renovación miembros órgano apelación bruselas hace bien volcarse nueva vía arbitraje conjurar amenazas pesan organización órgano apelación omc organismo muerte virtual omc gran victoria trofeo explícito puedes seguir país opinión twitter suscribirte aquí   \n",
              "\n",
              "                                                                                                                  target_text  \n",
              "0                                              película wang estrena obtuvo premios mejor actor mejor actriz última berlinale  \n",
              "1          país vuelve utilizar métodos derivados décadas manipulación hechos falsificación historia instalado muchas esferas  \n",
              "2                                                           cese gestor jordi tort inicia gran cambio organigrama institución  \n",
              "3  pronunciamiento tedh demanda parlament debería servir acelerar final tantas discusiones estériles calidad sistema político  \n",
              "4                                                                         bce fed retrasan subidas tipos temor proteccionismo  "
            ]
          },
          "execution_count": 94,
          "metadata": {},
          "output_type": "execute_result"
        }
      ],
      "source": [
        "test_df.head()"
      ]
    },
    {
      "cell_type": "code",
      "execution_count": 95,
      "metadata": {
        "colab": {
          "base_uri": "https://localhost:8080/",
          "height": 192
        },
        "id": "EGGmqzp7oVEw",
        "outputId": "745ab1ac-b19f-42a2-be2d-8b397e32f6a6"
      },
      "outputs": [
        {
          "data": {
            "text/html": [
              "<div>\n",
              "<style scoped>\n",
              "    .dataframe tbody tr th:only-of-type {\n",
              "        vertical-align: middle;\n",
              "    }\n",
              "\n",
              "    .dataframe tbody tr th {\n",
              "        vertical-align: top;\n",
              "    }\n",
              "\n",
              "    .dataframe thead th {\n",
              "        text-align: right;\n",
              "    }\n",
              "</style>\n",
              "<table border=\"1\" class=\"dataframe\">\n",
              "  <thead>\n",
              "    <tr style=\"text-align: right;\">\n",
              "      <th></th>\n",
              "      <th>source_text</th>\n",
              "      <th>target_text</th>\n",
              "    </tr>\n",
              "  </thead>\n",
              "  <tbody>\n",
              "    <tr>\n",
              "      <th>count</th>\n",
              "      <td>580</td>\n",
              "      <td>580</td>\n",
              "    </tr>\n",
              "    <tr>\n",
              "      <th>unique</th>\n",
              "      <td>576</td>\n",
              "      <td>578</td>\n",
              "    </tr>\n",
              "    <tr>\n",
              "      <th>top</th>\n",
              "      <td>especial publicidad amor teatro acompañado actor italiano corrado tedeschi largo amor quita historia refleja valores defiende anima vivir intensidad través</td>\n",
              "      <td>análisis actualidad internacional través artículos publicados medios globales seleccionados comentados revista ctxt</td>\n",
              "    </tr>\n",
              "    <tr>\n",
              "      <th>freq</th>\n",
              "      <td>5</td>\n",
              "      <td>2</td>\n",
              "    </tr>\n",
              "  </tbody>\n",
              "</table>\n",
              "</div>"
            ],
            "text/plain": [
              "                                                                                                                                                        source_text  \\\n",
              "count                                                                                                                                                           580   \n",
              "unique                                                                                                                                                          576   \n",
              "top     especial publicidad amor teatro acompañado actor italiano corrado tedeschi largo amor quita historia refleja valores defiende anima vivir intensidad través   \n",
              "freq                                                                                                                                                              5   \n",
              "\n",
              "                                                                                                                target_text  \n",
              "count                                                                                                                   580  \n",
              "unique                                                                                                                  578  \n",
              "top     análisis actualidad internacional través artículos publicados medios globales seleccionados comentados revista ctxt  \n",
              "freq                                                                                                                      2  "
            ]
          },
          "execution_count": 95,
          "metadata": {},
          "output_type": "execute_result"
        }
      ],
      "source": [
        "test_df.describe() # Nro de Elementos, Nro de valores unicos, valor mas frecuente(top) y su frecuencia (freq)"
      ]
    },
    {
      "cell_type": "markdown",
      "metadata": {},
      "source": [
        "TOKENIZACION"
      ]
    },
    {
      "cell_type": "code",
      "execution_count": 96,
      "metadata": {
        "id": "9W1GA9qarBVK"
      },
      "outputs": [],
      "source": [
        "nlp = spacy.load(\"es_core_news_sm\") # carga el modelo de lenguaje en español\n",
        "tokenizer = Tokenizer(nlp.vocab) # se crea el objeto tokenizer"
      ]
    },
    {
      "cell_type": "code",
      "execution_count": 97,
      "metadata": {
        "id": "Kb-huDmvpYIA"
      },
      "outputs": [],
      "source": [
        "## Tokenizar los datos usando NLTK(herramienta para procesamiento de lenguaje natural NLP)\n",
        "\n",
        "for cols in train_df.columns: # tokeniza las columnas de train_df\n",
        "    train_df[cols] = train_df[cols].apply(lambda x: [token.text.lower() for token in tokenizer(x)]) # tokeniza y convierte a minusculas\n",
        "\n",
        "for cols in test_df.columns:\n",
        "    test_df[cols] = test_df[cols].apply(lambda x: [token.text.lower() for token in tokenizer(x)])"
      ]
    },
    {
      "cell_type": "code",
      "execution_count": 98,
      "metadata": {
        "colab": {
          "base_uri": "https://localhost:8080/",
          "height": 744
        },
        "id": "uUnIBDbArdjz",
        "outputId": "9fe9f744-4008-459e-d3e3-3c31c3a489a1"
      },
      "outputs": [
        {
          "data": {
            "text/html": [
              "<div>\n",
              "<style scoped>\n",
              "    .dataframe tbody tr th:only-of-type {\n",
              "        vertical-align: middle;\n",
              "    }\n",
              "\n",
              "    .dataframe tbody tr th {\n",
              "        vertical-align: top;\n",
              "    }\n",
              "\n",
              "    .dataframe thead th {\n",
              "        text-align: right;\n",
              "    }\n",
              "</style>\n",
              "<table border=\"1\" class=\"dataframe\">\n",
              "  <thead>\n",
              "    <tr style=\"text-align: right;\">\n",
              "      <th></th>\n",
              "      <th>source_text</th>\n",
              "      <th>target_text</th>\n",
              "    </tr>\n",
              "  </thead>\n",
              "  <tbody>\n",
              "    <tr>\n",
              "      <th>0</th>\n",
              "      <td>[interior, va, sufrir, nuevo, cambio, primer, orden, organigrama, relevo, dos, tres, viceconsejeros, nombró, rodolfo, ares, llegar, cartera, hace, dos, viceconsejero, administración, ernesto, martínez, aprobado, consejo, gobierno, reunión, viceconsejero, rafael, acordado, materializará, reunión, ejecutivo, próximo, según, podido, saber, última, sustitución, alto, contenido, persona, elegida, hacerse, cargo, puesto, candidato, socialista, diputación, miguel, tres, viceconsejeros, nombrados, ares, permanecerá, así, cargo, raúl, fernández, medio, ambiente, releva, viceconsejera, nieves, terán, dos, relevos, llegan, momento, tensión, creciente, departamento, acusan, niveles, menor, junto, realizado, ayer, medio, coinciden, igualmente, desastre, electoral, dejado, candidatos, reclamación, cambios, filas, partido, propio, caso, consejera, gemma, piden, voces, mayor, perfil, político, partido, altos, ...]</td>\n",
              "      <td>[miguel, buen, reemplazará, rafael, iturriaga, responsable, seguridad]</td>\n",
              "    </tr>\n",
              "    <tr>\n",
              "      <th>1</th>\n",
              "      <td>[criadas, señoras, tate, emma, octavia, viola, bryce, dallas, allison, jessica, drama, grandes, éxitos, taquilla, unidos, millones, dólares, millones, criadas, señoras, habla, forma, light, racismo, sesenta, sur, aquel, acotar, intocable, decir, temas, fuertes, contados, forma, estreno, tv, unas, actrices, empezando, talento, viola, dirige, tate, tocó, lotería, ser, amigo, escritora, novela, basa, secuencias, eliminadas, tipo, gato, botas, chris, antonio, salma, zack, billy, bob, gato, ligón, espadachín, propia, deja, adonde, llega, guion, algún, momento, va, antonio, banderas, labia, levanta, cercana, spaguetti, western, ironía, descarnada, lanzó, película, madre, gato, momentos]</td>\n",
              "      <td>[taquillazo, gato, voz, antonio, llegan, tiendas]</td>\n",
              "    </tr>\n",
              "    <tr>\n",
              "      <th>2</th>\n",
              "      <td>[nacido, alberto, fabra, cursó, estudios, arquitectura, técnica, casado, dos, afilió, alianza, popular, miembro, elegido, concejal, ayuntamiento, ocupó, áreas, medio, servicios, públicos, dio, salto, apadrinado, carlos, forzó, renuncia, entonces, josé, luis, golpe, entonces, presidente, diputación, pp, provincia, sustituyó, siempre, mantenido, notables, alberto, proclamó, nuevo, alcalde, favorito, fabra, logrado, dos, victorias, mayoría, absoluta, aunque, sensible, pérdida, votos, respecto, carácter, trato, correcto, incluso, cercano, distinguido, embargo, gestión, cumplimiento, compromisos, heredó, ciudad, pleno, empleo, dejado, tasa, paro, superior, conseguido, concluir, ronda, prometida, partido, popular, nuevo, línea, transporte, público, proyecto, convertido, caballos, batalla, ahora, alcalde, anunció, pasado, mandato, conectada, línea, bus, guiado, universitat, jaume, i, ...]</td>\n",
              "      <td>[bagaje, nuevo, presidente, pp, valenciano, alcalde, deslumbra]</td>\n",
              "    </tr>\n",
              "    <tr>\n",
              "      <th>3</th>\n",
              "      <td>[habana, escenario, ayer, segunda, ronda, conversaciones, migratorias, unidos, encuentros, ambos, países, hablar, temas, asunto, washington, considera, seguridad, reanudaron, nueva, york, verano, pasado, después, cinco, años, interrupción, gobierno, george, ee, uu, envió, ahora, habana, subsecretario, adjunto, asuntos, hemisferio, craig, funcionario, alto, rango, pisado, isla, barack, obama, llegó, nuevo, paso, hacia, delegación, cubana, encabezada, dagoberto, viceministro, relaciones, terminar, reunión, reafirmó, comunicado, importancia, utilidad, objetivo, encuentro, pasar, revista, acuerdos, migratorios, firmados, ambos, países, raíz, crisis, parte, trató, propuesta, cubana, negociar, nuevo, acuerdo, migratorio, establecer, formas, cooperación, luchar, tráfico, convenio, vigente, establece, obligación, ee, uu, conceder, mínimo, visados, anuales, inmigrantes, así, repatriar, balseros, interceptados, ...]</td>\n",
              "      <td>[obama, eleva, nivel, misión, viaja, habana]</td>\n",
              "    </tr>\n",
              "    <tr>\n",
              "      <th>4</th>\n",
              "      <td>[gran, noche, música, transformó, improvisada, celebración, honor, whitney, fallecida, ángeles, horas, entrega, edición, muerte, cantante, solo, inesperada, cambió, rumbo, gala, premios, noche, luto, celebración, recuerdo, hermana, sufrido, muerte, declaró, cantante, maestro, ceremonias, ll, cool, j, comenzar, ceremonia, estadio, staples, ángeles, entonar, oración, bello, espíritu, ido, plegaria, repitió, largo, velada, boca, lady, gaga, katy, perry, unieron, momento, silencio, bruno, mars, olvidó, seis, candidaturas, recordó, grammy, belleza, whitney, mientras, bonnie, raitt, agradeció, inesperada, coincidencia, dio, oportunidad, celebrar, juntos, música, recomendó, cantante, country, miranda, lambert, pesar, ceremonia, conocida, grammy, concedieron, total, drástica, reducción, habituales, reconociendo, mejor, año, gala, convirtió, esperado, noche, cantante, británica, ...]</td>\n",
              "      <td>[británica, ganadora, noche, seis, cuenta, mejor, álbum]</td>\n",
              "    </tr>\n",
              "  </tbody>\n",
              "</table>\n",
              "</div>"
            ],
            "text/plain": [
              "                                                                                                                                                                                                                                                                                                                                                                                                                                                                                                                                                                                                                                                                                                                                                                                                                                                                                                                                               source_text  \\\n",
              "0          [interior, va, sufrir, nuevo, cambio, primer, orden, organigrama, relevo, dos, tres, viceconsejeros, nombró, rodolfo, ares, llegar, cartera, hace, dos, viceconsejero, administración, ernesto, martínez, aprobado, consejo, gobierno, reunión, viceconsejero, rafael, acordado, materializará, reunión, ejecutivo, próximo, según, podido, saber, última, sustitución, alto, contenido, persona, elegida, hacerse, cargo, puesto, candidato, socialista, diputación, miguel, tres, viceconsejeros, nombrados, ares, permanecerá, así, cargo, raúl, fernández, medio, ambiente, releva, viceconsejera, nieves, terán, dos, relevos, llegan, momento, tensión, creciente, departamento, acusan, niveles, menor, junto, realizado, ayer, medio, coinciden, igualmente, desastre, electoral, dejado, candidatos, reclamación, cambios, filas, partido, propio, caso, consejera, gemma, piden, voces, mayor, perfil, político, partido, altos, ...]   \n",
              "1                                                                                                                                                                                                                                        [criadas, señoras, tate, emma, octavia, viola, bryce, dallas, allison, jessica, drama, grandes, éxitos, taquilla, unidos, millones, dólares, millones, criadas, señoras, habla, forma, light, racismo, sesenta, sur, aquel, acotar, intocable, decir, temas, fuertes, contados, forma, estreno, tv, unas, actrices, empezando, talento, viola, dirige, tate, tocó, lotería, ser, amigo, escritora, novela, basa, secuencias, eliminadas, tipo, gato, botas, chris, antonio, salma, zack, billy, bob, gato, ligón, espadachín, propia, deja, adonde, llega, guion, algún, momento, va, antonio, banderas, labia, levanta, cercana, spaguetti, western, ironía, descarnada, lanzó, película, madre, gato, momentos]   \n",
              "2                           [nacido, alberto, fabra, cursó, estudios, arquitectura, técnica, casado, dos, afilió, alianza, popular, miembro, elegido, concejal, ayuntamiento, ocupó, áreas, medio, servicios, públicos, dio, salto, apadrinado, carlos, forzó, renuncia, entonces, josé, luis, golpe, entonces, presidente, diputación, pp, provincia, sustituyó, siempre, mantenido, notables, alberto, proclamó, nuevo, alcalde, favorito, fabra, logrado, dos, victorias, mayoría, absoluta, aunque, sensible, pérdida, votos, respecto, carácter, trato, correcto, incluso, cercano, distinguido, embargo, gestión, cumplimiento, compromisos, heredó, ciudad, pleno, empleo, dejado, tasa, paro, superior, conseguido, concluir, ronda, prometida, partido, popular, nuevo, línea, transporte, público, proyecto, convertido, caballos, batalla, ahora, alcalde, anunció, pasado, mandato, conectada, línea, bus, guiado, universitat, jaume, i, ...]   \n",
              "3  [habana, escenario, ayer, segunda, ronda, conversaciones, migratorias, unidos, encuentros, ambos, países, hablar, temas, asunto, washington, considera, seguridad, reanudaron, nueva, york, verano, pasado, después, cinco, años, interrupción, gobierno, george, ee, uu, envió, ahora, habana, subsecretario, adjunto, asuntos, hemisferio, craig, funcionario, alto, rango, pisado, isla, barack, obama, llegó, nuevo, paso, hacia, delegación, cubana, encabezada, dagoberto, viceministro, relaciones, terminar, reunión, reafirmó, comunicado, importancia, utilidad, objetivo, encuentro, pasar, revista, acuerdos, migratorios, firmados, ambos, países, raíz, crisis, parte, trató, propuesta, cubana, negociar, nuevo, acuerdo, migratorio, establecer, formas, cooperación, luchar, tráfico, convenio, vigente, establece, obligación, ee, uu, conceder, mínimo, visados, anuales, inmigrantes, así, repatriar, balseros, interceptados, ...]   \n",
              "4                                  [gran, noche, música, transformó, improvisada, celebración, honor, whitney, fallecida, ángeles, horas, entrega, edición, muerte, cantante, solo, inesperada, cambió, rumbo, gala, premios, noche, luto, celebración, recuerdo, hermana, sufrido, muerte, declaró, cantante, maestro, ceremonias, ll, cool, j, comenzar, ceremonia, estadio, staples, ángeles, entonar, oración, bello, espíritu, ido, plegaria, repitió, largo, velada, boca, lady, gaga, katy, perry, unieron, momento, silencio, bruno, mars, olvidó, seis, candidaturas, recordó, grammy, belleza, whitney, mientras, bonnie, raitt, agradeció, inesperada, coincidencia, dio, oportunidad, celebrar, juntos, música, recomendó, cantante, country, miranda, lambert, pesar, ceremonia, conocida, grammy, concedieron, total, drástica, reducción, habituales, reconociendo, mejor, año, gala, convirtió, esperado, noche, cantante, británica, ...]   \n",
              "\n",
              "                                                              target_text  \n",
              "0  [miguel, buen, reemplazará, rafael, iturriaga, responsable, seguridad]  \n",
              "1                       [taquillazo, gato, voz, antonio, llegan, tiendas]  \n",
              "2         [bagaje, nuevo, presidente, pp, valenciano, alcalde, deslumbra]  \n",
              "3                            [obama, eleva, nivel, misión, viaja, habana]  \n",
              "4                [británica, ganadora, noche, seis, cuenta, mejor, álbum]  "
            ]
          },
          "execution_count": 98,
          "metadata": {},
          "output_type": "execute_result"
        }
      ],
      "source": [
        "train_df.head()"
      ]
    },
    {
      "cell_type": "code",
      "execution_count": 99,
      "metadata": {
        "colab": {
          "base_uri": "https://localhost:8080/",
          "height": 778
        },
        "id": "2cllRk13riDS",
        "outputId": "60836656-27df-4b34-a326-9c42755ef2f2"
      },
      "outputs": [
        {
          "data": {
            "text/html": [
              "<div>\n",
              "<style scoped>\n",
              "    .dataframe tbody tr th:only-of-type {\n",
              "        vertical-align: middle;\n",
              "    }\n",
              "\n",
              "    .dataframe tbody tr th {\n",
              "        vertical-align: top;\n",
              "    }\n",
              "\n",
              "    .dataframe thead th {\n",
              "        text-align: right;\n",
              "    }\n",
              "</style>\n",
              "<table border=\"1\" class=\"dataframe\">\n",
              "  <thead>\n",
              "    <tr style=\"text-align: right;\">\n",
              "      <th></th>\n",
              "      <th>source_text</th>\n",
              "      <th>target_text</th>\n",
              "    </tr>\n",
              "  </thead>\n",
              "  <tbody>\n",
              "    <tr>\n",
              "      <th>0</th>\n",
              "      <td>[tráiler, hijo, hijo, wang, xiaoshuai, realizador, bicicleta, pekín, secretos, describe, vida, matrimonio, tres, décadas, sufre, diversas, vicisitudes, película, contada, forma, sino, estructura, numerosísimos, flashbacks, tramo, director, revela, secreto, familia, sorpresas, sentimentales, pillan, paso, cambiado, público, protagonistas, mientras, deja, fluir, trabajo, pareja, actores, wang, encarna, hombre, bondadoso, aunque, miserias, yong, mei, aparecía, the, mujer, veces, siempre, gracias, trabajos, lograron, osos, plata, mejor, actor, actriz, pasada, berlinale, aquí, tráiler, llegue, salas, españoles, próximo]</td>\n",
              "      <td>[película, wang, estrena, obtuvo, premios, mejor, actor, mejor, actriz, última, berlinale]</td>\n",
              "    </tr>\n",
              "    <tr>\n",
              "      <th>1</th>\n",
              "      <td>[camiones, llevaron, prisioneros, bosque, éstos, previamente, cavado, unas, profundas, continuación, echaron, presos, suelo, boca, entonces, sucedió, año, masacre, llevó, cabo, marco, gran, purga, puesto, marcha, stalin, ejecutados, presos, mijaíl, miembro, servicios, secretos, soviéticos, autor, citadas, desarrollado, sistema, ejecuciones, celda, desnudaron, ataron, luego, golpearon, tronco, perdieran, final, llevaron, lugar, historiador, yuri, dmítriev, equipo, respetada, institución, gubernamental, derechos, encontraron, fosas, comunes, hecho, cavar, halladas, localidad, contenían, restos, década, democratizador, borís, yeltsin, hallazgo, considerado, así, declaró, hace, dos, demonización, excesiva, stalin, maneras, atacar, después, yuri, dmítriev, hizo, público, valioso, lista, nombres, agentes, servicios, secretos, época, historiador, acusado, dedicarse, pornografía, material, sirvió, prueba, unas, ...]</td>\n",
              "      <td>[país, vuelve, utilizar, métodos, derivados, décadas, manipulación, hechos, falsificación, historia, instalado, muchas, esferas]</td>\n",
              "    </tr>\n",
              "    <tr>\n",
              "      <th>2</th>\n",
              "      <td>[aires, cambios, auditori, tras, nombramiento, robert, brufau, director, pasado, consejo, rector, consorci, i, da, paso, redefinición, dos, grandes, áreas, gestión, institución, anuncia, cambios, calado, nuevo, organigrama, cese, jordi, primera, próxima, recuperación, cargo, director, técnico, orquestra, simfònica, barcelona, i, nacional, catalunya, decisión, cese, aprobada, ayer, sesión, extraordinaria, consejo, rector, propuesta, conjunta, entidades, consorciadas, responde, falta, adecuación, perfil, profesional, necesidades, requiere, actualmente, según, comunicado, propio, misma, reunión, aprobaron, bases, concurso, publicarán, próximos, servir, escoger, nueva, brufau, asumirá, provisionalmente, funciones, gerente, etapa, incluye, segundo, concurso, cargo, director, técnico, figura, último, ocupar, enero, alberto, nueva, linea, artística, diseñada, brufau, apuesta, plena, incorporación, obc, objetivos, ...]</td>\n",
              "      <td>[cese, gestor, jordi, tort, inicia, gran, cambio, organigrama, institución]</td>\n",
              "    </tr>\n",
              "    <tr>\n",
              "      <th>3</th>\n",
              "      <td>[tribunal, europeo, derechos, humanos, instancia, internacional, particulares, pueden, vez, agotados, recursos, defensa, derechos, contemplados, convenio, europeo, derechos, tratado, internacional, sido, reformado, ocasiones, ampliar, catálogo, derechos, perfeccionar, mecanismo, protección, representa, citado, hablamos, jurisdicción, ciudadanos, operadores, jurídicos, relativamente, tribunal, constitucional, poder, judicial, plenamente, conscientes, importancia, respetar, integrar, jurisprudencia, tedh, ejercicio, ordinario, expresión, natural, diálogo, tribunales, conducente, establecer, orden, constitucional, allá, función, garante, derechos, imprescindible, explicar, esfuerzo, desarrolla, tedh, campo, diferente, aunque, relacionado, hace, condición, guardián, golpe, tribunal, ido, identificando, aquellos, elementos, resultan, imprescindibles, régimen, político, calificado, reconocimiento, respeto, serie, considera, necesario, analizar, manera, tales, derechos, ejercidos, marco, proceso, aunque, tedh, sensible, admitir, ...]</td>\n",
              "      <td>[pronunciamiento, tedh, demanda, parlament, debería, servir, acelerar, final, tantas, discusiones, estériles, calidad, sistema, político]</td>\n",
              "    </tr>\n",
              "    <tr>\n",
              "      <th>4</th>\n",
              "      <td>[reserva, federal, unidos, banco, central, europeo, distintas, palabras, mismo, demorarán, cuanto, tiempo, necesario, mantenimiento, tipos, interés, bajos, disposiciones, política, monetaria, heterodoxa, fin, hacer, frente, amenazas, gravitan, crecimiento, bce, propone, además, medidas, crédito, traslade, empresas, familias, corregir, así, tendencia, bancos, captar, dinero, barato, propio, bce, enterrarlo, después, títulos, deuda, depósitos, remuneración, superior, coste, préstamo, coincidencia, casual, fed, bce, detectan, ralentización, condiciones, crecimiento, cuya, evolución, puede, empeorar, próximos, fráncfort, recientemente, reunido, puesto, nombre, excusada, queda, fed, hacerlo, razones, mayor, riesgo, economía, global, momentos, aplicación, parte, washington, política, intensiva, extensiva, proteccionismo, comercial, cuyo, principal, objetivo, obtener, ventajas, corto, plazo, balanza, causa, última, ventajismo, ...]</td>\n",
              "      <td>[bce, fed, retrasan, subidas, tipos, temor, proteccionismo]</td>\n",
              "    </tr>\n",
              "  </tbody>\n",
              "</table>\n",
              "</div>"
            ],
            "text/plain": [
              "                                                                                                                                                                                                                                                                                                                                                                                                                                                                                                                                                                                                                                                                                                                                                                                                                                                                                                                                                                                                                                                                          source_text  \\\n",
              "0                                                                                                                                                                                                                                                                                                                                                                                                                                      [tráiler, hijo, hijo, wang, xiaoshuai, realizador, bicicleta, pekín, secretos, describe, vida, matrimonio, tres, décadas, sufre, diversas, vicisitudes, película, contada, forma, sino, estructura, numerosísimos, flashbacks, tramo, director, revela, secreto, familia, sorpresas, sentimentales, pillan, paso, cambiado, público, protagonistas, mientras, deja, fluir, trabajo, pareja, actores, wang, encarna, hombre, bondadoso, aunque, miserias, yong, mei, aparecía, the, mujer, veces, siempre, gracias, trabajos, lograron, osos, plata, mejor, actor, actriz, pasada, berlinale, aquí, tráiler, llegue, salas, españoles, próximo]   \n",
              "1                                                                                                                           [camiones, llevaron, prisioneros, bosque, éstos, previamente, cavado, unas, profundas, continuación, echaron, presos, suelo, boca, entonces, sucedió, año, masacre, llevó, cabo, marco, gran, purga, puesto, marcha, stalin, ejecutados, presos, mijaíl, miembro, servicios, secretos, soviéticos, autor, citadas, desarrollado, sistema, ejecuciones, celda, desnudaron, ataron, luego, golpearon, tronco, perdieran, final, llevaron, lugar, historiador, yuri, dmítriev, equipo, respetada, institución, gubernamental, derechos, encontraron, fosas, comunes, hecho, cavar, halladas, localidad, contenían, restos, década, democratizador, borís, yeltsin, hallazgo, considerado, así, declaró, hace, dos, demonización, excesiva, stalin, maneras, atacar, después, yuri, dmítriev, hizo, público, valioso, lista, nombres, agentes, servicios, secretos, época, historiador, acusado, dedicarse, pornografía, material, sirvió, prueba, unas, ...]   \n",
              "2                                                                                                                        [aires, cambios, auditori, tras, nombramiento, robert, brufau, director, pasado, consejo, rector, consorci, i, da, paso, redefinición, dos, grandes, áreas, gestión, institución, anuncia, cambios, calado, nuevo, organigrama, cese, jordi, primera, próxima, recuperación, cargo, director, técnico, orquestra, simfònica, barcelona, i, nacional, catalunya, decisión, cese, aprobada, ayer, sesión, extraordinaria, consejo, rector, propuesta, conjunta, entidades, consorciadas, responde, falta, adecuación, perfil, profesional, necesidades, requiere, actualmente, según, comunicado, propio, misma, reunión, aprobaron, bases, concurso, publicarán, próximos, servir, escoger, nueva, brufau, asumirá, provisionalmente, funciones, gerente, etapa, incluye, segundo, concurso, cargo, director, técnico, figura, último, ocupar, enero, alberto, nueva, linea, artística, diseñada, brufau, apuesta, plena, incorporación, obc, objetivos, ...]   \n",
              "3  [tribunal, europeo, derechos, humanos, instancia, internacional, particulares, pueden, vez, agotados, recursos, defensa, derechos, contemplados, convenio, europeo, derechos, tratado, internacional, sido, reformado, ocasiones, ampliar, catálogo, derechos, perfeccionar, mecanismo, protección, representa, citado, hablamos, jurisdicción, ciudadanos, operadores, jurídicos, relativamente, tribunal, constitucional, poder, judicial, plenamente, conscientes, importancia, respetar, integrar, jurisprudencia, tedh, ejercicio, ordinario, expresión, natural, diálogo, tribunales, conducente, establecer, orden, constitucional, allá, función, garante, derechos, imprescindible, explicar, esfuerzo, desarrolla, tedh, campo, diferente, aunque, relacionado, hace, condición, guardián, golpe, tribunal, ido, identificando, aquellos, elementos, resultan, imprescindibles, régimen, político, calificado, reconocimiento, respeto, serie, considera, necesario, analizar, manera, tales, derechos, ejercidos, marco, proceso, aunque, tedh, sensible, admitir, ...]   \n",
              "4                                                                                                          [reserva, federal, unidos, banco, central, europeo, distintas, palabras, mismo, demorarán, cuanto, tiempo, necesario, mantenimiento, tipos, interés, bajos, disposiciones, política, monetaria, heterodoxa, fin, hacer, frente, amenazas, gravitan, crecimiento, bce, propone, además, medidas, crédito, traslade, empresas, familias, corregir, así, tendencia, bancos, captar, dinero, barato, propio, bce, enterrarlo, después, títulos, deuda, depósitos, remuneración, superior, coste, préstamo, coincidencia, casual, fed, bce, detectan, ralentización, condiciones, crecimiento, cuya, evolución, puede, empeorar, próximos, fráncfort, recientemente, reunido, puesto, nombre, excusada, queda, fed, hacerlo, razones, mayor, riesgo, economía, global, momentos, aplicación, parte, washington, política, intensiva, extensiva, proteccionismo, comercial, cuyo, principal, objetivo, obtener, ventajas, corto, plazo, balanza, causa, última, ventajismo, ...]   \n",
              "\n",
              "                                                                                                                                 target_text  \n",
              "0                                                 [película, wang, estrena, obtuvo, premios, mejor, actor, mejor, actriz, última, berlinale]  \n",
              "1           [país, vuelve, utilizar, métodos, derivados, décadas, manipulación, hechos, falsificación, historia, instalado, muchas, esferas]  \n",
              "2                                                                [cese, gestor, jordi, tort, inicia, gran, cambio, organigrama, institución]  \n",
              "3  [pronunciamiento, tedh, demanda, parlament, debería, servir, acelerar, final, tantas, discusiones, estériles, calidad, sistema, político]  \n",
              "4                                                                                [bce, fed, retrasan, subidas, tipos, temor, proteccionismo]  "
            ]
          },
          "execution_count": 99,
          "metadata": {},
          "output_type": "execute_result"
        }
      ],
      "source": [
        "test_df.head()"
      ]
    },
    {
      "cell_type": "markdown",
      "metadata": {},
      "source": [
        "VOCABULARIO"
      ]
    },
    {
      "cell_type": "code",
      "execution_count": 100,
      "metadata": {
        "id": "GX7UbxCZrtm9"
      },
      "outputs": [],
      "source": [
        "# creamos una lista con todos los textos de datos de entrenamiento y de prueba para crear el vocabulario\n",
        "all_text = list(train_df['source_text']) + list(test_df['source_text']) + list(train_df['target_text']) + list(test_df['target_text']) "
      ]
    },
    {
      "cell_type": "code",
      "execution_count": 101,
      "metadata": {
        "colab": {
          "base_uri": "https://localhost:8080/"
        },
        "collapsed": true,
        "id": "y9X4ono_rtg8",
        "outputId": "d15919a2-eeb8-4116-ac4d-91696ae06053"
      },
      "outputs": [
        {
          "data": {
            "text/plain": [
              "[['interior',\n",
              "  'va',\n",
              "  'sufrir',\n",
              "  'nuevo',\n",
              "  'cambio',\n",
              "  'primer',\n",
              "  'orden',\n",
              "  'organigrama',\n",
              "  'relevo',\n",
              "  'dos',\n",
              "  'tres',\n",
              "  'viceconsejeros',\n",
              "  'nombró',\n",
              "  'rodolfo',\n",
              "  'ares',\n",
              "  'llegar',\n",
              "  'cartera',\n",
              "  'hace',\n",
              "  'dos',\n",
              "  'viceconsejero',\n",
              "  'administración',\n",
              "  'ernesto',\n",
              "  'martínez',\n",
              "  'aprobado',\n",
              "  'consejo',\n",
              "  'gobierno',\n",
              "  'reunión',\n",
              "  'viceconsejero',\n",
              "  'rafael',\n",
              "  'acordado',\n",
              "  'materializará',\n",
              "  'reunión',\n",
              "  'ejecutivo',\n",
              "  'próximo',\n",
              "  'según',\n",
              "  'podido',\n",
              "  'saber',\n",
              "  'última',\n",
              "  'sustitución',\n",
              "  'alto',\n",
              "  'contenido',\n",
              "  'persona',\n",
              "  'elegida',\n",
              "  'hacerse',\n",
              "  'cargo',\n",
              "  'puesto',\n",
              "  'candidato',\n",
              "  'socialista',\n",
              "  'diputación',\n",
              "  'miguel',\n",
              "  'tres',\n",
              "  'viceconsejeros',\n",
              "  'nombrados',\n",
              "  'ares',\n",
              "  'permanecerá',\n",
              "  'así',\n",
              "  'cargo',\n",
              "  'raúl',\n",
              "  'fernández',\n",
              "  'medio',\n",
              "  'ambiente',\n",
              "  'releva',\n",
              "  'viceconsejera',\n",
              "  'nieves',\n",
              "  'terán',\n",
              "  'dos',\n",
              "  'relevos',\n",
              "  'llegan',\n",
              "  'momento',\n",
              "  'tensión',\n",
              "  'creciente',\n",
              "  'departamento',\n",
              "  'acusan',\n",
              "  'niveles',\n",
              "  'menor',\n",
              "  'junto',\n",
              "  'realizado',\n",
              "  'ayer',\n",
              "  'medio',\n",
              "  'coinciden',\n",
              "  'igualmente',\n",
              "  'desastre',\n",
              "  'electoral',\n",
              "  'dejado',\n",
              "  'candidatos',\n",
              "  'reclamación',\n",
              "  'cambios',\n",
              "  'filas',\n",
              "  'partido',\n",
              "  'propio',\n",
              "  'caso',\n",
              "  'consejera',\n",
              "  'gemma',\n",
              "  'piden',\n",
              "  'voces',\n",
              "  'mayor',\n",
              "  'perfil',\n",
              "  'político',\n",
              "  'partido',\n",
              "  'altos',\n",
              "  'cargos',\n",
              "  'indica',\n",
              "  'relevos',\n",
              "  'afectarán',\n",
              "  'varios',\n",
              "  'respecto',\n",
              "  'cambios',\n",
              "  'filas',\n",
              "  'propio',\n",
              "  'patxi',\n",
              "  'descartado',\n",
              "  'tiempo',\n",
              "  'declaraba',\n",
              "  'plenamente',\n",
              "  'satisfecho',\n",
              "  'gestión',\n",
              "  'idoia',\n",
              "  'remitió',\n",
              "  'ayer',\n",
              "  'nuevo',\n",
              "  'gobierno',\n",
              "  'esforzó',\n",
              "  'ayer',\n",
              "  'despojar',\n",
              "  'cambios',\n",
              "  'toda',\n",
              "  'sombra',\n",
              "  'mendia',\n",
              "  'atribuyó',\n",
              "  'relevo',\n",
              "  'martínez',\n",
              "  'lahidalga',\n",
              "  'precisó',\n",
              "  'realizó',\n",
              "  'común',\n",
              "  'departamento',\n",
              "  'reveló',\n",
              "  'día',\n",
              "  'portavoz',\n",
              "  'sindicato',\n",
              "  'policial',\n",
              "  'remitió',\n",
              "  'recientemente',\n",
              "  'carta',\n",
              "  'consejero',\n",
              "  'expresándole',\n",
              "  'deseo',\n",
              "  'terminar',\n",
              "  'andadura',\n",
              "  'relación',\n",
              "  'sostuvo',\n",
              "  'desmintió',\n",
              "  'existencia',\n",
              "  'desavenencias',\n",
              "  'ahora',\n",
              "  'viceconsejero',\n",
              "  'portavoz',\n",
              "  'sugirió',\n",
              "  'decisión',\n",
              "  'martínez',\n",
              "  'lahidalga',\n",
              "  'fruto',\n",
              "  'última',\n",
              "  'fuentes',\n",
              "  'interior',\n",
              "  'negaron',\n",
              "  'modo',\n",
              "  'tajante',\n",
              "  'cualquier',\n",
              "  'relación',\n",
              "  'marcha',\n",
              "  'conflicto',\n",
              "  'ertzaintza',\n",
              "  'consideraron',\n",
              "  'ecuador',\n",
              "  'mandato',\n",
              "  'gobierno',\n",
              "  'momento',\n",
              "  'adecuado',\n",
              "  'realizar',\n",
              "  'tipo',\n",
              "  'martínez',\n",
              "  'lahidalga',\n",
              "  'sustituido',\n",
              "  'ayer',\n",
              "  'mismo',\n",
              "  'ahora',\n",
              "  'directora',\n",
              "  'gestión',\n",
              "  'económica',\n",
              "  'infraestructuras',\n",
              "  'nélida',\n",
              "  'ares',\n",
              "  'deberá',\n",
              "  'dar',\n",
              "  'explicaciones',\n",
              "  'cambio',\n",
              "  'ea',\n",
              "  'anunció',\n",
              "  'solicitará',\n",
              "  'cambio',\n",
              "  'anunciado',\n",
              "  'ayer',\n",
              "  'afecta',\n",
              "  'viceconsejería',\n",
              "  'medio',\n",
              "  'ahora',\n",
              "  'nieves',\n",
              "  'cuyo',\n",
              "  'cese',\n",
              "  'atribuyó',\n",
              "  'mendia',\n",
              "  'razones',\n",
              "  'sustituida',\n",
              "  'arantza',\n",
              "  'ahora',\n",
              "  'directora',\n",
              "  'política',\n",
              "  'territorial',\n",
              "  'ayuntamiento',\n",
              "  'gobierno',\n",
              "  'cambió',\n",
              "  'primer',\n",
              "  'año',\n",
              "  'mandato',\n",
              "  'altos',\n",
              "  'cargos',\n",
              "  'nombrados',\n",
              "  'nueva',\n",
              "  'etapa',\n",
              "  'directores',\n",
              "  'cinco',\n",
              "  'calificó',\n",
              "  'cualquier',\n",
              "  'organización',\n",
              "  'somete',\n",
              "  'primera',\n",
              "  'vez',\n",
              "  'años',\n",
              "  'relevo',\n",
              "  'integral',\n",
              "  'artículo',\n",
              "  'apareció',\n",
              "  'edición',\n",
              "  'impresa',\n",
              "  'junio'],\n",
              " ['criadas',\n",
              "  'señoras',\n",
              "  'tate',\n",
              "  'emma',\n",
              "  'octavia',\n",
              "  'viola',\n",
              "  'bryce',\n",
              "  'dallas',\n",
              "  'allison',\n",
              "  'jessica',\n",
              "  'drama',\n",
              "  'grandes',\n",
              "  'éxitos',\n",
              "  'taquilla',\n",
              "  'unidos',\n",
              "  'millones',\n",
              "  'dólares',\n",
              "  'millones',\n",
              "  'criadas',\n",
              "  'señoras',\n",
              "  'habla',\n",
              "  'forma',\n",
              "  'light',\n",
              "  'racismo',\n",
              "  'sesenta',\n",
              "  'sur',\n",
              "  'aquel',\n",
              "  'acotar',\n",
              "  'intocable',\n",
              "  'decir',\n",
              "  'temas',\n",
              "  'fuertes',\n",
              "  'contados',\n",
              "  'forma',\n",
              "  'estreno',\n",
              "  'tv',\n",
              "  'unas',\n",
              "  'actrices',\n",
              "  'empezando',\n",
              "  'talento',\n",
              "  'viola',\n",
              "  'dirige',\n",
              "  'tate',\n",
              "  'tocó',\n",
              "  'lotería',\n",
              "  'ser',\n",
              "  'amigo',\n",
              "  'escritora',\n",
              "  'novela',\n",
              "  'basa',\n",
              "  'secuencias',\n",
              "  'eliminadas',\n",
              "  'tipo',\n",
              "  'gato',\n",
              "  'botas',\n",
              "  'chris',\n",
              "  'antonio',\n",
              "  'salma',\n",
              "  'zack',\n",
              "  'billy',\n",
              "  'bob',\n",
              "  'gato',\n",
              "  'ligón',\n",
              "  'espadachín',\n",
              "  'propia',\n",
              "  'deja',\n",
              "  'adonde',\n",
              "  'llega',\n",
              "  'guion',\n",
              "  'algún',\n",
              "  'momento',\n",
              "  'va',\n",
              "  'antonio',\n",
              "  'banderas',\n",
              "  'labia',\n",
              "  'levanta',\n",
              "  'cercana',\n",
              "  'spaguetti',\n",
              "  'western',\n",
              "  'ironía',\n",
              "  'descarnada',\n",
              "  'lanzó',\n",
              "  'película',\n",
              "  'madre',\n",
              "  'gato',\n",
              "  'momentos'],\n",
              " ['nacido',\n",
              "  'alberto',\n",
              "  'fabra',\n",
              "  'cursó',\n",
              "  'estudios',\n",
              "  'arquitectura',\n",
              "  'técnica',\n",
              "  'casado',\n",
              "  'dos',\n",
              "  'afilió',\n",
              "  'alianza',\n",
              "  'popular',\n",
              "  'miembro',\n",
              "  'elegido',\n",
              "  'concejal',\n",
              "  'ayuntamiento',\n",
              "  'ocupó',\n",
              "  'áreas',\n",
              "  'medio',\n",
              "  'servicios',\n",
              "  'públicos',\n",
              "  'dio',\n",
              "  'salto',\n",
              "  'apadrinado',\n",
              "  'carlos',\n",
              "  'forzó',\n",
              "  'renuncia',\n",
              "  'entonces',\n",
              "  'josé',\n",
              "  'luis',\n",
              "  'golpe',\n",
              "  'entonces',\n",
              "  'presidente',\n",
              "  'diputación',\n",
              "  'pp',\n",
              "  'provincia',\n",
              "  'sustituyó',\n",
              "  'siempre',\n",
              "  'mantenido',\n",
              "  'notables',\n",
              "  'alberto',\n",
              "  'proclamó',\n",
              "  'nuevo',\n",
              "  'alcalde',\n",
              "  'favorito',\n",
              "  'fabra',\n",
              "  'logrado',\n",
              "  'dos',\n",
              "  'victorias',\n",
              "  'mayoría',\n",
              "  'absoluta',\n",
              "  'aunque',\n",
              "  'sensible',\n",
              "  'pérdida',\n",
              "  'votos',\n",
              "  'respecto',\n",
              "  'carácter',\n",
              "  'trato',\n",
              "  'correcto',\n",
              "  'incluso',\n",
              "  'cercano',\n",
              "  'distinguido',\n",
              "  'embargo',\n",
              "  'gestión',\n",
              "  'cumplimiento',\n",
              "  'compromisos',\n",
              "  'heredó',\n",
              "  'ciudad',\n",
              "  'pleno',\n",
              "  'empleo',\n",
              "  'dejado',\n",
              "  'tasa',\n",
              "  'paro',\n",
              "  'superior',\n",
              "  'conseguido',\n",
              "  'concluir',\n",
              "  'ronda',\n",
              "  'prometida',\n",
              "  'partido',\n",
              "  'popular',\n",
              "  'nuevo',\n",
              "  'línea',\n",
              "  'transporte',\n",
              "  'público',\n",
              "  'proyecto',\n",
              "  'convertido',\n",
              "  'caballos',\n",
              "  'batalla',\n",
              "  'ahora',\n",
              "  'alcalde',\n",
              "  'anunció',\n",
              "  'pasado',\n",
              "  'mandato',\n",
              "  'conectada',\n",
              "  'línea',\n",
              "  'bus',\n",
              "  'guiado',\n",
              "  'universitat',\n",
              "  'jaume',\n",
              "  'i',\n",
              "  'grao',\n",
              "  'solo',\n",
              "  'concluido',\n",
              "  'pequeño',\n",
              "  'tramo',\n",
              "  'uji',\n",
              "  'parque',\n",
              "  'mientras',\n",
              "  'encuentra',\n",
              "  'obras',\n",
              "  'plataforma',\n",
              "  'reservada',\n",
              "  'avenida',\n",
              "  'falta',\n",
              "  'resolver',\n",
              "  'toda',\n",
              "  'conexión',\n",
              "  'bucle',\n",
              "  'centro',\n",
              "  'presenta',\n",
              "  'problemas',\n",
              "  'graves',\n",
              "  'mayor',\n",
              "  'siquiera',\n",
              "  'fecha',\n",
              "  'inicio',\n",
              "  'problema',\n",
              "  'intenso',\n",
              "  'tráfico',\n",
              "  'ciudad',\n",
              "  'caótica',\n",
              "  'tampoco',\n",
              "  'sido',\n",
              "  'resuelto',\n",
              "  'alberto',\n",
              "  'pesar',\n",
              "  'diversos',\n",
              "  'planes',\n",
              "  'choque',\n",
              "  'único',\n",
              "  'aspecto',\n",
              "  'positivo',\n",
              "  'haber',\n",
              "  'fabra',\n",
              "  'asunto',\n",
              "  'sido',\n",
              "  'implantación',\n",
              "  'bicicas',\n",
              "  'servicio',\n",
              "  'préstamo',\n",
              "  'buena',\n",
              "  'acogida',\n",
              "  'parte',\n",
              "  'pesar',\n",
              "  'formación',\n",
              "  'tampoco',\n",
              "  'sido',\n",
              "  'punto',\n",
              "  'fuerte',\n",
              "  'alberto',\n",
              "  'plan',\n",
              "  'general',\n",
              "  'ordenación',\n",
              "  'urbana',\n",
              "  'anulado',\n",
              "  'tribunal',\n",
              "  'mantiene',\n",
              "  'litigios',\n",
              "  'asociaciones',\n",
              "  'vecinales',\n",
              "  'planeamiento',\n",
              "  'asociación',\n",
              "  'vecinos',\n",
              "  'mestrets',\n",
              "  'llevado',\n",
              "  'supremo',\n",
              "  'decisión',\n",
              "  'alberto',\n",
              "  'fabra',\n",
              "  'cargar',\n",
              "  'terrenos',\n",
              "  'pocos',\n",
              "  'propietarios',\n",
              "  'suelo',\n",
              "  'dotacional',\n",
              "  'correspondía',\n",
              "  'ejecución',\n",
              "  'varios',\n",
              "  'proyectos',\n",
              "  'estrella',\n",
              "  'centro',\n",
              "  'convenciones',\n",
              "  'nuevo',\n",
              "  'rectorado',\n",
              "  'viu',\n",
              "  'arquitecto',\n",
              "  'frank',\n",
              "  'gehry',\n",
              "  'ejecución',\n",
              "  'viviendas',\n",
              "  'ninguna',\n",
              "  'promesas',\n",
              "  'materializado',\n",
              "  'proyecto',\n",
              "  'tampoco',\n",
              "  'visto',\n",
              "  'luz',\n",
              "  'sido',\n",
              "  'ciudad',\n",
              "  'prometida',\n",
              "  'debe',\n",
              "  'construirse',\n",
              "  'terrenos',\n",
              "  'aeródromo',\n",
              "  'frente',\n",
              "  'fachada',\n",
              "  'tampoco',\n",
              "  'destacado',\n",
              "  'alberto',\n",
              "  'fabra',\n",
              "  'política',\n",
              "  'años',\n",
              "  'después',\n",
              "  'anunciado',\n",
              "  'aún',\n",
              "  'sido',\n",
              "  'abierto',\n",
              "  'centro',\n",
              "  'gran',\n",
              "  'vía',\n",
              "  'debe',\n",
              "  'dar',\n",
              "  'servicio',\n",
              "  'personas',\n",
              "  'pacientes',\n",
              "  'alzheimer',\n",
              "  'enfermos',\n",
              "  'daño',\n",
              "  'cerebral',\n",
              "  'sobrevenido',\n",
              "  'u',\n",
              "  'enfermedades',\n",
              "  'instalaciones',\n",
              "  'concluidas',\n",
              "  'hace',\n",
              "  'dos',\n",
              "  'generalitat',\n",
              "  'mantiene',\n",
              "  'cerradas',\n",
              "  'falta',\n",
              "  'sido',\n",
              "  'escasas',\n",
              "  'ocasiones',\n",
              "  'fabra',\n",
              "  'reclamado',\n",
              "  'energía',\n",
              "  'consell',\n",
              "  'puesta',\n",
              "  'gobierno',\n",
              "  'camps',\n",
              "  'cumplió',\n",
              "  'compromisos',\n",
              "  'ciudad',\n",
              "  'ahora',\n",
              "  'alcalde',\n",
              "  'fracasado',\n",
              "  'hora',\n",
              "  'iniciar',\n",
              "  'proyectos',\n",
              "  'conjuntos',\n",
              "  'uji',\n",
              "  'edificio',\n",
              "  'cuya',\n",
              "  'propiedad',\n",
              "  'cedió',\n",
              "  'antiguo',\n",
              "  'palacio',\n",
              "  'justicia',\n",
              "  'plaza',\n",
              "  'juez',\n",
              "  'iban',\n",
              "  'ser',\n",
              "  'aprovechados',\n",
              "  'asociaciones',\n",
              "  'vecinos',\n",
              "  'delegaciones',\n",
              "  'último',\n",
              "  'mandato',\n",
              "  'recibido',\n",
              "  'críticas',\n",
              "  'colectivos',\n",
              "  'vecinales',\n",
              "  'subir',\n",
              "  'impuestos',\n",
              "  'encima',\n",
              "  'ipc',\n",
              "  'real',\n",
              "  'pesar',\n",
              "  'situación',\n",
              "  'alberto',\n",
              "  'fabra',\n",
              "  'oportunidad',\n",
              "  'retirar',\n",
              "  'medalla',\n",
              "  'oro',\n",
              "  'ciudad',\n",
              "  'francisco',\n",
              "  'franco',\n",
              "  'seis',\n",
              "  'cargos',\n",
              "  'votó',\n",
              "  'dos',\n",
              "  'plenos',\n",
              "  'gris',\n",
              "  'discurso',\n",
              "  'según',\n",
              "  'coinciden',\n",
              "  'defensores',\n",
              "  'mayoría',\n",
              "  'caracterizado',\n",
              "  'último',\n",
              "  'mandato',\n",
              "  'mostrarse',\n",
              "  'reivindicativo',\n",
              "  'gobierno',\n",
              "  'central',\n",
              "  'cuenta',\n",
              "  'corredor',\n",
              "  'accesos',\n",
              "  'sur',\n",
              "  'puerto',\n",
              "  'desvío',\n",
              "  'nivel',\n",
              "  'exigencia',\n",
              "  'sido',\n",
              "  'prácticamente',\n",
              "  'nulo',\n",
              "  'siempre',\n",
              "  'sombra',\n",
              "  'carlos',\n",
              "  'defendido',\n",
              "  'públicamente',\n",
              "  'reiteradas',\n",
              "  'ocasiones',\n",
              "  'conocieron',\n",
              "  'imputaciones',\n",
              "  'judiciales',\n",
              "  'tráfico',\n",
              "  'influencias',\n",
              "  'fraude',\n",
              "  'si',\n",
              "  'surgido',\n",
              "  'alguna',\n",
              "  'novedad',\n",
              "  'incluso',\n",
              "  'después',\n",
              "  'anunciar',\n",
              "  'todavía',\n",
              "  'presidente',\n",
              "  'provincial',\n",
              "  'partido',\n",
              "  'popular',\n",
              "  'tentado',\n",
              "  'después',\n",
              "  'pasadas',\n",
              "  'elecciones',\n",
              "  'alberto',\n",
              "  'fabra',\n",
              "  'formara',\n",
              "  'parte',\n",
              "  'actual',\n",
              "  'corporación',\n",
              "  'concejal',\n",
              "  'electo',\n",
              "  'alberto',\n",
              "  'fabra',\n",
              "  'dijo',\n",
              "  'entonces',\n",
              "  'participación',\n",
              "  'experiencia',\n",
              "  'carlos',\n",
              "  'luchar',\n",
              "  'crisis',\n",
              "  'gracias',\n",
              "  'capacidad',\n",
              "  'atraer',\n",
              "  'carlos',\n",
              "  'fabra',\n",
              "  'acabó',\n",
              "  'rechazando',\n",
              "  'alegando',\n",
              "  'sido',\n",
              "  'ungido',\n",
              "  'todavía',\n",
              "  'presidente',\n",
              "  'provincial',\n",
              "  'pp',\n",
              "  'alberto',\n",
              "  'fabra',\n",
              "  'diputado',\n",
              "  'autonómico',\n",
              "  'castellón',\n",
              "  'coordinador',\n",
              "  'general',\n",
              "  'pp',\n",
              "  'alberto',\n",
              "  'fabra',\n",
              "  'designado',\n",
              "  'sucesor',\n",
              "  'alcaldía',\n",
              "  'castellón',\n",
              "  'vicealcalde',\n",
              "  'alfonso',\n",
              "  'número',\n",
              "  'cinco',\n",
              "  'lista',\n",
              "  'pp',\n",
              "  'carece',\n",
              "  'experiencia',\n",
              "  'alguna',\n",
              "  'gestión',\n",
              "  'municipal',\n",
              "  'peso',\n",
              "  'orgánico',\n",
              "  'incorporación',\n",
              "  'bataller',\n",
              "  'según',\n",
              "  'fuentes',\n",
              "  'partido',\n",
              "  'hace',\n",
              "  'semanas',\n",
              "  'alberto',\n",
              "  'fabra',\n",
              "  'comentó',\n",
              "  'empresarios',\n",
              "  'allegados',\n",
              "  'posibilidad',\n",
              "  'sustituir',\n",
              "  'querido',\n",
              "  'contar',\n",
              "  'aquel',\n",
              "  'relevo'],\n",
              " ['habana',\n",
              "  'escenario',\n",
              "  'ayer',\n",
              "  'segunda',\n",
              "  'ronda',\n",
              "  'conversaciones',\n",
              "  'migratorias',\n",
              "  'unidos',\n",
              "  'encuentros',\n",
              "  'ambos',\n",
              "  'países',\n",
              "  'hablar',\n",
              "  'temas',\n",
              "  'asunto',\n",
              "  'washington',\n",
              "  'considera',\n",
              "  'seguridad',\n",
              "  'reanudaron',\n",
              "  'nueva',\n",
              "  'york',\n",
              "  'verano',\n",
              "  'pasado',\n",
              "  'después',\n",
              "  'cinco',\n",
              "  'años',\n",
              "  'interrupción',\n",
              "  'gobierno',\n",
              "  'george',\n",
              "  'ee',\n",
              "  'uu',\n",
              "  'envió',\n",
              "  'ahora',\n",
              "  'habana',\n",
              "  'subsecretario',\n",
              "  'adjunto',\n",
              "  'asuntos',\n",
              "  'hemisferio',\n",
              "  'craig',\n",
              "  'funcionario',\n",
              "  'alto',\n",
              "  'rango',\n",
              "  'pisado',\n",
              "  'isla',\n",
              "  'barack',\n",
              "  'obama',\n",
              "  'llegó',\n",
              "  'nuevo',\n",
              "  'paso',\n",
              "  'hacia',\n",
              "  'delegación',\n",
              "  'cubana',\n",
              "  'encabezada',\n",
              "  'dagoberto',\n",
              "  'viceministro',\n",
              "  'relaciones',\n",
              "  'terminar',\n",
              "  'reunión',\n",
              "  'reafirmó',\n",
              "  'comunicado',\n",
              "  'importancia',\n",
              "  'utilidad',\n",
              "  'objetivo',\n",
              "  'encuentro',\n",
              "  'pasar',\n",
              "  'revista',\n",
              "  'acuerdos',\n",
              "  'migratorios',\n",
              "  'firmados',\n",
              "  'ambos',\n",
              "  'países',\n",
              "  'raíz',\n",
              "  'crisis',\n",
              "  'parte',\n",
              "  'trató',\n",
              "  'propuesta',\n",
              "  'cubana',\n",
              "  'negociar',\n",
              "  'nuevo',\n",
              "  'acuerdo',\n",
              "  'migratorio',\n",
              "  'establecer',\n",
              "  'formas',\n",
              "  'cooperación',\n",
              "  'luchar',\n",
              "  'tráfico',\n",
              "  'convenio',\n",
              "  'vigente',\n",
              "  'establece',\n",
              "  'obligación',\n",
              "  'ee',\n",
              "  'uu',\n",
              "  'conceder',\n",
              "  'mínimo',\n",
              "  'visados',\n",
              "  'anuales',\n",
              "  'inmigrantes',\n",
              "  'así',\n",
              "  'repatriar',\n",
              "  'balseros',\n",
              "  'interceptados',\n",
              "  'alta',\n",
              "  'compromete',\n",
              "  'tomar',\n",
              "  'medidas',\n",
              "  'impedir',\n",
              "  'salidas',\n",
              "  'ambas',\n",
              "  'naciones',\n",
              "  'expresaron',\n",
              "  'entonces',\n",
              "  'voluntad',\n",
              "  'promover',\n",
              "  'emigración',\n",
              "  'legal',\n",
              "  'establecieron',\n",
              "  'mecanismo',\n",
              "  'reuniones',\n",
              "  'periódicas',\n",
              "  'asegurar',\n",
              "  'cumplimiento',\n",
              "  'mecanismo',\n",
              "  'funcionó',\n",
              "  'diciembre',\n",
              "  'gobierno',\n",
              "  'medio',\n",
              "  'política',\n",
              "  'endurecimiento',\n",
              "  'decidió',\n",
              "  'suspender',\n",
              "  'llegada',\n",
              "  'obama',\n",
              "  'casa',\n",
              "  'blanca',\n",
              "  'cosas',\n",
              "  'empezaron',\n",
              "  'volver',\n",
              "  'abril',\n",
              "  'presidente',\n",
              "  'ee',\n",
              "  'uu',\n",
              "  'levantó',\n",
              "  'restricciones',\n",
              "  'impuestas',\n",
              "  'antecesor',\n",
              "  'viajes',\n",
              "  'liberó',\n",
              "  'envío',\n",
              "  'remesas',\n",
              "  'mayo',\n",
              "  'propuso',\n",
              "  'habana',\n",
              "  'reanudar',\n",
              "  'conversaciones',\n",
              "  'cosa',\n",
              "  'sucedió',\n",
              "  'mes',\n",
              "  'después',\n",
              "  'nueva',\n",
              "  'temas',\n",
              "  'delicados',\n",
              "  'agenda',\n",
              "  'bilateral',\n",
              "  'caso',\n",
              "  'ciudadano',\n",
              "  'norteamericano',\n",
              "  'alan',\n",
              "  'detenido',\n",
              "  'isla',\n",
              "  'diciembre',\n",
              "  'distribuía',\n",
              "  'grupos',\n",
              "  'sociedad',\n",
              "  'civil',\n",
              "  'encargo',\n",
              "  'gobierno',\n",
              "  'cuba',\n",
              "  'puede',\n",
              "  'considerar',\n",
              "  'intento',\n",
              "  'artículo',\n",
              "  'apareció',\n",
              "  'edición',\n",
              "  'impresa',\n",
              "  'febrero'],\n",
              " ['gran',\n",
              "  'noche',\n",
              "  'música',\n",
              "  'transformó',\n",
              "  'improvisada',\n",
              "  'celebración',\n",
              "  'honor',\n",
              "  'whitney',\n",
              "  'fallecida',\n",
              "  'ángeles',\n",
              "  'horas',\n",
              "  'entrega',\n",
              "  'edición',\n",
              "  'muerte',\n",
              "  'cantante',\n",
              "  'solo',\n",
              "  'inesperada',\n",
              "  'cambió',\n",
              "  'rumbo',\n",
              "  'gala',\n",
              "  'premios',\n",
              "  'noche',\n",
              "  'luto',\n",
              "  'celebración',\n",
              "  'recuerdo',\n",
              "  'hermana',\n",
              "  'sufrido',\n",
              "  'muerte',\n",
              "  'declaró',\n",
              "  'cantante',\n",
              "  'maestro',\n",
              "  'ceremonias',\n",
              "  'll',\n",
              "  'cool',\n",
              "  'j',\n",
              "  'comenzar',\n",
              "  'ceremonia',\n",
              "  'estadio',\n",
              "  'staples',\n",
              "  'ángeles',\n",
              "  'entonar',\n",
              "  'oración',\n",
              "  'bello',\n",
              "  'espíritu',\n",
              "  'ido',\n",
              "  'plegaria',\n",
              "  'repitió',\n",
              "  'largo',\n",
              "  'velada',\n",
              "  'boca',\n",
              "  'lady',\n",
              "  'gaga',\n",
              "  'katy',\n",
              "  'perry',\n",
              "  'unieron',\n",
              "  'momento',\n",
              "  'silencio',\n",
              "  'bruno',\n",
              "  'mars',\n",
              "  'olvidó',\n",
              "  'seis',\n",
              "  'candidaturas',\n",
              "  'recordó',\n",
              "  'grammy',\n",
              "  'belleza',\n",
              "  'whitney',\n",
              "  'mientras',\n",
              "  'bonnie',\n",
              "  'raitt',\n",
              "  'agradeció',\n",
              "  'inesperada',\n",
              "  'coincidencia',\n",
              "  'dio',\n",
              "  'oportunidad',\n",
              "  'celebrar',\n",
              "  'juntos',\n",
              "  'música',\n",
              "  'recomendó',\n",
              "  'cantante',\n",
              "  'country',\n",
              "  'miranda',\n",
              "  'lambert',\n",
              "  'pesar',\n",
              "  'ceremonia',\n",
              "  'conocida',\n",
              "  'grammy',\n",
              "  'concedieron',\n",
              "  'total',\n",
              "  'drástica',\n",
              "  'reducción',\n",
              "  'habituales',\n",
              "  'reconociendo',\n",
              "  'mejor',\n",
              "  'año',\n",
              "  'gala',\n",
              "  'convirtió',\n",
              "  'esperado',\n",
              "  'noche',\n",
              "  'cantante',\n",
              "  'británica',\n",
              "  'obtuvo',\n",
              "  'total',\n",
              "  'seis',\n",
              "  'mejor',\n",
              "  'álbum',\n",
              "  'ganó',\n",
              "  'galardón',\n",
              "  'mejor',\n",
              "  'cantante',\n",
              "  'ganó',\n",
              "  'gramófono',\n",
              "  'dorado',\n",
              "  'mejor',\n",
              "  'canción',\n",
              "  'mejor',\n",
              "  'grabación',\n",
              "  'tema',\n",
              "  'rolling',\n",
              "  'in',\n",
              "  'the',\n",
              "  'así',\n",
              "  'grammy',\n",
              "  'mejor',\n",
              "  'interpretación',\n",
              "  'pop',\n",
              "  'someone',\n",
              "  'like',\n",
              "  'premios',\n",
              "  'cargados',\n",
              "  'propio',\n",
              "  'drama',\n",
              "  'venir',\n",
              "  'acompañados',\n",
              "  'primera',\n",
              "  'actuación',\n",
              "  'pública',\n",
              "  'cantante',\n",
              "  'operada',\n",
              "  'intérprete',\n",
              "  'años',\n",
              "  'dedicó',\n",
              "  'victoria',\n",
              "  'devolvieron',\n",
              "  'kanye',\n",
              "  'gran',\n",
              "  'favorito',\n",
              "  'siete',\n",
              "  'consiguió',\n",
              "  'total',\n",
              "  'cuatro',\n",
              "  'premios',\n",
              "  'entregados',\n",
              "  'ausencia',\n",
              "  'ceremonia',\n",
              "  'grammy',\n",
              "  'coincidió',\n",
              "  'última',\n",
              "  'rueda',\n",
              "  'prensa',\n",
              "  'jede',\n",
              "  'departamento',\n",
              "  'forense',\n",
              "  'ed',\n",
              "  'dijo',\n",
              "  'vez',\n",
              "  'concluida',\n",
              "  'encuentra',\n",
              "  'espera',\n",
              "  'resultados',\n",
              "  'toxicología',\n",
              "  'determinen',\n",
              "  'si',\n",
              "  'existía',\n",
              "  'alguna',\n",
              "  'legal',\n",
              "  'cuerpo',\n",
              "  'intérprete',\n",
              "  'causa',\n",
              "  'oficial',\n",
              "  'muerte',\n",
              "  'conocerá',\n",
              "  'dentro',\n",
              "  'seis',\n",
              "  'u',\n",
              "  'ocho',\n",
              "  'winter',\n",
              "  'apuntó',\n",
              "  'departamento',\n",
              "  'policía',\n",
              "  'beverly',\n",
              "  'hills',\n",
              "  'solicitado',\n",
              "  'oficina',\n",
              "  'forense',\n",
              "  'faciliten',\n",
              "  'datos',\n",
              "  'acerca',\n",
              "  'incluidos',\n",
              "  'detalles',\n",
              "  'circunstancias',\n",
              "  'encontró',\n",
              "  'cuerpo',\n",
              "  'cantante',\n",
              "  'noche',\n",
              "  'sábado',\n",
              "  'hotel',\n",
              "  'beverly',\n",
              "  'conocida',\n",
              "  'problemas',\n",
              "  'alcohol',\n",
              "  'primeras',\n",
              "  'informaciones',\n",
              "  'confirmadas',\n",
              "  'señalan',\n",
              "  'cantante',\n",
              "  'murió',\n",
              "  'ahogada',\n",
              "  'bañera',\n",
              "  'mientras',\n",
              "  'preparaba',\n",
              "  'fiesta',\n",
              "  'previa',\n",
              "  'accidente',\n",
              "  'pudo',\n",
              "  'ocurrió',\n",
              "  'perder',\n",
              "  'conocimiento',\n",
              "  'culpa',\n",
              "  'medicamentos',\n",
              "  'circunstancia',\n",
              "  'ocurrió',\n",
              "  'artistas',\n",
              "  'heath',\n",
              "  'brittany',\n",
              "  'corey',\n",
              "  'haim',\n",
              "  'modelo',\n",
              "  'heredera',\n",
              "  'anna',\n",
              "  'nicole',\n",
              "  'winter',\n",
              "  'quiso',\n",
              "  'confirmar',\n",
              "  'desmentir',\n",
              "  'bruce',\n",
              "  'springsteen',\n",
              "  'ceremonia',\n",
              "  'grammy',\n",
              "  'alternó',\n",
              "  'además',\n",
              "  'transgresión',\n",
              "  'abriendo',\n",
              "  'bruce',\n",
              "  'springsteen',\n",
              "  'tema',\n",
              "  'we',\n",
              "  'take',\n",
              "  'care',\n",
              "  'of',\n",
              "  'our',\n",
              "  'próximo',\n",
              "  'canción',\n",
              "  'puso',\n",
              "  'pie',\n",
              "  'mismísimo',\n",
              "  'paul',\n",
              "  'mccartney',\n",
              "  'centrada',\n",
              "  'problemas',\n",
              "  'llega',\n",
              "  'tiempo',\n",
              "  'próximas',\n",
              "  'elecciones',\n",
              "  'foo',\n",
              "  'fighters',\n",
              "  'hicieron',\n",
              "  'saltar',\n",
              "  'tocaron',\n",
              "  'estadio',\n",
              "  'staples',\n",
              "  'dedicaron',\n",
              "  'cinco',\n",
              "  'victorias',\n",
              "  'rock',\n",
              "  'género',\n",
              "  'desearon',\n",
              "  'ganadores',\n",
              "  'kanye',\n",
              "  'comienzo',\n",
              "  'ceremonia',\n",
              "  'gran',\n",
              "  'favorito',\n",
              "  'siete',\n",
              "  'candidaturas',\n",
              "  'consiguió',\n",
              "  'total',\n",
              "  'cuatro',\n",
              "  'premios',\n",
              "  'entregados',\n",
              "  'mejor',\n",
              "  'álbum',\n",
              "  'latino',\n",
              "  'rock',\n",
              "  'urbano',\n",
              "  'ganador',\n",
              "  'mientras',\n",
              "  'cachao',\n",
              "  'llevó',\n",
              "  'gramófono',\n",
              "  'dorado',\n",
              "  'mejor',\n",
              "  'álbum',\n",
              "  'tropical',\n",
              "  'pepe',\n",
              "  'aguilar',\n",
              "  'declaró',\n",
              "  'victorioso',\n",
              "  'sección',\n",
              "  'mexicana',\n",
              "  'regional',\n",
              "  'tejana',\n",
              "  'mientras',\n",
              "  'tigres',\n",
              "  'norte',\n",
              "  'hicieron',\n",
              "  'mejor',\n",
              "  'banda',\n",
              "  'música',\n",
              "  'noche',\n",
              "  'perteneció',\n",
              "  'whitney',\n",
              "  'houston',\n",
              "  'parafraseando',\n",
              "  'canción',\n",
              "  'popular',\n",
              "  'intérprete',\n",
              "  'ganadora',\n",
              "  'seis',\n",
              "  'premios',\n",
              "  'así',\n",
              "  'dijo',\n",
              "  'rapero',\n",
              "  'principio',\n",
              "  'gala',\n",
              "  'tema',\n",
              "  'jennifer',\n",
              "  'hudson',\n",
              "  'interpretó',\n",
              "  'i',\n",
              "  'will',\n",
              "  'always',\n",
              "  'love',\n",
              "  'canción',\n",
              "  'dolly',\n",
              "  'parton',\n",
              "  'voz',\n",
              "  'houston',\n",
              "  'dio',\n",
              "  'vuelta',\n",
              "  'mundo',\n",
              "  'parte',\n",
              "  'banda',\n",
              "  'sonora',\n",
              "  'película',\n",
              "  'guardaespaldas',\n",
              "  'convirtió',\n",
              "  'tema',\n",
              "  'popular',\n",
              "  'mejor',\n",
              "  'muestra',\n",
              "  'capacidad',\n",
              "  'amiga',\n",
              "  'personal',\n",
              "  'cantante',\n",
              "  'interpretó',\n",
              "  'tema',\n",
              "  'emocionante',\n",
              "  'actuación',\n",
              "  'concluyó',\n",
              "  'sencillo',\n",
              "  'lágrimas',\n",
              "  'ojos',\n",
              "  'explicaron',\n",
              "  'organizadores',\n",
              "  'homenaje',\n",
              "  'improvisado',\n",
              "  'dada',\n",
              "  'falta',\n",
              "  'cantantes',\n",
              "  'acostumbrados',\n",
              "  'familia',\n",
              "  'cierra',\n",
              "  'filas',\n",
              "  'aclaró',\n",
              "  'productor',\n",
              "  'jimmy',\n",
              "  'jam',\n",
              "  'referencia',\n",
              "  'gran',\n",
              "  'familia',\n",
              "  'así',\n",
              "  'demostraron',\n",
              "  'padres',\n",
              "  'amy',\n",
              "  'fallecida',\n",
              "  'cantante',\n",
              "  'británica',\n",
              "  'subieron',\n",
              "  'escenario',\n",
              "  'recoger',\n",
              "  'dos',\n",
              "  'gramófonos',\n",
              "  'recibió',\n",
              "  'tony',\n",
              "  'bennett',\n",
              "  'trabajo',\n",
              "  'junto',\n",
              "  'hija',\n",
              "  'mejor',\n",
              "  'dúo',\n",
              "  'puedo',\n",
              "  'maravilloso',\n",
              "  'grupo',\n",
              "  'chicas',\n",
              "  'dijo',\n",
              "  'referencia',\n",
              "  'houston',\n",
              "  'recientemente',\n",
              "  'fallecida',\n",
              "  'etta']]"
            ]
          },
          "execution_count": 101,
          "metadata": {},
          "output_type": "execute_result"
        }
      ],
      "source": [
        "all_text[0:5] # muestra los primeros 5 elementos de la lista"
      ]
    },
    {
      "cell_type": "code",
      "execution_count": 102,
      "metadata": {
        "id": "B9cnSSz0rtZ8"
      },
      "outputs": [],
      "source": [
        "# crea un diccionario con las palabras unicas de texto de origen(texto) y destino(resumen)\n",
        "source_vocab = {actual_word: idx for idx, (word_num, actual_word) in enumerate(sorted(enumerate(set(token for tokens in all_text for token in tokens)), key=lambda x: x[1]))}\n",
        "target_vocab = {actual_word: idx for idx, (word_num, actual_word) in enumerate(sorted(enumerate(set(token for tokens in all_text for token in tokens)), key=lambda x: x[1]))}"
      ]
    },
    {
      "cell_type": "code",
      "execution_count": 103,
      "metadata": {
        "id": "F3n86JpxzaVp"
      },
      "outputs": [],
      "source": [
        "# \n",
        "class CustomDataset(Dataset): # clase para crear el dataset\n",
        "    def __init__(self, source_texts, target_summaries, source_vocab, target_vocab):\n",
        "        self.source_texts = source_texts\n",
        "        self.target_summaries = target_summaries \n",
        "        self.source_vocab = source_vocab\n",
        "        self.target_vocab = target_vocab\n",
        "\n",
        "    def __len__(self):\n",
        "        return len(self.source_texts)\n",
        "\n",
        "    def __getitem__(self, idx):\n",
        "        source_text = [self.source_vocab[word] for word in self.source_texts[idx]]\n",
        "        target_summary = [self.target_vocab[word] for word in self.target_summaries[idx]]\n",
        "        return torch.tensor(source_text), torch.tensor(target_summary)"
      ]
    },
    {
      "cell_type": "code",
      "execution_count": 104,
      "metadata": {
        "id": "ZyJo2fs7UPNu"
      },
      "outputs": [],
      "source": [
        "train_dataset = CustomDataset(train_df['source_text'].tolist(), train_df['target_text'].tolist(),source_vocab, target_vocab)\n",
        "test_dataset = CustomDataset(test_df['source_text'].tolist(), test_df['target_text'].tolist(),source_vocab, target_vocab)"
      ]
    },
    {
      "cell_type": "code",
      "execution_count": 105,
      "metadata": {
        "id": "IT6LMCVXUll2"
      },
      "outputs": [],
      "source": [
        "def get_max_seqlen():\n",
        "    max_length = 0\n",
        "    for index, row in train_df.iterrows():\n",
        "        # Calculate the length of the current row\n",
        "        row_length = len(row['source_text'])\n",
        "        # Update the maximum length if the current row length is greater\n",
        "        max_length = max(max_length, row_length)\n",
        "    for index, row in test_df.iterrows():\n",
        "        # Calculate the length of the current row\n",
        "        row_length = len(row['source_text'])\n",
        "        # Update the maximum length if the current row length is greater\n",
        "        max_length = max(max_length, row_length)\n",
        "    print(\"Max length in dataset \",max_length)\n",
        "    return max_length"
      ]
    },
    {
      "cell_type": "code",
      "execution_count": 106,
      "metadata": {
        "id": "1xoDeNNzU1xT"
      },
      "outputs": [],
      "source": [
        "def collate_fn(batch):\n",
        "    sources, targets = zip(*batch)\n",
        "    padded_sources = pad_sequence(sources, batch_first=True)\n",
        "    padded_targets = pad_sequence(targets, batch_first=True)\n",
        "    return padded_sources, padded_targets"
      ]
    },
    {
      "cell_type": "markdown",
      "metadata": {},
      "source": [
        "ATENCION MULTICABEZAS"
      ]
    },
    {
      "cell_type": "code",
      "execution_count": 107,
      "metadata": {
        "id": "_y5ys_GaVQoW"
      },
      "outputs": [],
      "source": [
        "class MultiHeadAttention(nn.Module):\n",
        "    def __init__(self, embedding_dim, num_heads):\n",
        "        super(MultiHeadAttention,self).__init__()\n",
        "        assert embedding_dim % num_heads == 0, \"embedding_dim must be divisible by num_heads\" # verifica que la division sea exacta\n",
        "\n",
        "        self.embedding_dim = embedding_dim\n",
        "        self.num_heads = num_heads\n",
        "        self.dim_perhead = embedding_dim // num_heads\n",
        "\n",
        "        self.W_q = nn.Linear(embedding_dim, embedding_dim) # capa lineal para Q\n",
        "        self.W_k = nn.Linear(embedding_dim, embedding_dim)\n",
        "        self.W_v = nn.Linear(embedding_dim, embedding_dim)\n",
        "        self.W_o = nn.Linear(embedding_dim, embedding_dim) # capa lineal para la salida\n",
        "\n",
        "    def scaled_dot_product_attention(self,Q,K,V,mask=None): # calcula que partes de la secuencia de entrada debe recibir mas atencion\n",
        "       \n",
        "\n",
        "        # Q consultas, K claves y V valores\n",
        "\n",
        "        K = K.transpose(-2,-1) # transpone la matriz K la ultima y penultima dimension\n",
        "        \n",
        "        attn_scores = torch.matmul(Q,K) / math.sqrt(self.dim_perhead) # mide la importancia de cada palabra en la secuencia\n",
        "        \n",
        "        if mask is not None:\n",
        "            attn_scores = attn_scores.masked_fill(mask == 0, -1e9) \n",
        "        attn_probs = torch.softmax(attn_scores, dim=-1) # aplica la funcion softmax para obtener la probabilidad de cada palabra en la secuencia\n",
        "        \n",
        "        output = torch.matmul(attn_probs, V) # multiplica la matriz de atencion con la matriz de valores\n",
        "       \n",
        "        return output # salida de la atencion\n",
        "\n",
        "    def split_heads(self, x): # divide la matriz de entrada en multiples cabezas\n",
        "        \n",
        "        batch_size, seq_length, d_model = x.size() # obtiene el tamaño de la matriz de entrada\n",
        "        x = x.view(batch_size, seq_length,self.num_heads,self.dim_perhead) # cambia la forma de la matriz de entrada\n",
        " \n",
        "        x = x.transpose(1,2) # transpone la matriz de entrada\n",
        "        \n",
        "        return x\n",
        "\n",
        "    def combine_heads(self, x): # combina las cabezas de atencion\n",
        "       \n",
        "        batch_size, _, seq_length, dim_perhead = x.size() # obtiene el tamaño de la matriz de entrada\n",
        "        x = x.transpose(1,2).contiguous() # transpone la matriz de entrada y la convierte en una matriz contigua\n",
        "        \n",
        "        x = x.view(batch_size, seq_length,self.embedding_dim) # cambia la forma de la matriz de entrada para combinar las cabezas para integrar la info\n",
        "        \n",
        "        return x # tensor x reestructurado\n",
        "\n",
        "    def forward(self, Q, K, V, mask=None): # metodo forward para la atencion multiple\n",
        "        \n",
        "        Q = self.split_heads(self.W_q(Q)) # divide la matriz de consultas en multiples cabezas\n",
        "        K = self.split_heads(self.W_k(K)) # divide la matriz de claves en multiples cabezas\n",
        "        V = self.split_heads(self.W_v(V))\n",
        "        \n",
        "        attn_output = self.scaled_dot_product_attention(Q, K, V, mask) # calcula la atencion multiple con las matrices Q, K y V\n",
        "        \n",
        "        output = self.W_o(self.combine_heads(attn_output)) # combina las cabezas de atencion y aplica la capa lineal de salida\n",
        "        \n",
        "        return output # salida de la atencion multiple"
      ]
    },
    {
      "cell_type": "markdown",
      "metadata": {},
      "source": []
    },
    {
      "cell_type": "code",
      "execution_count": 108,
      "metadata": {
        "id": "xnSVSll6VZd0"
      },
      "outputs": [],
      "source": [
        "class PositionWiseFeedForward(nn.Module): # clase para la red de alimentacion en posicion\n",
        "    def __init__(self, d_model, d_ff): # inicializa la clase con el tamaño del embedding y el tamaño de la capa oculta feedforward\n",
        "        super(PositionWiseFeedForward, self).__init__()\n",
        "        self.fc1 = nn.Linear(d_model, d_ff) # tranforma de d_model a d_ff\n",
        "        self.fc2 = nn.Linear(d_ff, d_model) # tranforma de d_ff a d_model\n",
        "\n",
        "    def forward(self, x): # metodo forward para la red de alimentacion en posicion\n",
        "        # shape does not change here\n",
        "        return self.fc2(F.relu(self.fc1(x))) # aplica la funcion de activacion relu a la salida de la primera capa lineal y luego aplica la segunda capa lineal\n",
        "\n",
        "\n",
        "class PositionalEncoding(nn.Module): # clase para la codificacion posicional de la secuencia de entrada \n",
        "    def __init__(self, d_model, max_seq_length): # inicializa la clase con el tamaño de la secuencia de entrada y el tamaño del modelo\n",
        "        super(PositionalEncoding, self).__init__()\n",
        "\n",
        "        pe = torch.zeros(max_seq_length, d_model) # crea un tensor de ceros con el tamaño de la secuencia de entrada y el tamaño del modelo\n",
        "        position = torch.arange(0, max_seq_length,dtype=torch.float).unsqueeze(1) # matriz de posiciones de la secuencia de entrada\n",
        "        div_term = torch.exp(torch.arange(0, d_model,2).float() * -(math.log(10000.0) / d_model)) # termino de division para la codificacion posicional\n",
        "\n",
        "        pe[:, 0::2] = torch.sin(position * div_term) # aplica la funcion seno a las posiciones pares\n",
        "        pe[:, 1::2] = torch.cos(position * div_term) # aplica la funcion coseno a las posiciones impares\n",
        "\n",
        "        self.register_buffer('pe',pe.unsqueeze(0))\n",
        "\n",
        "    def forward(self, x):\n",
        "        # shape does not change here, adding positional encoding information\n",
        "        return x + self.pe[:, :x.size(1)]"
      ]
    },
    {
      "cell_type": "code",
      "execution_count": 109,
      "metadata": {
        "id": "3_yQ12J_WyoM"
      },
      "outputs": [],
      "source": [
        "class EncoderLayer(nn.Module):\n",
        "    def __init__(self, d_model, num_heads, d_ff, dropout):\n",
        "        super(EncoderLayer, self).__init__()\n",
        "        self.self_attn = MultiHeadAttention(d_model, num_heads) # instancia de la clase MultiHeadAttention\n",
        "        self.feed_forward = PositionWiseFeedForward(d_model, d_ff) # instancia de la clase PositionWiseFeedForward\n",
        "        self.norm1 = nn.LayerNorm(d_model) # normalizacion de la capa 1 \n",
        "        self.norm2 = nn.LayerNorm(d_model)\n",
        "        self.dropout = nn.Dropout(dropout)\n",
        "\n",
        "    def forward(self, x, mask): # metodo forward para la capa de codificacion\n",
        "     \n",
        "        attn_output = self.self_attn(x, x, x,mask) # aplica la atencion multiple a la secuencia de entrada\n",
        "        \n",
        "        x = self.norm1(x + self.dropout(attn_output)) # normaliza la secuencia de entrada\n",
        "        \n",
        "        ff_output = self.feed_forward(x) # aplica la red feedforward a la salida normalizada\n",
        "    \n",
        "        x = self.norm2(x + self.dropout(ff_output))  # normaliza la salida de la red feedforward lo suma a la entrada normalizada\n",
        "    \n",
        "        return x # salida procesada\n",
        "\n",
        "\n",
        "class DecoderLayer(nn.Module):\n",
        "    def __init__(self, d_model, num_heads, d_ff, dropout):\n",
        "        super(DecoderLayer, self).__init__()\n",
        "        self.self_attn = MultiHeadAttention(d_model, num_heads) # Atención multi-cabeza para la secuencia de salida (self-attention).\n",
        "        self.cross_attn = MultiHeadAttention(d_model, num_heads) # Atención multi-cabeza cruzada utilizando la salida del codificador (cross-attention).\n",
        "        self.feed_forward = PositionWiseFeedForward(d_model, d_ff) #red feedforward en posicion\n",
        "        self.norm1 = nn.LayerNorm(d_model)\n",
        "        self.norm2 = nn.LayerNorm(d_model) # normalizacion de la capa 2\n",
        "        self.norm3 = nn.LayerNorm(d_model)\n",
        "        self.dropout = nn.Dropout(dropout)\n",
        "\n",
        "    def forward(self, x, enc_output, src_mask, tgt_mask):\n",
        "        attn_output = self.self_attn(x, x, x,tgt_mask) # atencion multiple para la secuencia de salida\n",
        "        x = self.norm1(x + self.dropout(attn_output)) # normaliza la secuencia de salida\n",
        "        attn_output = self.cross_attn(x,enc_output,enc_output,src_mask) # atencion multiple cruzada con la salida del codificador\n",
        "        x = self.norm2(x + self.dropout(attn_output)) # normaliza la secuencia de salida y aplica dropout\n",
        "        ff_output = self.feed_forward(x) # aplica la red feedforward a la salida normalizada\n",
        "        x = self.norm3(x + self.dropout(ff_output)) # normaliza la salida de la red feedforward y aplica dropout\n",
        "        return x # salida procesada"
      ]
    },
    {
      "cell_type": "code",
      "execution_count": 110,
      "metadata": {
        "id": "p3b5lf-PW6qt"
      },
      "outputs": [],
      "source": [
        "class Transformer(nn.Module):\n",
        "    def __init__(self, src_vocab_size, tgt_vocab_size, d_model, num_heads, num_layers, d_ff, max_seq_length, dropout):\n",
        "        super(Transformer, self).__init__()\n",
        "        self.encoder_embedding = nn.Embedding(src_vocab_size, d_model) # convierte los los tokens de entrada en vectores de embedding\n",
        "        self.decoder_embedding = nn.Embedding(tgt_vocab_size, d_model) # convierte los los tokens de salida en vectores de embedding\n",
        "        self.positional_encoding = PositionalEncoding(d_model, max_seq_length) # añade informacioni posicional al embedding\n",
        "\n",
        "        self.encoder_layers = nn.ModuleList([EncoderLayer(d_model, num_heads, d_ff, dropout) for _ in range(num_layers)]) # lista de capas de codificacion\n",
        "        self.decoder_layers = nn.ModuleList([DecoderLayer(d_model, num_heads, d_ff, dropout) for _ in range(num_layers)])\n",
        "\n",
        "        self.fc = nn.Linear(d_model, tgt_vocab_size) #capa lineal que produce las probablidades de los tokens de salida\n",
        "        self.dropout = nn.Dropout(dropout)\n",
        "\n",
        "    def generate_mask(self, src, tgt):\n",
        "        src_mask = (src != 0).unsqueeze(1).unsqueeze(2) # crea una mascara para la secuencia de entrada ignorando los tokens de padding\n",
        "        tgt_mask = (tgt != 0).unsqueeze(1).unsqueeze(3) # crear la mascara de salida combinando la mascara de padding y la mascara de causalidad\n",
        "        seq_length = tgt.size(1)\n",
        "        nopeak_mask = (1 - torch.triu(torch.ones(1, seq_length, seq_length,device=device), diagonal=1)).bool()\n",
        "        tgt_mask = tgt_mask & nopeak_mask\n",
        "        return src_mask, tgt_mask\n",
        "\n",
        "    def forward(self, src, tgt):\n",
        "        src_mask, tgt_mask = self.generate_mask(src, tgt) # genera las mascaras para la secuencia de entrada y de salida\n",
        "        src_embedded = self.dropout(self.positional_encoding(self.encoder_embedding(src))) #embeddings y codificacion posicional \n",
        "        tgt_embedded = self.dropout(self.positional_encoding(self.decoder_embedding(tgt)))\n",
        "\n",
        "        enc_output = src_embedded #codifcador\n",
        "        for enc_layer in self.encoder_layers:\n",
        "            enc_output = enc_layer(enc_output, src_mask)\n",
        "\n",
        "        dec_output = tgt_embedded #decodificador\n",
        "        for dec_layer in self.decoder_layers:\n",
        "            dec_output = dec_layer(dec_output, enc_output, src_mask, tgt_mask)\n",
        "\n",
        "        output = self.fc(dec_output) # capa lineal final para producir las probabilidades de los tokens de salida.\n",
        "        return output "
      ]
    },
    {
      "cell_type": "code",
      "execution_count": 111,
      "metadata": {
        "colab": {
          "base_uri": "https://localhost:8080/"
        },
        "id": "RX_zUplSXCcW",
        "outputId": "d2b4a120-37f8-49b9-cbe6-2f68c9893ccf"
      },
      "outputs": [
        {
          "name": "stdout",
          "output_type": "stream",
          "text": [
            "Max length in dataset  5485\n",
            "Transformer(\n",
            "  (encoder_embedding): Embedding(80153, 256)\n",
            "  (decoder_embedding): Embedding(80153, 256)\n",
            "  (positional_encoding): PositionalEncoding()\n",
            "  (encoder_layers): ModuleList(\n",
            "    (0-5): 6 x EncoderLayer(\n",
            "      (self_attn): MultiHeadAttention(\n",
            "        (W_q): Linear(in_features=256, out_features=256, bias=True)\n",
            "        (W_k): Linear(in_features=256, out_features=256, bias=True)\n",
            "        (W_v): Linear(in_features=256, out_features=256, bias=True)\n",
            "        (W_o): Linear(in_features=256, out_features=256, bias=True)\n",
            "      )\n",
            "      (feed_forward): PositionWiseFeedForward(\n",
            "        (fc1): Linear(in_features=256, out_features=2048, bias=True)\n",
            "        (fc2): Linear(in_features=2048, out_features=256, bias=True)\n",
            "      )\n",
            "      (norm1): LayerNorm((256,), eps=1e-05, elementwise_affine=True)\n",
            "      (norm2): LayerNorm((256,), eps=1e-05, elementwise_affine=True)\n",
            "      (dropout): Dropout(p=0.05, inplace=False)\n",
            "    )\n",
            "  )\n",
            "  (decoder_layers): ModuleList(\n",
            "    (0-5): 6 x DecoderLayer(\n",
            "      (self_attn): MultiHeadAttention(\n",
            "        (W_q): Linear(in_features=256, out_features=256, bias=True)\n",
            "        (W_k): Linear(in_features=256, out_features=256, bias=True)\n",
            "        (W_v): Linear(in_features=256, out_features=256, bias=True)\n",
            "        (W_o): Linear(in_features=256, out_features=256, bias=True)\n",
            "      )\n",
            "      (cross_attn): MultiHeadAttention(\n",
            "        (W_q): Linear(in_features=256, out_features=256, bias=True)\n",
            "        (W_k): Linear(in_features=256, out_features=256, bias=True)\n",
            "        (W_v): Linear(in_features=256, out_features=256, bias=True)\n",
            "        (W_o): Linear(in_features=256, out_features=256, bias=True)\n",
            "      )\n",
            "      (feed_forward): PositionWiseFeedForward(\n",
            "        (fc1): Linear(in_features=256, out_features=2048, bias=True)\n",
            "        (fc2): Linear(in_features=2048, out_features=256, bias=True)\n",
            "      )\n",
            "      (norm1): LayerNorm((256,), eps=1e-05, elementwise_affine=True)\n",
            "      (norm2): LayerNorm((256,), eps=1e-05, elementwise_affine=True)\n",
            "      (norm3): LayerNorm((256,), eps=1e-05, elementwise_affine=True)\n",
            "      (dropout): Dropout(p=0.05, inplace=False)\n",
            "    )\n",
            "  )\n",
            "  (fc): Linear(in_features=256, out_features=80153, bias=True)\n",
            "  (dropout): Dropout(p=0.05, inplace=False)\n",
            ")\n"
          ]
        }
      ],
      "source": [
        "src_vocab_size = len(source_vocab)\n",
        "tgt_vocab_size = len(target_vocab)\n",
        "input_dim = 256\n",
        "num_heads = 4\n",
        "num_layers = 6\n",
        "d_ff = 2048 # dimension de la capa feedforward\n",
        "max_seq_length = get_max_seqlen() # longitud maxima de la secuencia\n",
        "dropout = 0.05\n",
        "num_workers = 0\n",
        "num_epochs = 20\n",
        "\n",
        "model = Transformer(src_vocab_size, tgt_vocab_size, input_dim, num_heads, num_layers, d_ff, max_seq_length, dropout)\n",
        "print(model)"
      ]
    },
    {
      "cell_type": "code",
      "execution_count": 112,
      "metadata": {
        "colab": {
          "base_uri": "https://localhost:8080/"
        },
        "id": "wEiKL1JaXQqA",
        "outputId": "e27624ee-269f-478f-81ce-3f97506e4b39"
      },
      "outputs": [
        {
          "name": "stdout",
          "output_type": "stream",
          "text": [
            "79000601\n"
          ]
        }
      ],
      "source": [
        "# calcula numero total de parametros entrenables\n",
        "trainable_params = sum(p.numel() for p in model.parameters() if p.requires_grad)\n",
        "print(trainable_params)"
      ]
    },
    {
      "cell_type": "code",
      "execution_count": 113,
      "metadata": {
        "id": "bO7cSkA1XkzJ"
      },
      "outputs": [],
      "source": [
        "criterion = nn.CrossEntropyLoss(ignore_index=0) # funcion de perdida\n",
        "optimizer = optim.Adam(model.parameters(), lr=0.001, betas=(0.9, 0.98), eps=1e-9)\n",
        "scheduler = torch.optim.lr_scheduler.CosineAnnealingLR(optimizer, T_max=10, eta_min=0) # ajusta la taza de aprendizaje en cada paso de forma programada"
      ]
    },
    {
      "cell_type": "code",
      "execution_count": 114,
      "metadata": {
        "id": "87QXOg2QXvTr"
      },
      "outputs": [],
      "source": [
        "#  divide el dataset en datos de entrenamiento y de validacion\n",
        "train_loader = DataLoader(train_dataset, batch_size=4, shuffle=True, collate_fn=collate_fn, num_workers=num_workers, pin_memory=True)\n",
        "test_loader = DataLoader(test_dataset, batch_size=4, shuffle=False, collate_fn=collate_fn, num_workers=num_workers)"
      ]
    },
    {
      "cell_type": "code",
      "execution_count": 115,
      "metadata": {
        "colab": {
          "base_uri": "https://localhost:8080/"
        },
        "id": "VM4vlQpLeW0b",
        "outputId": "90e54e80-df23-4d3b-9532-30094caadb35"
      },
      "outputs": [
        {
          "name": "stdout",
          "output_type": "stream",
          "text": [
            "Tamaño del train dataset: 907\n",
            "Tamaño del test dataset: 145\n"
          ]
        }
      ],
      "source": [
        "print(f'Tamaño del train dataset: {len(train_loader)}')\n",
        "print(f'Tamaño del test dataset: {len(test_loader)}')\n"
      ]
    },
    {
      "cell_type": "code",
      "execution_count": 116,
      "metadata": {},
      "outputs": [
        {
          "name": "stdout",
          "output_type": "stream",
          "text": [
            "GPU está disponible\n",
            "Nombre de la GPU: NVIDIA GeForce RTX 2060\n"
          ]
        },
        {
          "name": "stderr",
          "output_type": "stream",
          "text": [
            "Cargando lotes de datos: 100%|██████████| 907/907 [00:01<00:00, 513.80lote/s]\n"
          ]
        }
      ],
      "source": [
        "import torch\n",
        "from tqdm import tqdm\n",
        "\n",
        "device = torch.device(\"cuda\" if torch.cuda.is_available() else \"cpu\")\n",
        "\n",
        "# Verificar si la GPU está disponible\n",
        "if torch.cuda.is_available():\n",
        "    print(\"GPU está disponible\")\n",
        "    print(f\"Nombre de la GPU: {torch.cuda.get_device_name(0)}\")\n",
        "\n",
        "# Envolver el DataLoader con tqdm para mostrar el progreso\n",
        "for source_dummy, target_dummy in tqdm(train_loader, desc=\"Cargando lotes de datos\", unit=\"lote\"):\n",
        "    # Mover los datos a la GPU\n",
        "    source_dummy, target_dummy = source_dummy.to(device), target_dummy.to(device)\n",
        "\n",
        "    source_dummy,target_dummy = next(iter(train_loader))\n",
        "    pass\n",
        "\n"
      ]
    },
    {
      "cell_type": "code",
      "execution_count": 117,
      "metadata": {
        "id": "V3M0Y40KXypz"
      },
      "outputs": [],
      "source": [
        "# # Extrae el siguiente lote del DataLoader de entrenamiento\n",
        "# source_dummy,target_dummy = next(iter(train_loader))\n",
        "# # Mover los tensores al dispositivo (GPU)\n",
        "# source_dummy = source_dummy.to(device)\n",
        "# target_dummy = target_dummy.to(device)"
      ]
    },
    {
      "cell_type": "code",
      "execution_count": 118,
      "metadata": {
        "colab": {
          "base_uri": "https://localhost:8080/"
        },
        "id": "8BPMW8L5X1mi",
        "outputId": "4428a18b-254f-49b1-8578-7f6d962228f4"
      },
      "outputs": [
        {
          "name": "stdout",
          "output_type": "stream",
          "text": [
            "torch.Size([4, 419]) torch.Size([4, 11])\n"
          ]
        }
      ],
      "source": [
        "print(source_dummy.shape,target_dummy.shape)"
      ]
    },
    {
      "cell_type": "code",
      "execution_count": 119,
      "metadata": {
        "colab": {
          "base_uri": "https://localhost:8080/"
        },
        "id": "F0PigYk6X4OC",
        "outputId": "269adfef-40f9-4b7e-8043-b05312b90430"
      },
      "outputs": [
        {
          "name": "stdout",
          "output_type": "stream",
          "text": [
            "tensor([56876, 56479, 39182, 19628, 22813,  8985, 55349,  4571, 13432, 58192,\n",
            "         8985, 12255,  7826,  3853, 53526, 65740, 46288, 37274, 70626, 53908,\n",
            "        53402, 18261, 32508, 63988, 58190,  8854,  5103, 53641,  8716,  2388,\n",
            "        27709, 56872, 58335, 21226, 47430, 55133, 19280,  9436, 51143, 13494,\n",
            "        30931, 42109, 18263, 77715, 74640, 58019, 12269, 47481,  4540, 54751,\n",
            "         3693, 30520, 32487, 65375, 51143,  3929,  9436, 53657, 74406, 35516,\n",
            "        18270, 13814, 28721,  7826,  3853, 72728, 29982,  5268, 22624, 50792,\n",
            "        13384, 74849, 46744, 22807, 21226, 56114, 50909, 31530, 75458, 68207,\n",
            "        20523, 55803, 13432,  8859, 57756, 38189, 13307,  5270, 18263, 78521,\n",
            "        33342, 20093, 19639, 55780, 18424, 57485, 39027, 69761, 13384, 58192,\n",
            "        12255,  7826,  2841, 61896, 60110, 47486, 35971, 28479, 27218, 68915,\n",
            "        69761,  4239, 57959, 52647, 76903, 56734, 13307, 36621, 38276, 21612,\n",
            "        28517, 27701,  8716, 46740, 73057,  7826, 13384, 38655, 57758, 76975,\n",
            "         7562, 20536, 69537, 78502, 22019, 53402, 78521, 22776, 38262,  8846,\n",
            "        49391,  2841, 63863, 39286,  4007, 69501, 59484, 35981, 22624, 41054,\n",
            "        61470, 32957,  9436, 74339, 65708,  7017,  3929, 11959, 77816, 58018,\n",
            "        50022, 20344, 13419, 53404, 12255,  7826,  3853, 77432, 31875, 50013,\n",
            "         3190, 27142, 74851, 50792,  9436, 64588, 53657, 39961, 41148, 39188,\n",
            "        56824, 35183, 51657, 47338, 15257, 40609, 68871, 55281, 65056,  9436,\n",
            "        32965, 42230, 52110, 24724, 76877, 27217, 12656, 75130, 47324, 60718,\n",
            "        53404, 58137, 76623, 19628,  2841, 75865, 46498,  3936, 35516, 18270,\n",
            "        51143, 57530, 18642,  9436,  3127, 74614, 13219, 28517, 76600,   355,\n",
            "         7245, 69472, 46878, 74339, 77975,  7826, 47338, 36690, 39683, 17928,\n",
            "        76862, 56479, 39182, 76862,  6470, 20961, 35264, 37834, 73870, 13384,\n",
            "        32193, 28222, 22216, 38262, 77282, 21838, 78547,  6155, 28517, 55292,\n",
            "        30931, 74339, 64003, 35972, 27207, 46147,  9436, 37249, 33022,  3300,\n",
            "        26272, 22390, 54718, 54059, 28577, 18010, 56267, 72728, 51577, 61765,\n",
            "        28721, 37756, 39185, 78185,  1322, 13353, 21262, 54188, 61994, 69276,\n",
            "        19037, 57758, 53399,  3418, 56660,  6204, 51567, 74981, 76598, 53402,\n",
            "        13432, 22221, 11461, 16320, 58165, 51849, 76879, 65703, 68886, 13814,\n",
            "         7826, 61890, 30393,  1350,  4540, 70027, 51726, 54720, 30520, 32487,\n",
            "        14116, 65375, 13353, 58853, 53527, 12255, 13785, 60110, 77816,  9021,\n",
            "        11010,  6492, 37274, 49182, 54448, 65418, 19628,   607, 74339, 65740,\n",
            "         2841, 55374, 32193,  6984,  5418, 27199, 40651, 48873,     0,     0,\n",
            "            0,     0,     0,     0,     0,     0,     0,     0,     0,     0,\n",
            "            0,     0,     0,     0,     0,     0,     0,     0,     0,     0,\n",
            "            0,     0,     0,     0,     0,     0,     0,     0,     0,     0,\n",
            "            0,     0,     0,     0,     0,     0,     0,     0,     0,     0,\n",
            "            0,     0,     0,     0,     0,     0,     0,     0,     0,     0,\n",
            "            0,     0,     0,     0,     0,     0,     0,     0,     0,     0,\n",
            "            0,     0,     0,     0,     0,     0,     0,     0,     0,     0,\n",
            "            0,     0,     0,     0,     0,     0,     0,     0,     0])\n"
          ]
        }
      ],
      "source": [
        "print(source_dummy[2])"
      ]
    },
    {
      "cell_type": "code",
      "execution_count": 120,
      "metadata": {
        "id": "6DDrVpdepfgI"
      },
      "outputs": [],
      "source": [
        "source_dummy = source_dummy.to(device)\n",
        "target_dummy = target_dummy.to(device)\n",
        "model = model.to(device)\n"
      ]
    },
    {
      "cell_type": "code",
      "execution_count": 121,
      "metadata": {
        "colab": {
          "base_uri": "https://localhost:8080/"
        },
        "id": "MpETzXBdH-ku",
        "outputId": "2fe15d5e-286c-4b08-ca9c-608fabe847f2"
      },
      "outputs": [],
      "source": [
        "# # Mover los datos y el modelo al dispositivo correcto\n",
        "# device = torch.device(\"cuda\" if torch.cuda.is_available() else \"cpu\")\n",
        "\n",
        "# source_dummy = source_dummy.to(device)\n",
        "# target_dummy = target_dummy.to(device)\n",
        "# model.to(device)\n"
      ]
    },
    {
      "cell_type": "code",
      "execution_count": 122,
      "metadata": {
        "id": "EQg7seG0GuX1"
      },
      "outputs": [],
      "source": [
        "# import torch\n",
        "\n",
        "# torch.cuda.empty_cache()\n"
      ]
    },
    {
      "cell_type": "code",
      "execution_count": null,
      "metadata": {
        "colab": {
          "base_uri": "https://localhost:8080/"
        },
        "id": "I0-921PiYFnt",
        "outputId": "bf38b3c6-a40f-4b44-f783-deab9386ff45"
      },
      "outputs": [
        {
          "name": "stdout",
          "output_type": "stream",
          "text": [
            "torch.Size([4, 11, 80153]) torch.Size([4, 11])\n"
          ]
        }
      ],
      "source": [
        "y_pred = model(source_dummy,target_dummy) # predicciones del modelo\n",
        "print(y_pred.shape,target_dummy.shape)"
      ]
    },
    {
      "cell_type": "code",
      "execution_count": 124,
      "metadata": {
        "colab": {
          "base_uri": "https://localhost:8080/"
        },
        "id": "sSIS5zz7YINN",
        "outputId": "ad691952-d405-4cf2-a986-8fd85873146f"
      },
      "outputs": [
        {
          "name": "stdout",
          "output_type": "stream",
          "text": [
            "torch.Size([44, 80153]) torch.Size([44])\n"
          ]
        }
      ],
      "source": [
        "y_pred = y_pred.reshape(-1,len(target_vocab)) # redimensiona las predicciones\n",
        "target_dummy = target_dummy.reshape(-1) # redimensiona los datos de destino\n",
        "print(y_pred.shape,target_dummy.shape)"
      ]
    },
    {
      "cell_type": "code",
      "execution_count": 125,
      "metadata": {
        "id": "QxkgItm1Y0cC"
      },
      "outputs": [],
      "source": [
        "# Check accuracy function\n",
        "def check_accuracy(output,labels):\n",
        "    _ , predpos = output.max(1) #Encuentra las posiciones de las predicciones más altas\n",
        "    num_samples=len(labels)\n",
        "    num_correct=(predpos==labels).sum() #Compara las predicciones con las etiquetas reales y cuenta\n",
        "    return (num_correct/num_samples)*100\n",
        "\n",
        "# Save checkpoint\n",
        "def save_checkpoint(state,filename='D:/SIS-421/verano/modelos/nlp_resumen2.pth'):\n",
        "    print('Saving weights-->')\n",
        "    torch.save(state,filename)\n",
        "\n",
        "# Load checkpoint\n",
        "def load_checkpoint(checkpoint,model,optim):\n",
        "    print('Loading weights-->')\n",
        "    model.load_state_dict(checkpoint['state_dict'])\n",
        "    optim.load_state_dict(checkpoint['optimizer'])"
      ]
    },
    {
      "cell_type": "code",
      "execution_count": 126,
      "metadata": {
        "id": "uKQGjW4cYlf3"
      },
      "outputs": [],
      "source": [
        "def train_loop(model,dataloader,loss_fun,optimizer,device):\n",
        "    model.train()\n",
        "    model.to(device)\n",
        "    min_loss = None\n",
        "\n",
        "    loss_history = []\n",
        "    accuracy_history = []\n",
        "\n",
        "    for epoch in range(num_epochs): \n",
        "        losses = []\n",
        "        accuracies = []\n",
        "        loop = tqdm(enumerate(dataloader), total=len(dataloader), leave=True)\n",
        "        for batch,(x,y) in loop:\n",
        "            # put on cuda\n",
        "            x = torch.tensor(x).to(device).long()\n",
        "            y = torch.tensor(y).to(device).long()\n",
        "            # x = x.to(device)\n",
        "            # y = y.to(device)\n",
        "\n",
        "            # forward pass\n",
        "            y_pred = model(x,y)\n",
        "\n",
        "            # calculate loss & accuracy\n",
        "            loss = loss_fun(y_pred.reshape(-1,len(target_vocab)),y.reshape(-1))\n",
        "            losses.append(loss.detach().item())\n",
        "\n",
        "            accuracy = check_accuracy(y_pred.reshape(-1,len(target_vocab)),y.reshape(-1))\n",
        "            accuracies.append(accuracy.detach().item())\n",
        "\n",
        "            # zero out prior gradients\n",
        "            optimizer.zero_grad()\n",
        "\n",
        "            # backprop\n",
        "            loss.backward()\n",
        "\n",
        "            # update weights\n",
        "            optimizer.step()\n",
        "            scheduler.step()\n",
        "\n",
        "            # Update TQDM progress bar\n",
        "            loop.set_description(f\"Epoch [{epoch}/{num_epochs}] \")\n",
        "            loop.set_postfix(loss=loss.detach().item(), accuracy=accuracy.detach().item())\n",
        "\n",
        "        moving_loss = sum(losses) / len(losses)\n",
        "        moving_accuracy = sum(accuracies) / len(accuracies)\n",
        "\n",
        "        # Guardar los valores de pérdida y precisión\n",
        "        loss_history.append(moving_loss)\n",
        "        accuracy_history.append(moving_accuracy)\n",
        "\n",
        "        checkpoint = {'state_dict': model.state_dict(), 'optimizer': optimizer.state_dict()}\n",
        "        # Save check point\n",
        "        if min_loss == None:\n",
        "            min_loss = moving_loss\n",
        "            save_checkpoint(checkpoint)\n",
        "        elif moving_loss < min_loss:\n",
        "            min_loss = moving_loss\n",
        "            save_checkpoint(checkpoint)\n",
        "        print('Epoch {0} : Loss = {1} , Training Accuracy={2}'.format(epoch, moving_loss, moving_accuracy))\n",
        "\n",
        "    # Al finalizar el entrenamiento, graficar las curvas de loss y accuracy\n",
        "    plot_training_metrics(loss_history, accuracy_history)"
      ]
    },
    {
      "cell_type": "code",
      "execution_count": 127,
      "metadata": {
        "id": "_PWw1cRk-gVc"
      },
      "outputs": [],
      "source": [
        "def plot_training_metrics(loss_history, accuracy_history):\n",
        "    # Graficar loss\n",
        "    plt.figure(figsize=(12, 6))\n",
        "    plt.subplot(1, 2, 1)\n",
        "    plt.plot(loss_history, label='Training Loss', color='red')\n",
        "    plt.title('Training Loss Over Epochs')\n",
        "    plt.xlabel('Epoch')\n",
        "    plt.ylabel('Loss')\n",
        "    plt.legend()\n",
        "\n",
        "    # Graficar accuracy\n",
        "    plt.subplot(1, 2, 2)\n",
        "    plt.plot(accuracy_history, label='Training Accuracy', color='blue')\n",
        "    plt.title('Training Accuracy Over Epochs')\n",
        "    plt.xlabel('Epoch')\n",
        "    plt.ylabel('Accuracy')\n",
        "    plt.legend()\n",
        "\n",
        "    # Mostrar las gráficas\n",
        "    plt.tight_layout()\n",
        "    plt.show()\n"
      ]
    },
    {
      "cell_type": "code",
      "execution_count": 128,
      "metadata": {},
      "outputs": [],
      "source": [
        "# # Al finalizar el entrenamiento, graficar las curvas de loss y accuracy\n",
        "# plot_training_metrics(loss_history, accuracy_history)"
      ]
    },
    {
      "cell_type": "code",
      "execution_count": 129,
      "metadata": {
        "id": "voT5Tv3llmNo"
      },
      "outputs": [],
      "source": [
        "# from google.colab import drive\n",
        "# drive.mount('/content/drive')"
      ]
    },
    {
      "cell_type": "code",
      "execution_count": 130,
      "metadata": {
        "colab": {
          "base_uri": "https://localhost:8080/",
          "height": 356
        },
        "id": "WYhpRZYSY9bL",
        "outputId": "04128b33-a25a-445e-995a-1c9ab348ce00"
      },
      "outputs": [
        {
          "name": "stderr",
          "output_type": "stream",
          "text": [
            "Epoch [0/20] : 100%|██████████| 907/907 [02:43<00:00,  5.56it/s, accuracy=0, loss=8.95]    \n"
          ]
        },
        {
          "name": "stdout",
          "output_type": "stream",
          "text": [
            "Saving weights-->\n",
            "Epoch 0 : Loss = 10.0110868256305 , Training Accuracy=0.2571476214907267\n"
          ]
        },
        {
          "name": "stderr",
          "output_type": "stream",
          "text": [
            "Epoch [1/20] : 100%|██████████| 907/907 [08:27<00:00,  1.79it/s, accuracy=0, loss=9.7]     \n"
          ]
        },
        {
          "name": "stdout",
          "output_type": "stream",
          "text": [
            "Saving weights-->\n",
            "Epoch 1 : Loss = 9.230274505362884 , Training Accuracy=0.25162006830827405\n"
          ]
        },
        {
          "name": "stderr",
          "output_type": "stream",
          "text": [
            "Epoch [2/20] : 100%|██████████| 907/907 [08:32<00:00,  1.77it/s, accuracy=0, loss=9.77]    \n"
          ]
        },
        {
          "name": "stdout",
          "output_type": "stream",
          "text": [
            "Saving weights-->\n",
            "Epoch 2 : Loss = 9.062278722849282 , Training Accuracy=0.26675992172371593\n"
          ]
        },
        {
          "name": "stderr",
          "output_type": "stream",
          "text": [
            "Epoch [3/20] : 100%|██████████| 907/907 [08:31<00:00,  1.77it/s, accuracy=0, loss=10.1]    \n"
          ]
        },
        {
          "name": "stdout",
          "output_type": "stream",
          "text": [
            "Saving weights-->\n",
            "Epoch 3 : Loss = 9.005379527511513 , Training Accuracy=0.3238093294408645\n"
          ]
        },
        {
          "name": "stderr",
          "output_type": "stream",
          "text": [
            "Epoch [4/20] : 100%|██████████| 907/907 [08:35<00:00,  1.76it/s, accuracy=0, loss=9.99]    \n"
          ]
        },
        {
          "name": "stdout",
          "output_type": "stream",
          "text": [
            "Saving weights-->\n",
            "Epoch 4 : Loss = 8.98180994992745 , Training Accuracy=0.31629067731665933\n"
          ]
        },
        {
          "name": "stderr",
          "output_type": "stream",
          "text": [
            "Epoch [5/20] : 100%|██████████| 907/907 [08:32<00:00,  1.77it/s, accuracy=0, loss=8.12]   \n"
          ]
        },
        {
          "name": "stdout",
          "output_type": "stream",
          "text": [
            "Saving weights-->\n",
            "Epoch 5 : Loss = 8.909914938328416 , Training Accuracy=0.3305218869033696\n"
          ]
        },
        {
          "name": "stderr",
          "output_type": "stream",
          "text": [
            "Epoch [6/20] : 100%|██████████| 907/907 [08:37<00:00,  1.75it/s, accuracy=0, loss=8.32]    \n"
          ]
        },
        {
          "name": "stdout",
          "output_type": "stream",
          "text": [
            "Saving weights-->\n",
            "Epoch 6 : Loss = 8.845280419636719 , Training Accuracy=0.35581842127287927\n"
          ]
        },
        {
          "name": "stderr",
          "output_type": "stream",
          "text": [
            "Epoch [7/20] : 100%|██████████| 907/907 [08:29<00:00,  1.78it/s, accuracy=0, loss=9.14]    \n"
          ]
        },
        {
          "name": "stdout",
          "output_type": "stream",
          "text": [
            "Saving weights-->\n",
            "Epoch 7 : Loss = 8.823679482397985 , Training Accuracy=0.33702352021994375\n"
          ]
        },
        {
          "name": "stderr",
          "output_type": "stream",
          "text": [
            "Epoch [8/20] : 100%|██████████| 907/907 [08:21<00:00,  1.81it/s, accuracy=7.14, loss=8.64] \n"
          ]
        },
        {
          "name": "stdout",
          "output_type": "stream",
          "text": [
            "Saving weights-->\n",
            "Epoch 8 : Loss = 8.806747718840477 , Training Accuracy=0.3667184096712787\n"
          ]
        },
        {
          "name": "stderr",
          "output_type": "stream",
          "text": [
            "Epoch [9/20] : 100%|██████████| 907/907 [08:38<00:00,  1.75it/s, accuracy=0, loss=8.49]    \n"
          ]
        },
        {
          "name": "stdout",
          "output_type": "stream",
          "text": [
            "Saving weights-->\n",
            "Epoch 9 : Loss = 8.799106312954702 , Training Accuracy=0.3545519725358999\n"
          ]
        },
        {
          "name": "stderr",
          "output_type": "stream",
          "text": [
            "Epoch [10/20] : 100%|██████████| 907/907 [08:28<00:00,  1.78it/s, accuracy=0, loss=9.41]    \n"
          ]
        },
        {
          "name": "stdout",
          "output_type": "stream",
          "text": [
            "Saving weights-->\n",
            "Epoch 10 : Loss = 8.787224671806495 , Training Accuracy=0.3571523147354841\n"
          ]
        },
        {
          "name": "stderr",
          "output_type": "stream",
          "text": [
            "Epoch [11/20] : 100%|██████████| 907/907 [08:42<00:00,  1.74it/s, accuracy=0, loss=8.76]    \n"
          ]
        },
        {
          "name": "stdout",
          "output_type": "stream",
          "text": [
            "Saving weights-->\n",
            "Epoch 11 : Loss = 8.7818735153173 , Training Accuracy=0.37210768172075886\n"
          ]
        },
        {
          "name": "stderr",
          "output_type": "stream",
          "text": [
            "Epoch [12/20] : 100%|██████████| 907/907 [10:59<00:00,  1.37it/s, accuracy=0, loss=10.2]    \n"
          ]
        },
        {
          "name": "stdout",
          "output_type": "stream",
          "text": [
            "Saving weights-->\n",
            "Epoch 12 : Loss = 8.779999061088184 , Training Accuracy=0.3464879040024115\n"
          ]
        },
        {
          "name": "stderr",
          "output_type": "stream",
          "text": [
            "Epoch [13/20] : 100%|██████████| 907/907 [14:51<00:00,  1.02it/s, accuracy=0, loss=8.7]     \n"
          ]
        },
        {
          "name": "stdout",
          "output_type": "stream",
          "text": [
            "Saving weights-->\n",
            "Epoch 13 : Loss = 8.771181730608957 , Training Accuracy=0.36652320807403344\n"
          ]
        },
        {
          "name": "stderr",
          "output_type": "stream",
          "text": [
            "Epoch [14/20] : 100%|██████████| 907/907 [08:29<00:00,  1.78it/s, accuracy=0, loss=9.46]    \n"
          ]
        },
        {
          "name": "stdout",
          "output_type": "stream",
          "text": [
            "Saving weights-->\n",
            "Epoch 14 : Loss = 8.76662926374223 , Training Accuracy=0.35836559120060457\n"
          ]
        },
        {
          "name": "stderr",
          "output_type": "stream",
          "text": [
            "Epoch [15/20] : 100%|██████████| 907/907 [08:20<00:00,  1.81it/s, accuracy=0, loss=7.99]    \n"
          ]
        },
        {
          "name": "stdout",
          "output_type": "stream",
          "text": [
            "Saving weights-->\n",
            "Epoch 15 : Loss = 8.760946697542133 , Training Accuracy=0.35886170891706054\n"
          ]
        },
        {
          "name": "stderr",
          "output_type": "stream",
          "text": [
            "Epoch [16/20] : 100%|██████████| 907/907 [08:26<00:00,  1.79it/s, accuracy=0, loss=8.69]    \n"
          ]
        },
        {
          "name": "stdout",
          "output_type": "stream",
          "text": [
            "Epoch 16 : Loss = 8.764312262046166 , Training Accuracy=0.3614440802176706\n"
          ]
        },
        {
          "name": "stderr",
          "output_type": "stream",
          "text": [
            "Epoch [17/20] : 100%|██████████| 907/907 [08:39<00:00,  1.75it/s, accuracy=0, loss=8.85]    \n"
          ]
        },
        {
          "name": "stdout",
          "output_type": "stream",
          "text": [
            "Saving weights-->\n",
            "Epoch 17 : Loss = 8.759312275357651 , Training Accuracy=0.35100855454063207\n"
          ]
        },
        {
          "name": "stderr",
          "output_type": "stream",
          "text": [
            "Epoch [18/20] : 100%|██████████| 907/907 [08:30<00:00,  1.78it/s, accuracy=0, loss=9.51]    \n"
          ]
        },
        {
          "name": "stdout",
          "output_type": "stream",
          "text": [
            "Epoch 18 : Loss = 8.761700323161637 , Training Accuracy=0.37080323479272825\n"
          ]
        },
        {
          "name": "stderr",
          "output_type": "stream",
          "text": [
            "Epoch [19/20] : 100%|██████████| 907/907 [08:33<00:00,  1.77it/s, accuracy=0, loss=8.47]   \n"
          ]
        },
        {
          "name": "stdout",
          "output_type": "stream",
          "text": [
            "Saving weights-->\n",
            "Epoch 19 : Loss = 8.752865254550416 , Training Accuracy=0.3628054022657569\n"
          ]
        },
        {
          "data": {
            "image/png": "[encoded data removed]",
            "text/plain": [
              "<Figure size 1200x600 with 2 Axes>"
            ]
          },
          "metadata": {},
          "output_type": "display_data"
        }
      ],
      "source": [
        "train_loop(model,train_loader,criterion,optimizer,device)"
      ]
    },
    {
      "cell_type": "code",
      "execution_count": 131,
      "metadata": {
        "id": "8_LOfKyDa-wg"
      },
      "outputs": [],
      "source": [
        "## Inference\n",
        "def test_loop(model,dataloader,loss_fun,device):\n",
        "    model.eval()\n",
        "    model.to(device)\n",
        "    losses = []\n",
        "    samples,correct = 0,0\n",
        "    loop = tqdm(enumerate(dataloader), total=len(dataloader), leave=True)\n",
        "    with torch.no_grad():\n",
        "        for batch,(x,y) in loop:\n",
        "            # put on cuda\n",
        "            x = torch.tensor(x).to(device).long()\n",
        "            y = torch.tensor(y).to(device).long()\n",
        "\n",
        "            # forward pass\n",
        "            y_pred = model(x,y)\n",
        "\n",
        "            # caclulate test loss\n",
        "            loss = loss_fun(y_pred.reshape(-1,len(target_vocab)),y.reshape(-1))\n",
        "            losses.append(loss.detach().item())\n",
        "\n",
        "            # accuracy over entire dataset\n",
        "            _,predpos=y_pred.reshape(-1,len(target_vocab)).max(1)\n",
        "            samples+=len(y.reshape(-1))\n",
        "            correct+=(predpos==y.reshape(-1)).sum().item()\n",
        "\n",
        "            # Update TQDM progress bar\n",
        "            loop.set_postfix(loss=loss.item())\n",
        "\n",
        "    print(\"Final Test Accuracy = \",100 * (correct/samples))\n"
      ]
    },
    {
      "cell_type": "code",
      "execution_count": 132,
      "metadata": {
        "id": "WhvX7-qimmbZ"
      },
      "outputs": [
        {
          "name": "stderr",
          "output_type": "stream",
          "text": [
            "100%|██████████| 145/145 [00:25<00:00,  5.60it/s, loss=9.92]"
          ]
        },
        {
          "name": "stdout",
          "output_type": "stream",
          "text": [
            "Final Test Accuracy =  0.3146176185866409\n"
          ]
        },
        {
          "name": "stderr",
          "output_type": "stream",
          "text": [
            "\n"
          ]
        }
      ],
      "source": [
        "test_loop(model,test_loader,criterion,device)"
      ]
    },
    {
      "cell_type": "markdown",
      "metadata": {
        "id": "EKKEm4SZEgmk"
      },
      "source": [
        "PROBANDO EL MODELO DESPUS DE TERMINAR DE ENTRENAR"
      ]
    },
    {
      "cell_type": "code",
      "execution_count": 133,
      "metadata": {
        "id": "A1imDDCNDRqT"
      },
      "outputs": [
        {
          "name": "stdout",
          "output_type": "stream",
          "text": [
            "Loading weights...\n"
          ]
        },
        {
          "data": {
            "text/plain": [
              "Transformer(\n",
              "  (encoder_embedding): Embedding(80153, 256)\n",
              "  (decoder_embedding): Embedding(80153, 256)\n",
              "  (positional_encoding): PositionalEncoding()\n",
              "  (encoder_layers): ModuleList(\n",
              "    (0-5): 6 x EncoderLayer(\n",
              "      (self_attn): MultiHeadAttention(\n",
              "        (W_q): Linear(in_features=256, out_features=256, bias=True)\n",
              "        (W_k): Linear(in_features=256, out_features=256, bias=True)\n",
              "        (W_v): Linear(in_features=256, out_features=256, bias=True)\n",
              "        (W_o): Linear(in_features=256, out_features=256, bias=True)\n",
              "      )\n",
              "      (feed_forward): PositionWiseFeedForward(\n",
              "        (fc1): Linear(in_features=256, out_features=2048, bias=True)\n",
              "        (fc2): Linear(in_features=2048, out_features=256, bias=True)\n",
              "      )\n",
              "      (norm1): LayerNorm((256,), eps=1e-05, elementwise_affine=True)\n",
              "      (norm2): LayerNorm((256,), eps=1e-05, elementwise_affine=True)\n",
              "      (dropout): Dropout(p=0.05, inplace=False)\n",
              "    )\n",
              "  )\n",
              "  (decoder_layers): ModuleList(\n",
              "    (0-5): 6 x DecoderLayer(\n",
              "      (self_attn): MultiHeadAttention(\n",
              "        (W_q): Linear(in_features=256, out_features=256, bias=True)\n",
              "        (W_k): Linear(in_features=256, out_features=256, bias=True)\n",
              "        (W_v): Linear(in_features=256, out_features=256, bias=True)\n",
              "        (W_o): Linear(in_features=256, out_features=256, bias=True)\n",
              "      )\n",
              "      (cross_attn): MultiHeadAttention(\n",
              "        (W_q): Linear(in_features=256, out_features=256, bias=True)\n",
              "        (W_k): Linear(in_features=256, out_features=256, bias=True)\n",
              "        (W_v): Linear(in_features=256, out_features=256, bias=True)\n",
              "        (W_o): Linear(in_features=256, out_features=256, bias=True)\n",
              "      )\n",
              "      (feed_forward): PositionWiseFeedForward(\n",
              "        (fc1): Linear(in_features=256, out_features=2048, bias=True)\n",
              "        (fc2): Linear(in_features=2048, out_features=256, bias=True)\n",
              "      )\n",
              "      (norm1): LayerNorm((256,), eps=1e-05, elementwise_affine=True)\n",
              "      (norm2): LayerNorm((256,), eps=1e-05, elementwise_affine=True)\n",
              "      (norm3): LayerNorm((256,), eps=1e-05, elementwise_affine=True)\n",
              "      (dropout): Dropout(p=0.05, inplace=False)\n",
              "    )\n",
              "  )\n",
              "  (fc): Linear(in_features=256, out_features=80153, bias=True)\n",
              "  (dropout): Dropout(p=0.05, inplace=False)\n",
              ")"
            ]
          },
          "execution_count": 133,
          "metadata": {},
          "output_type": "execute_result"
        }
      ],
      "source": [
        "# CARGAR EL MODELO PRE ENTRENADO\n",
        "\n",
        "def load_checkpoint(checkpoint, model, optim):\n",
        "    print('Loading weights...')\n",
        "    model.load_state_dict(checkpoint['state_dict'])\n",
        "    optim.load_state_dict(checkpoint['optimizer'])\n",
        "\n",
        "# Suponiendo que tienes el archivo 'weights.pth.tar'\n",
        "checkpoint = torch.load('D:/SIS-421/verano/modelos/nlp_resumen2.pth', map_location=device)\n",
        "load_checkpoint(checkpoint, model, optimizer)\n",
        "model.eval()  # Cambiar el modelo a modo de evaluación\n"
      ]
    },
    {
      "cell_type": "code",
      "execution_count": 137,
      "metadata": {
        "id": "M4C6_MwqDZqK"
      },
      "outputs": [],
      "source": [
        "# PRE PROCESAR EL TEXTO DE ENTRADA\n",
        "def preprocess_input(text, tokenizer, stop_words):\n",
        "    text = cleantext(text)  # Limpia el texto\n",
        "    tokens = [token.text.lower() for token in tokenizer(text)]  # Tokeniza el texto\n",
        "    tokens = [word for word in tokens if word not in stop_words]  # Elimina stop words\n",
        "    return tokens\n",
        "\n",
        "# Suponiendo que 'nlp' y 'stop_words' ya están definidos, puedes hacer lo siguiente:\n",
        "input_text = \"El mundo es un lugar hermoso para vivir y disfrutar de la vida al máximo con la familia y amigos cercanos en un ambiente tranquilo y pacífico.\" \n",
        "processed_input = preprocess_input(input_text, tokenizer, stop_words)\n"
      ]
    },
    {
      "cell_type": "code",
      "execution_count": 138,
      "metadata": {
        "id": "lABFCuVXD2-o"
      },
      "outputs": [],
      "source": [
        "# CONVERTIR LAS PALABRAS A INDICES DE VOCABULARIO\n",
        "source_indices = [source_vocab.get(word, 0) for word in processed_input]  # Usa 0 como índice por defecto si la palabra no está en el vocabulario\n",
        "source_tensor = torch.tensor(source_indices).unsqueeze(0).to(device)  # Agrega una dimensión de batch y envíalo a la GPU\n"
      ]
    },
    {
      "cell_type": "code",
      "execution_count": 140,
      "metadata": {
        "id": "FGGjv51hEFje"
      },
      "outputs": [
        {
          "name": "stdout",
          "output_type": "stream",
          "text": [
            "gobierno\n"
          ]
        }
      ],
      "source": [
        "# GENERAR RESUMEN\n",
        "# Usamos un tensor vacío como \"tgt\" para inicializar el decodificador\n",
        "target_tensor = torch.zeros(1, 1).long().to(device)  # Esto es solo un placeholder para comenzar\n",
        "\n",
        "output = model(source_tensor, target_tensor)\n",
        "\n",
        "# El output del modelo es un tensor de logits, convertimos a índices de las palabras más probables\n",
        "_, predicted_indices = output.max(2)\n",
        "\n",
        "# Convertir los índices de vuelta a palabras\n",
        "predicted_words = [list(target_vocab.keys())[i] for i in predicted_indices[0].cpu().numpy()]\n",
        "\n",
        "# Unir las palabras para formar el resumen\n",
        "generated_summary = ' '.join(predicted_words)\n",
        "print(generated_summary)\n"
      ]
    }
  ],
  "metadata": {
    "accelerator": "GPU",
    "colab": {
      "gpuType": "T4",
      "provenance": []
    },
    "kernelspec": {
      "display_name": "Python 3",
      "name": "python3"
    },
    "language_info": {
      "codemirror_mode": {
        "name": "ipython",
        "version": 3
      },
      "file_extension": ".py",
      "mimetype": "text/x-python",
      "name": "python",
      "nbconvert_exporter": "python",
      "pygments_lexer": "ipython3",
      "version": "3.11.9"
    }
  },
  "nbformat": 4,
  "nbformat_minor": 0
}
