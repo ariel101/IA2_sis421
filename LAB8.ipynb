{
  "nbformat": 4,
  "nbformat_minor": 0,
  "metadata": {
    "colab": {
      "provenance": [],
      "gpuType": "T4"
    },
    "kernelspec": {
      "name": "python3",
      "display_name": "Python 3"
    },
    "language_info": {
      "name": "python"
    },
    "accelerator": "GPU"
  },
  "cells": [
    {
      "cell_type": "code",
      "execution_count": null,
      "metadata": {
        "id": "kwsqHWAOq6yr"
      },
      "outputs": [],
      "source": [
        "# Instalar las librerías necesarias\n",
        "!pip install transformers torch scikit-learn"
      ]
    },
    {
      "cell_type": "code",
      "source": [
        "import os\n",
        "\n",
        "# Ruta correcta donde están los archivos .txt\n",
        "data_path = \"/content/drive/MyDrive/documentosTokens\"  # Cambia esta ruta a la correcta\n",
        "\n",
        "# Definir las 5 categorías (puedes ajustar los nombres según sea necesario)\n",
        "categories = {\n",
        "    \"reglamentos_academicos\": 0,\n",
        "    \"reglamentos_administrativos\": 1,\n",
        "    \"reglamentos_laboratorio\": 2,\n",
        "    \"reglamentos_estudiantiles\": 3,\n",
        "    \"otros\": 4\n",
        "\n",
        "# Cargar documentos y asignar etiquetas\n",
        "texts = []\n",
        "labels = []\n",
        "\n",
        "# Cargar los archivos desde la carpeta\n",
        "documents = [f for f in os.listdir(data_path) if f.endswith(\".txt\")]\n",
        "\n",
        "for file_name in documents:\n",
        "    file_path = os.path.join(data_path, file_name) #contruye la ruta con la direc y nombre\n",
        "    try:\n",
        "        with open(file_path, \"r\", encoding=\"utf-8\") as file:\n",
        "            content = file.read()\n",
        "    except UnicodeDecodeError:\n",
        "        # Si ocurre un error, intenta con una codificación diferente (por ejemplo, ISO-8859-1)\n",
        "        with open(file_path, \"r\", encoding=\"ISO-8859-1\") as file:\n",
        "            content = file.read()\n",
        "\n",
        "    texts.append(content)\n",
        "\n",
        "    # Asignar etiquetas basadas en el nombre del archivo\n",
        "    if \"ACADEMICO\" in file_name.upper() or \"POLITICAS\" in file_name.upper():\n",
        "        labels.append(categories[\"reglamentos_academicos\"])\n",
        "    elif \"ADMINISTRATIVA\" in file_name.upper() or \"INTERNO\" in file_name.upper():\n",
        "        labels.append(categories[\"reglamentos_administrativos\"])\n",
        "    elif \"LABORATORIO\" in file_name.upper():\n",
        "        labels.append(categories[\"reglamentos_laboratorio\"])\n",
        "    elif \"ESTUDIANTIL\" in file_name.upper() or \"RÉGIMEN\" in file_name.upper():\n",
        "        labels.append(categories[\"reglamentos_estudiantiles\"])\n",
        "    else:\n",
        "        labels.append(categories[\"otros\"])  # Categoría \"otros\" para documentos no clasificados\n",
        "\n",
        "# Comprobar cuántos documentos y etiquetas se cargaron\n",
        "print(f\"Documentos cargados: {len(texts)}\")\n",
        "print(f\"Etiquetas asignadas: {len(labels)}\")\n",
        "\n",
        "\n"
      ],
      "metadata": {
        "id": "hO9-Wcmx1OKE",
        "colab": {
          "base_uri": "https://localhost:8080/"
        },
        "outputId": "e2ec09f7-fbec-4dc4-ebc5-1d805904224c"
      },
      "execution_count": 81,
      "outputs": [
        {
          "output_type": "stream",
          "name": "stdout",
          "text": [
            "Documentos cargados: 24\n",
            "Etiquetas asignadas: 24\n"
          ]
        }
      ]
    },
    {
      "cell_type": "code",
      "source": [
        "from sklearn.model_selection import train_test_split\n",
        "\n",
        "# Dividir los datos en 80% para entrenamiento y 20% para prueba\n",
        "train_texts, test_texts, train_labels, test_labels = train_test_split(\n",
        "    texts, labels, test_size=0.2, random_state=42\n",
        ")\n",
        "\n",
        "print(f\"Datos de entrenamiento: {len(train_texts)}\")\n",
        "print(f\"Datos de prueba: {len(test_texts)}\")\n"
      ],
      "metadata": {
        "id": "Drk-jjtH1WmX",
        "colab": {
          "base_uri": "https://localhost:8080/"
        },
        "outputId": "803b0878-3fd5-43ec-bec5-05d4740d0c8b"
      },
      "execution_count": 82,
      "outputs": [
        {
          "output_type": "stream",
          "name": "stdout",
          "text": [
            "Datos de entrenamiento: 19\n",
            "Datos de prueba: 5\n"
          ]
        }
      ]
    },
    {
      "cell_type": "code",
      "source": [
        "from transformers import AutoTokenizer\n",
        "\n",
        "# Elegir un modelo preentrenado (puedes cambiarlo si lo deseas)\n",
        "model_name = \"bert-base-uncased\"\n",
        "tokenizer = AutoTokenizer.from_pretrained(model_name) #Se carga el tokenizador asociado con el modelo preentrenado esp\n",
        "\n",
        "# Función para tokenizar textos\n",
        "def tokenize_data(texts):\n",
        "    return tokenizer(\n",
        "        texts,\n",
        "        padding=True,  # Agregar ceros para que todos los textos tengan la misma longitud\n",
        "        truncation=True,  # Recortar textos demasiado largos\n",
        "        max_length=512,  # Longitud máxima de 512 tokens (como recomienda BERT)\n",
        "        return_tensors=\"pt\",  # Regresar tensores PyTorch\n",
        "        return_token_type_ids=False\n",
        "    )\n",
        "\n",
        "# Tokenizar textos de entrenamiento y prueba\n",
        "train_encodings = tokenize_data(train_texts)\n",
        "test_encodings = tokenize_data(test_texts)\n"
      ],
      "metadata": {
        "id": "TnMCyIa11YDx"
      },
      "execution_count": 83,
      "outputs": []
    },
    {
      "cell_type": "code",
      "source": [
        "import torch\n",
        "from torch.utils.data import Dataset\n",
        "\n",
        "# Crear un Dataset personalizado\n",
        "class TextDataset(Dataset):\n",
        "    def __init__(self, encodings, labels):\n",
        "        self.encodings = encodings\n",
        "        self.labels = labels\n",
        "\n",
        "    def __len__(self):\n",
        "        return len(self.labels)\n",
        "\n",
        "    def __getitem__(self, idx):\n",
        "        item = {key: val[idx] for key, val in self.encodings.items()}\n",
        "        item[\"labels\"] = torch.tensor(self.labels[idx])\n",
        "        return item\n",
        "\n",
        "# Crear los datasets de entrenamiento y prueba\n",
        "train_dataset = TextDataset(train_encodings, train_labels)\n",
        "test_dataset = TextDataset(test_encodings, test_labels)\n"
      ],
      "metadata": {
        "id": "k3O0wg-h1cym"
      },
      "execution_count": 84,
      "outputs": []
    },
    {
      "cell_type": "code",
      "source": [
        "from transformers import AutoModelForSequenceClassification, AutoConfig\n",
        "import torch.nn as nn\n",
        "#construyendo un modelo de clasificación de secuencias utilizando BERT\n",
        "#modelo de BERT para clasificar textos\n",
        "class CustomBERTModel(nn.Module):\n",
        "    def __init__(self, model_name, num_labels, dropout_prob=0.1):\n",
        "        super(CustomBERTModel, self).__init__()\n",
        "\n",
        "        # Cargar la configuración del modelo preentrenado\n",
        "        config = AutoConfig.from_pretrained(model_name, num_labels=num_labels)\n",
        "\n",
        "        # Actualizar la probabilidad de dropout en la configuración\n",
        "        config.hidden_dropout_prob = dropout_prob  # Aplicar dropout a la capa oculta\n",
        "        config.attention_probs_dropout_prob = dropout_prob  # Aplicar dropout a la capa de atención\n",
        "\n",
        "        # Crear el modelo con la configuración modificada\n",
        "        self.bert = AutoModelForSequenceClassification.from_pretrained(model_name, config=config)\n",
        "\n",
        "    def forward(self, input_ids, attention_mask, labels=None):\n",
        "\n",
        "      # Llama al modelo BERT con los inputs (ids de palabras, máscara de atención y etiquetas)\n",
        "      return self.bert(input_ids=input_ids, attention_mask=attention_mask, labels=labels)\n"
      ],
      "metadata": {
        "id": "iN0sP9UJihJB"
      },
      "execution_count": 85,
      "outputs": []
    },
    {
      "cell_type": "code",
      "source": [
        "model = CustomBERTModel(model_name=\"bert-base-uncased\", num_labels=len(categories), dropout_prob=0.25)  # Ejemplo con dropout de 0.2"
      ],
      "metadata": {
        "colab": {
          "base_uri": "https://localhost:8080/"
        },
        "id": "mPk1blpUqwqH",
        "outputId": "57a160bc-9ce7-4e24-e975-061fa7661681"
      },
      "execution_count": 86,
      "outputs": [
        {
          "output_type": "stream",
          "name": "stderr",
          "text": [
            "Some weights of BertForSequenceClassification were not initialized from the model checkpoint at bert-base-uncased and are newly initialized: ['classifier.bias', 'classifier.weight']\n",
            "You should probably TRAIN this model on a down-stream task to be able to use it for predictions and inference.\n"
          ]
        }
      ]
    },
    {
      "cell_type": "code",
      "source": [
        "# #DEFINIR EL MODELO\n",
        "# from transformers import AutoModelForSequenceClassification\n",
        "\n",
        "# #Cargar el modelo preentrenado con el número de categorías de nuestro dataset\n",
        "# model = AutoModelForSequenceClassification.from_pretrained(\n",
        "#     model_name,\n",
        "#     num_labels=len(categories)\n",
        "# )\n"
      ],
      "metadata": {
        "id": "DkI6FjzT1kvL"
      },
      "execution_count": 87,
      "outputs": []
    },
    {
      "cell_type": "code",
      "source": [
        "#configurar el entrenamiento\n",
        "\n",
        "from transformers import AdamW, get_scheduler\n",
        "from torch.utils.data import DataLoader\n",
        "\n",
        "# Configurar DataLoaders\n",
        "train_loader = DataLoader(train_dataset, batch_size=4, shuffle=True)\n",
        "test_loader = DataLoader(test_dataset, batch_size=4)\n",
        "\n",
        "# Definir el optimizador\n",
        "optimizer = AdamW(model.parameters(), lr=0.00003)\n",
        "\n",
        "# Configurar scheduler para ajustar la tasa de aprendizaje\n",
        "num_training_steps = len(train_loader) * 3  # 3 épocas\n",
        "scheduler = get_scheduler(\n",
        "    \"linear\", optimizer=optimizer, num_warmup_steps=0, num_training_steps=num_training_steps\n",
        ")\n",
        "\n",
        "# Usar GPU si está disponible\n",
        "device = torch.device(\"cuda\") if torch.cuda.is_available() else torch.device(\"cpu\")\n",
        "model.to(device)\n"
      ],
      "metadata": {
        "id": "5h2aDn9e1zlS",
        "colab": {
          "base_uri": "https://localhost:8080/"
        },
        "outputId": "1dea60dd-adea-4558-db3f-ad30ee2eb91a"
      },
      "execution_count": 88,
      "outputs": [
        {
          "output_type": "stream",
          "name": "stderr",
          "text": [
            "/usr/local/lib/python3.10/dist-packages/transformers/optimization.py:591: FutureWarning: This implementation of AdamW is deprecated and will be removed in a future version. Use the PyTorch implementation torch.optim.AdamW instead, or set `no_deprecation_warning=True` to disable this warning\n",
            "  warnings.warn(\n"
          ]
        },
        {
          "output_type": "execute_result",
          "data": {
            "text/plain": [
              "CustomBERTModel(\n",
              "  (bert): BertForSequenceClassification(\n",
              "    (bert): BertModel(\n",
              "      (embeddings): BertEmbeddings(\n",
              "        (word_embeddings): Embedding(30522, 768, padding_idx=0)\n",
              "        (position_embeddings): Embedding(512, 768)\n",
              "        (token_type_embeddings): Embedding(2, 768)\n",
              "        (LayerNorm): LayerNorm((768,), eps=1e-12, elementwise_affine=True)\n",
              "        (dropout): Dropout(p=0.25, inplace=False)\n",
              "      )\n",
              "      (encoder): BertEncoder(\n",
              "        (layer): ModuleList(\n",
              "          (0-11): 12 x BertLayer(\n",
              "            (attention): BertAttention(\n",
              "              (self): BertSdpaSelfAttention(\n",
              "                (query): Linear(in_features=768, out_features=768, bias=True)\n",
              "                (key): Linear(in_features=768, out_features=768, bias=True)\n",
              "                (value): Linear(in_features=768, out_features=768, bias=True)\n",
              "                (dropout): Dropout(p=0.25, inplace=False)\n",
              "              )\n",
              "              (output): BertSelfOutput(\n",
              "                (dense): Linear(in_features=768, out_features=768, bias=True)\n",
              "                (LayerNorm): LayerNorm((768,), eps=1e-12, elementwise_affine=True)\n",
              "                (dropout): Dropout(p=0.25, inplace=False)\n",
              "              )\n",
              "            )\n",
              "            (intermediate): BertIntermediate(\n",
              "              (dense): Linear(in_features=768, out_features=3072, bias=True)\n",
              "              (intermediate_act_fn): GELUActivation()\n",
              "            )\n",
              "            (output): BertOutput(\n",
              "              (dense): Linear(in_features=3072, out_features=768, bias=True)\n",
              "              (LayerNorm): LayerNorm((768,), eps=1e-12, elementwise_affine=True)\n",
              "              (dropout): Dropout(p=0.25, inplace=False)\n",
              "            )\n",
              "          )\n",
              "        )\n",
              "      )\n",
              "      (pooler): BertPooler(\n",
              "        (dense): Linear(in_features=768, out_features=768, bias=True)\n",
              "        (activation): Tanh()\n",
              "      )\n",
              "    )\n",
              "    (dropout): Dropout(p=0.25, inplace=False)\n",
              "    (classifier): Linear(in_features=768, out_features=5, bias=True)\n",
              "  )\n",
              ")"
            ]
          },
          "metadata": {},
          "execution_count": 88
        }
      ]
    },
    {
      "cell_type": "markdown",
      "source": [],
      "metadata": {
        "id": "TeKQyovcS58b"
      }
    },
    {
      "cell_type": "code",
      "source": [
        "#entrenar el modelo\n",
        "\n",
        "from sklearn.metrics import accuracy_score\n",
        "\n",
        "train_losses = []\n",
        "val_accuracies = []\n",
        "# Entrenar el modelo\n",
        "epochs = 100\n",
        "for epoch in range(epochs):\n",
        "    print(f\"Epoch {epoch + 1}\")\n",
        "\n",
        "    # Fase de entrenamiento\n",
        "    model.train() # Configura el modelo en modo de entrenamiento (activa dropout, etc.)\n",
        "    total_loss = 0\n",
        "    for batch in train_loader: # Procesa cada lote de datos de entrenamiento\n",
        "        batch = {k: v.to(device) for k, v in batch.items()}  #Mueve el batch a la GPU o CPU\n",
        "        outputs = model(**batch) # Realiza la pasada hacia adelante\n",
        "        loss = outputs.loss # Obtiene la pérdida del modelo\n",
        "        total_loss += loss.item() # Suma la pérdida de este lote\n",
        "\n",
        "        optimizer.zero_grad() # Limpia los gradientes del optimizador\n",
        "        loss.backward() # Realiza la retropropagación (calcula los gradientes)\n",
        "        optimizer.step() # Actualiza los parámetros del modelo\n",
        "\n",
        "    #print(f\"Loss: {total_loss / len(train_loader)}\")\n",
        "    avg_loss = total_loss / len(train_loader)\n",
        "    train_losses.append(avg_loss)  # Almacenar la pérdida promedio por época\n",
        "    print(f\"Loss: {avg_loss}\")\n",
        "\n",
        "    # Fase de validación\n",
        "    model.eval()\n",
        "    all_predictions = []\n",
        "    all_labels = []\n",
        "    with torch.no_grad(): # Desactiva el cálculo de gradientes (ahorra memoria y tiempo)\n",
        "        for batch in test_loader: # Procesa cada lote de datos de entrenamiento\n",
        "            batch = {k: v.to(device) for k, v in batch.items()} # Mueve el batch a la GPU o CPU\n",
        "            outputs = model(**batch) # Realiza la pasada hacia adelante\n",
        "            predictions = torch.argmax(outputs.logits, dim=-1) # Obtiene la clase con la probabilidad más alta\n",
        "            all_predictions.extend(predictions.cpu().numpy())\n",
        "            all_labels.extend(batch[\"labels\"].cpu().numpy())\n",
        "\n",
        "    accuracy = accuracy_score(all_labels, all_predictions)\n",
        "    val_accuracies.append(accuracy)  # Almacenar precisión por época\n",
        "    print(f\"Validation Accuracy: {accuracy}\")\n"
      ],
      "metadata": {
        "id": "WLxLBDAT17kh",
        "colab": {
          "base_uri": "https://localhost:8080/"
        },
        "outputId": "36af3f84-d5c3-4e4c-a73b-ca4b269e3d1d"
      },
      "execution_count": 89,
      "outputs": [
        {
          "output_type": "stream",
          "name": "stdout",
          "text": [
            "Epoch 1\n",
            "Loss: 1.3853998184204102\n",
            "Validation Accuracy: 0.8\n",
            "Epoch 2\n",
            "Loss: 0.9887313842773438\n",
            "Validation Accuracy: 0.8\n",
            "Epoch 3\n",
            "Loss: 0.8491790175437928\n",
            "Validation Accuracy: 0.8\n",
            "Epoch 4\n",
            "Loss: 0.6796955645084382\n",
            "Validation Accuracy: 0.8\n",
            "Epoch 5\n",
            "Loss: 0.6000987231731415\n",
            "Validation Accuracy: 0.8\n",
            "Epoch 6\n",
            "Loss: 0.6358363509178162\n",
            "Validation Accuracy: 0.8\n",
            "Epoch 7\n",
            "Loss: 0.6803507804870605\n",
            "Validation Accuracy: 0.8\n",
            "Epoch 8\n",
            "Loss: 0.5148951858282089\n",
            "Validation Accuracy: 0.8\n",
            "Epoch 9\n",
            "Loss: 0.5269124507904053\n",
            "Validation Accuracy: 0.8\n",
            "Epoch 10\n",
            "Loss: 0.5172101348638535\n",
            "Validation Accuracy: 0.8\n",
            "Epoch 11\n",
            "Loss: 0.5286088317632676\n",
            "Validation Accuracy: 0.8\n",
            "Epoch 12\n",
            "Loss: 0.528037479519844\n",
            "Validation Accuracy: 0.8\n",
            "Epoch 13\n",
            "Loss: 0.5496161073446274\n",
            "Validation Accuracy: 0.8\n",
            "Epoch 14\n",
            "Loss: 0.45488059222698213\n",
            "Validation Accuracy: 0.8\n",
            "Epoch 15\n",
            "Loss: 0.42714746594429015\n",
            "Validation Accuracy: 0.8\n",
            "Epoch 16\n",
            "Loss: 0.5567925930023193\n",
            "Validation Accuracy: 0.8\n",
            "Epoch 17\n",
            "Loss: 0.5504615724086761\n",
            "Validation Accuracy: 0.8\n",
            "Epoch 18\n",
            "Loss: 0.39629480689764024\n",
            "Validation Accuracy: 0.8\n",
            "Epoch 19\n",
            "Loss: 0.4710514798760414\n",
            "Validation Accuracy: 0.8\n",
            "Epoch 20\n",
            "Loss: 0.43453166335821153\n",
            "Validation Accuracy: 0.8\n",
            "Epoch 21\n",
            "Loss: 0.38419070839881897\n",
            "Validation Accuracy: 0.6\n",
            "Epoch 22\n",
            "Loss: 0.30776678770780563\n",
            "Validation Accuracy: 0.8\n",
            "Epoch 23\n",
            "Loss: 0.2720485143363476\n",
            "Validation Accuracy: 0.8\n",
            "Epoch 24\n",
            "Loss: 0.20087115615606307\n",
            "Validation Accuracy: 0.8\n",
            "Epoch 25\n",
            "Loss: 0.18193534091115\n",
            "Validation Accuracy: 0.6\n",
            "Epoch 26\n",
            "Loss: 0.16129396259784698\n",
            "Validation Accuracy: 0.4\n",
            "Epoch 27\n",
            "Loss: 0.16156462356448173\n",
            "Validation Accuracy: 0.2\n",
            "Epoch 28\n",
            "Loss: 0.3751626804471016\n",
            "Validation Accuracy: 0.8\n",
            "Epoch 29\n",
            "Loss: 0.12023174911737441\n",
            "Validation Accuracy: 0.8\n",
            "Epoch 30\n",
            "Loss: 0.2017396867275238\n",
            "Validation Accuracy: 0.4\n",
            "Epoch 31\n",
            "Loss: 0.16024520806968212\n",
            "Validation Accuracy: 0.2\n",
            "Epoch 32\n",
            "Loss: 0.10485057719051838\n",
            "Validation Accuracy: 0.8\n",
            "Epoch 33\n",
            "Loss: 0.08851905763149262\n",
            "Validation Accuracy: 0.8\n",
            "Epoch 34\n",
            "Loss: 0.07627490758895875\n",
            "Validation Accuracy: 0.6\n",
            "Epoch 35\n",
            "Loss: 0.08954008352011442\n",
            "Validation Accuracy: 0.4\n",
            "Epoch 36\n",
            "Loss: 0.05583321675658226\n",
            "Validation Accuracy: 0.4\n",
            "Epoch 37\n",
            "Loss: 0.05755390785634518\n",
            "Validation Accuracy: 0.4\n",
            "Epoch 38\n",
            "Loss: 0.04666556138545275\n",
            "Validation Accuracy: 0.4\n",
            "Epoch 39\n",
            "Loss: 0.04931863900274038\n",
            "Validation Accuracy: 0.4\n",
            "Epoch 40\n",
            "Loss: 0.050291795283555984\n",
            "Validation Accuracy: 0.4\n",
            "Epoch 41\n",
            "Loss: 0.03140928037464619\n",
            "Validation Accuracy: 0.4\n",
            "Epoch 42\n",
            "Loss: 0.04250552598387003\n",
            "Validation Accuracy: 0.4\n",
            "Epoch 43\n",
            "Loss: 0.03314954470843077\n",
            "Validation Accuracy: 0.4\n",
            "Epoch 44\n",
            "Loss: 0.03764785062521696\n",
            "Validation Accuracy: 0.4\n",
            "Epoch 45\n",
            "Loss: 0.029396509379148485\n",
            "Validation Accuracy: 0.4\n",
            "Epoch 46\n",
            "Loss: 0.037044540792703626\n",
            "Validation Accuracy: 0.4\n",
            "Epoch 47\n",
            "Loss: 0.029734337516129018\n",
            "Validation Accuracy: 0.4\n",
            "Epoch 48\n",
            "Loss: 0.02292023813351989\n",
            "Validation Accuracy: 0.4\n",
            "Epoch 49\n",
            "Loss: 0.023493905644863845\n",
            "Validation Accuracy: 0.4\n",
            "Epoch 50\n",
            "Loss: 0.024748310353606938\n",
            "Validation Accuracy: 0.4\n",
            "Epoch 51\n",
            "Loss: 0.021036187838762998\n",
            "Validation Accuracy: 0.4\n",
            "Epoch 52\n",
            "Loss: 0.022372810542583464\n",
            "Validation Accuracy: 0.4\n",
            "Epoch 53\n",
            "Loss: 0.019341804645955564\n",
            "Validation Accuracy: 0.4\n",
            "Epoch 54\n",
            "Loss: 0.017231868393719197\n",
            "Validation Accuracy: 0.4\n",
            "Epoch 55\n",
            "Loss: 0.019516279641538858\n",
            "Validation Accuracy: 0.4\n",
            "Epoch 56\n",
            "Loss: 0.01806384641677141\n",
            "Validation Accuracy: 0.4\n",
            "Epoch 57\n",
            "Loss: 0.01936781797558069\n",
            "Validation Accuracy: 0.4\n",
            "Epoch 58\n",
            "Loss: 0.019538728147745134\n",
            "Validation Accuracy: 0.4\n",
            "Epoch 59\n",
            "Loss: 0.015309653151780367\n",
            "Validation Accuracy: 0.4\n",
            "Epoch 60\n",
            "Loss: 0.013144233264029026\n",
            "Validation Accuracy: 0.4\n",
            "Epoch 61\n",
            "Loss: 0.01530107082799077\n",
            "Validation Accuracy: 0.4\n",
            "Epoch 62\n",
            "Loss: 0.01584204053506255\n",
            "Validation Accuracy: 0.4\n",
            "Epoch 63\n",
            "Loss: 0.013970214407891035\n",
            "Validation Accuracy: 0.4\n",
            "Epoch 64\n",
            "Loss: 0.012281916663050651\n",
            "Validation Accuracy: 0.4\n",
            "Epoch 65\n",
            "Loss: 0.012181551940739156\n",
            "Validation Accuracy: 0.4\n",
            "Epoch 66\n",
            "Loss: 0.01060676546767354\n",
            "Validation Accuracy: 0.4\n",
            "Epoch 67\n",
            "Loss: 0.010313204769045115\n",
            "Validation Accuracy: 0.4\n",
            "Epoch 68\n",
            "Loss: 0.011014456860721111\n",
            "Validation Accuracy: 0.4\n",
            "Epoch 69\n",
            "Loss: 0.00984468450769782\n",
            "Validation Accuracy: 0.4\n",
            "Epoch 70\n",
            "Loss: 0.011112779937684536\n",
            "Validation Accuracy: 0.4\n",
            "Epoch 71\n",
            "Loss: 0.010051333531737327\n",
            "Validation Accuracy: 0.4\n",
            "Epoch 72\n",
            "Loss: 0.009474627487361432\n",
            "Validation Accuracy: 0.4\n",
            "Epoch 73\n",
            "Loss: 0.008361636335030198\n",
            "Validation Accuracy: 0.4\n",
            "Epoch 74\n",
            "Loss: 0.008753848820924759\n",
            "Validation Accuracy: 0.4\n",
            "Epoch 75\n",
            "Loss: 0.008567404560744762\n",
            "Validation Accuracy: 0.4\n",
            "Epoch 76\n",
            "Loss: 0.009900143509730697\n",
            "Validation Accuracy: 0.4\n",
            "Epoch 77\n",
            "Loss: 0.008642596704885364\n",
            "Validation Accuracy: 0.4\n",
            "Epoch 78\n",
            "Loss: 0.0090126508846879\n",
            "Validation Accuracy: 0.4\n",
            "Epoch 79\n",
            "Loss: 0.008951224479824304\n",
            "Validation Accuracy: 0.4\n",
            "Epoch 80\n",
            "Loss: 0.008659215597435831\n",
            "Validation Accuracy: 0.4\n",
            "Epoch 81\n",
            "Loss: 0.006901830295100808\n",
            "Validation Accuracy: 0.4\n",
            "Epoch 82\n",
            "Loss: 0.007239562086760997\n",
            "Validation Accuracy: 0.4\n",
            "Epoch 83\n",
            "Loss: 0.0072035625576972965\n",
            "Validation Accuracy: 0.4\n",
            "Epoch 84\n",
            "Loss: 0.006839332822710276\n",
            "Validation Accuracy: 0.4\n",
            "Epoch 85\n",
            "Loss: 0.008403531508520246\n",
            "Validation Accuracy: 0.4\n",
            "Epoch 86\n",
            "Loss: 0.007096490589901805\n",
            "Validation Accuracy: 0.4\n",
            "Epoch 87\n",
            "Loss: 0.007218919415026903\n",
            "Validation Accuracy: 0.4\n",
            "Epoch 88\n",
            "Loss: 0.007135542063042522\n",
            "Validation Accuracy: 0.4\n",
            "Epoch 89\n",
            "Loss: 0.007253563404083252\n",
            "Validation Accuracy: 0.4\n",
            "Epoch 90\n",
            "Loss: 0.006699245423078537\n",
            "Validation Accuracy: 0.4\n",
            "Epoch 91\n",
            "Loss: 0.00668552159331739\n",
            "Validation Accuracy: 0.4\n",
            "Epoch 92\n",
            "Loss: 0.008301503118127584\n",
            "Validation Accuracy: 0.4\n",
            "Epoch 93\n",
            "Loss: 0.006605120282620192\n",
            "Validation Accuracy: 0.4\n",
            "Epoch 94\n",
            "Loss: 0.006031654635444283\n",
            "Validation Accuracy: 0.4\n",
            "Epoch 95\n",
            "Loss: 0.006096465513110161\n",
            "Validation Accuracy: 0.4\n",
            "Epoch 96\n",
            "Loss: 0.006318377424031496\n",
            "Validation Accuracy: 0.4\n",
            "Epoch 97\n",
            "Loss: 0.006461196905001998\n",
            "Validation Accuracy: 0.4\n",
            "Epoch 98\n",
            "Loss: 0.005513509595766663\n",
            "Validation Accuracy: 0.4\n",
            "Epoch 99\n",
            "Loss: 0.0053097521886229515\n",
            "Validation Accuracy: 0.4\n",
            "Epoch 100\n",
            "Loss: 0.004873803677037358\n",
            "Validation Accuracy: 0.4\n"
          ]
        }
      ]
    },
    {
      "cell_type": "code",
      "source": [
        "import matplotlib.pyplot as plt\n",
        "# Graficar los valores de loss y accuracy\n",
        "plt.figure(figsize=(15, 5))\n",
        "\n",
        "# Graficar la loss\n",
        "plt.subplot(1, 2, 1)\n",
        "plt.plot(range(epochs), train_losses, label='Train Loss')\n",
        "plt.title('Training Loss')\n",
        "plt.xlabel('Epoch')\n",
        "plt.ylabel('Loss')\n",
        "plt.grid(True)\n",
        "\n",
        "# Graficar la precisión de validación\n",
        "plt.subplot(1, 2, 2)\n",
        "plt.plot(range(epochs), val_accuracies, label='Validation Accuracy')\n",
        "plt.title('Validation Accuracy')\n",
        "plt.xlabel('Epoch')\n",
        "plt.ylabel('Accuracy')\n",
        "plt.grid(True)\n",
        "\n",
        "# Mostrar los gráficos\n",
        "plt.tight_layout()\n",
        "plt.show()"
      ],
      "metadata": {
        "id": "DyfIKFFqU7wa",
        "colab": {
          "base_uri": "https://localhost:8080/",
          "height": 327
        },
        "outputId": "3eff23d4-522a-47c0-d753-326a6562be67"
      },
      "execution_count": 90,
      "outputs": [
        {
          "output_type": "display_data",
          "data": {
            "text/plain": [
              "<Figure size 1500x500 with 2 Axes>"
            ],
            "image/png": "[encoded data removed]"
          },
          "metadata": {}
        }
      ]
    },
    {
      "cell_type": "code",
      "source": [
        "#guardar el modelo\n",
        "\n",
        "model.bert.save_pretrained(\"/content/drive/MyDrive/model/text_classifierM-100-1epoch\")\n",
        "tokenizer.save_pretrained(\"/content/drive/MyDrive/model/text_classifierT-100-1epoch\")\n"
      ],
      "metadata": {
        "id": "qehQJoON2Eju",
        "colab": {
          "base_uri": "https://localhost:8080/"
        },
        "outputId": "157d3085-c2cf-45c6-f23c-396ceb185789"
      },
      "execution_count": 92,
      "outputs": [
        {
          "output_type": "execute_result",
          "data": {
            "text/plain": [
              "('/content/drive/MyDrive/model/text_classifierT-100-1epoch/tokenizer_config.json',\n",
              " '/content/drive/MyDrive/model/text_classifierT-100-1epoch/special_tokens_map.json',\n",
              " '/content/drive/MyDrive/model/text_classifierT-100-1epoch/vocab.txt',\n",
              " '/content/drive/MyDrive/model/text_classifierT-100-1epoch/added_tokens.json',\n",
              " '/content/drive/MyDrive/model/text_classifierT-100-1epoch/tokenizer.json')"
            ]
          },
          "metadata": {},
          "execution_count": 92
        }
      ]
    },
    {
      "cell_type": "code",
      "source": [
        "#hacer predicciones\n",
        "\n",
        "from transformers import pipeline\n",
        "\n",
        "# Cargar el modelo guardado\n",
        "classifier = pipeline(\"text-classification\", model=\"/content/drive/MyDrive/model/text_classifierM-100-1epoch\", tokenizer=\"/content/drive/MyDrive/model/text_classifierT-100-1epoch\", device=0)\n",
        "\n",
        "# Clasificar nuevos textos\n",
        "new_texts = [\n",
        "    \"politicas academicas, Aprobar el Reglamento de Viajes de Estudio que enmarca las actividades de complementación de la formación profesional\",\n",
        "    \"Este documento describe procesos administrativos internos.\"\n",
        "]\n",
        "predictions = classifier(new_texts)\n",
        "print(predictions)\n"
      ],
      "metadata": {
        "id": "ZXPLV24S2Iyk",
        "colab": {
          "base_uri": "https://localhost:8080/"
        },
        "outputId": "6ddffea0-a298-4265-df53-302e8af1d7b5"
      },
      "execution_count": 93,
      "outputs": [
        {
          "output_type": "stream",
          "name": "stdout",
          "text": [
            "[{'label': 'LABEL_4', 'score': 0.9425507187843323}, {'label': 'LABEL_4', 'score': 0.9763853549957275}]\n"
          ]
        }
      ]
    },
    {
      "source": [],
      "cell_type": "code",
      "metadata": {
        "id": "yI8MVWeohx3e"
      },
      "execution_count": null,
      "outputs": []
    },
    {
      "cell_type": "code",
      "source": [
        "from google.colab import drive\n",
        "drive.mount('/content/drive')"
      ],
      "metadata": {
        "colab": {
          "base_uri": "https://localhost:8080/"
        },
        "id": "LRhFcXCS2X_b",
        "outputId": "40eb4b45-e4a0-45af-942e-b6bc3069e290"
      },
      "execution_count": 1,
      "outputs": [
        {
          "output_type": "stream",
          "name": "stdout",
          "text": [
            "Mounted at /content/drive\n"
          ]
        }
      ]
    }
  ]
}